{
  "nbformat": 4,
  "nbformat_minor": 0,
  "metadata": {
    "colab": {
      "name": "linear-systems__example.ipynb",
      "provenance": [],
      "collapsed_sections": [],
      "authorship_tag": "ABX9TyMVyvubADi7clvgOGtAH1Te",
      "include_colab_link": true
    },
    "kernelspec": {
      "name": "python3",
      "display_name": "Python 3"
    },
    "language_info": {
      "name": "python"
    }
  },
  "cells": [
    {
      "cell_type": "markdown",
      "metadata": {
        "id": "view-in-github",
        "colab_type": "text"
      },
      "source": [
        "<a href=\"https://colab.research.google.com/github/KlayClarke/tf--experimentation/blob/main/linear_systems__example.ipynb\" target=\"_parent\"><img src=\"https://colab.research.google.com/assets/colab-badge.svg\" alt=\"Open In Colab\"/></a>"
      ]
    },
    {
      "cell_type": "markdown",
      "source": [
        "## Example Problem\n",
        "\n",
        "The admission fee at a small fair is 1.50 dollars for children and 4.00 dollars for adults. On a certain day, 2200 people enter the fair, and 5050 dollars is collected. How many children and how many adults attended?"
      ],
      "metadata": {
        "id": "zWYsM7-VM_g1"
      }
    },
    {
      "cell_type": "markdown",
      "source": [
        "## x1 + x2 = 2200\n",
        "## 1.5x1 + 4x2 = 5050"
      ],
      "metadata": {
        "id": "z7wEL-_PNnJZ"
      }
    },
    {
      "cell_type": "code",
      "source": [
        "import numpy as np"
      ],
      "metadata": {
        "id": "WSyfgllpOGG8"
      },
      "execution_count": 3,
      "outputs": []
    },
    {
      "cell_type": "code",
      "source": [
        "# create matrices\n",
        "\n",
        "A = np.array([[1,1],[1.5,4]])\n",
        "b = np.array([2200, 5050])"
      ],
      "metadata": {
        "id": "pLA2I5cDNutB"
      },
      "execution_count": 5,
      "outputs": []
    },
    {
      "cell_type": "code",
      "source": [
        "# solve answer\n",
        "\n",
        "np.linalg.solve(A,b)"
      ],
      "metadata": {
        "colab": {
          "base_uri": "https://localhost:8080/"
        },
        "id": "iMUDp15MOTcp",
        "outputId": "e5c7694e-6da0-4ba3-df0a-68660332f1d2"
      },
      "execution_count": 6,
      "outputs": [
        {
          "output_type": "execute_result",
          "data": {
            "text/plain": [
              "array([1500.,  700.])"
            ]
          },
          "metadata": {},
          "execution_count": 6
        }
      ]
    },
    {
      "cell_type": "code",
      "source": [
        "# # 1500 children and 700 adults"
      ],
      "metadata": {
        "id": "lEisQ1bXOVNJ"
      },
      "execution_count": 7,
      "outputs": []
    },
    {
      "cell_type": "code",
      "source": [
        "#BAD WAY BELOW\n",
        "np.linalg.inv(A).dot(b)\n",
        "# This is takes much longer and is less accurate than the method above (np.linalg.solve())"
      ],
      "metadata": {
        "colab": {
          "base_uri": "https://localhost:8080/"
        },
        "id": "3ZFMC-4XOcbW",
        "outputId": "e9e5c378-3f2c-406c-bf44-e4c3c491965b"
      },
      "execution_count": 8,
      "outputs": [
        {
          "output_type": "execute_result",
          "data": {
            "text/plain": [
              "array([1500.,  700.])"
            ]
          },
          "metadata": {},
          "execution_count": 8
        }
      ]
    },
    {
      "cell_type": "code",
      "source": [
        ""
      ],
      "metadata": {
        "id": "JH4cPotVOiZ9"
      },
      "execution_count": null,
      "outputs": []
    }
  ]
}