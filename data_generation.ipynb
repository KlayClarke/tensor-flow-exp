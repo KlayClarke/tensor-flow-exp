{
  "nbformat": 4,
  "nbformat_minor": 0,
  "metadata": {
    "colab": {
      "name": "data_generation.ipynb",
      "provenance": [],
      "collapsed_sections": [],
      "authorship_tag": "ABX9TyOIovJ97dRYIzGK3dkLNdd+",
      "include_colab_link": true
    },
    "kernelspec": {
      "name": "python3",
      "display_name": "Python 3"
    },
    "language_info": {
      "name": "python"
    }
  },
  "cells": [
    {
      "cell_type": "markdown",
      "metadata": {
        "id": "view-in-github",
        "colab_type": "text"
      },
      "source": [
        "<a href=\"https://colab.research.google.com/github/KlayClarke/tf--experimentation/blob/main/data_generation.ipynb\" target=\"_parent\"><img src=\"https://colab.research.google.com/assets/colab-badge.svg\" alt=\"Open In Colab\"/></a>"
      ]
    },
    {
      "cell_type": "markdown",
      "source": [
        "## Generating Data"
      ],
      "metadata": {
        "id": "UEPqGO_RUP1I"
      }
    },
    {
      "cell_type": "code",
      "source": [
        "import numpy as np"
      ],
      "metadata": {
        "id": "FWh9J02dUgGC"
      },
      "execution_count": 39,
      "outputs": []
    },
    {
      "cell_type": "code",
      "execution_count": 40,
      "metadata": {
        "colab": {
          "base_uri": "https://localhost:8080/"
        },
        "id": "bpc8yGCeUOzX",
        "outputId": "21dfc1d1-2360-4511-af6b-a0b0c0540575"
      },
      "outputs": [
        {
          "output_type": "execute_result",
          "data": {
            "text/plain": [
              "array([[0., 0., 0.],\n",
              "       [0., 0., 0.]])"
            ]
          },
          "metadata": {},
          "execution_count": 40
        }
      ],
      "source": [
        "# for a 2 x 3 array with all 0s\n",
        "np.zeros((2,3))"
      ]
    },
    {
      "cell_type": "code",
      "source": [
        "# for a 2 x 3 array with all 1s\n",
        "np.ones((2,3))"
      ],
      "metadata": {
        "colab": {
          "base_uri": "https://localhost:8080/"
        },
        "id": "WEoJffIAUekG",
        "outputId": "fd9e0200-9c1a-42a5-b22e-3878973baa81"
      },
      "execution_count": 41,
      "outputs": [
        {
          "output_type": "execute_result",
          "data": {
            "text/plain": [
              "array([[1., 1., 1.],\n",
              "       [1., 1., 1.]])"
            ]
          },
          "metadata": {},
          "execution_count": 41
        }
      ]
    },
    {
      "cell_type": "code",
      "source": [
        "# for a 2 x 3 array with all 10s\n",
        "10 * np.ones((2,3))"
      ],
      "metadata": {
        "colab": {
          "base_uri": "https://localhost:8080/"
        },
        "id": "tDw-LfTGUr1A",
        "outputId": "ea302366-6a9f-4126-d84d-15ea33e3bd86"
      },
      "execution_count": 42,
      "outputs": [
        {
          "output_type": "execute_result",
          "data": {
            "text/plain": [
              "array([[10., 10., 10.],\n",
              "       [10., 10., 10.]])"
            ]
          },
          "metadata": {},
          "execution_count": 42
        }
      ]
    },
    {
      "cell_type": "code",
      "source": [
        "# for a 3 x 3 identity matrix\n",
        "np.eye(3)"
      ],
      "metadata": {
        "colab": {
          "base_uri": "https://localhost:8080/"
        },
        "id": "4oCy5EQyUyfL",
        "outputId": "3d68dc58-111f-4d59-fbea-b984baeb9b2d"
      },
      "execution_count": 43,
      "outputs": [
        {
          "output_type": "execute_result",
          "data": {
            "text/plain": [
              "array([[1., 0., 0.],\n",
              "       [0., 1., 0.],\n",
              "       [0., 0., 1.]])"
            ]
          },
          "metadata": {},
          "execution_count": 43
        }
      ]
    },
    {
      "cell_type": "code",
      "source": [
        "# for a random num\n",
        "np.random.random()"
      ],
      "metadata": {
        "colab": {
          "base_uri": "https://localhost:8080/"
        },
        "id": "RYllZ4RuVDKr",
        "outputId": "b4134fd6-6741-4ccf-e5f5-fadc45fd2998"
      },
      "execution_count": 44,
      "outputs": [
        {
          "output_type": "execute_result",
          "data": {
            "text/plain": [
              "0.8692131160234365"
            ]
          },
          "metadata": {},
          "execution_count": 44
        }
      ]
    },
    {
      "cell_type": "code",
      "source": [
        "# for a 2 x 3 array with all randoms (notice only positives)\n",
        "np.random.random((2,3))"
      ],
      "metadata": {
        "colab": {
          "base_uri": "https://localhost:8080/"
        },
        "id": "YCn35vgpVUeS",
        "outputId": "5198b5eb-6724-4c8f-917c-b920b408f571"
      },
      "execution_count": 45,
      "outputs": [
        {
          "output_type": "execute_result",
          "data": {
            "text/plain": [
              "array([[0.4350049 , 0.01917634, 0.46595741],\n",
              "       [0.10293902, 0.33835549, 0.02729964]])"
            ]
          },
          "metadata": {},
          "execution_count": 45
        }
      ]
    },
    {
      "cell_type": "code",
      "source": [
        "# for a 2 x 3 array with all randoms (includes negatives)\n",
        "np.random.randn(2,3)"
      ],
      "metadata": {
        "colab": {
          "base_uri": "https://localhost:8080/"
        },
        "id": "QtVFZesPVeDU",
        "outputId": "12c1fc3c-3b5c-4c14-808c-32af9eb21b15"
      },
      "execution_count": 46,
      "outputs": [
        {
          "output_type": "execute_result",
          "data": {
            "text/plain": [
              "array([[ 0.50550243, -1.55691193, -1.45649379],\n",
              "       [-0.7676872 ,  0.54426181,  0.75559229]])"
            ]
          },
          "metadata": {},
          "execution_count": 46
        }
      ]
    },
    {
      "cell_type": "code",
      "source": [
        "# for a random array of 10000 numbers\n",
        "R = np.random.randn(10000)"
      ],
      "metadata": {
        "id": "m5rt76FzVxOl"
      },
      "execution_count": 47,
      "outputs": []
    },
    {
      "cell_type": "code",
      "source": [
        "R"
      ],
      "metadata": {
        "colab": {
          "base_uri": "https://localhost:8080/"
        },
        "id": "1XiMgqGrWCi-",
        "outputId": "065741a0-80df-4625-8b0b-1b1071b175c0"
      },
      "execution_count": 48,
      "outputs": [
        {
          "output_type": "execute_result",
          "data": {
            "text/plain": [
              "array([-0.5008789 ,  0.96287805,  0.56228407, ..., -1.52668007,\n",
              "        0.8092718 , -1.18364385])"
            ]
          },
          "metadata": {},
          "execution_count": 48
        }
      ]
    },
    {
      "cell_type": "code",
      "source": [
        "# mean\n",
        "R.mean()"
      ],
      "metadata": {
        "colab": {
          "base_uri": "https://localhost:8080/"
        },
        "id": "HYg-2HrnWDSW",
        "outputId": "75fae2a8-66db-440d-beb0-8a81d545319b"
      },
      "execution_count": 49,
      "outputs": [
        {
          "output_type": "execute_result",
          "data": {
            "text/plain": [
              "-0.0016267599385549822"
            ]
          },
          "metadata": {},
          "execution_count": 49
        }
      ]
    },
    {
      "cell_type": "code",
      "source": [
        "# mean\n",
        "np.mean(R)"
      ],
      "metadata": {
        "colab": {
          "base_uri": "https://localhost:8080/"
        },
        "id": "xqLsn5Z4WGZ1",
        "outputId": "8c2cfddb-33a3-4b2c-9f3a-2b04c5e84b2b"
      },
      "execution_count": 50,
      "outputs": [
        {
          "output_type": "execute_result",
          "data": {
            "text/plain": [
              "-0.0016267599385549822"
            ]
          },
          "metadata": {},
          "execution_count": 50
        }
      ]
    },
    {
      "cell_type": "code",
      "source": [
        "# variance\n",
        "R.var()"
      ],
      "metadata": {
        "colab": {
          "base_uri": "https://localhost:8080/"
        },
        "id": "L7o24WrCWKe7",
        "outputId": "fa115d03-abfa-42e1-bfa7-8c2feb06e132"
      },
      "execution_count": 51,
      "outputs": [
        {
          "output_type": "execute_result",
          "data": {
            "text/plain": [
              "0.9902387837593296"
            ]
          },
          "metadata": {},
          "execution_count": 51
        }
      ]
    },
    {
      "cell_type": "code",
      "source": [
        "# square root of the variance\n",
        "R.std()"
      ],
      "metadata": {
        "colab": {
          "base_uri": "https://localhost:8080/"
        },
        "id": "5C8NTwv7WMJA",
        "outputId": "a2b5bf9f-5987-45c4-8634-c5b3be7fcee2"
      },
      "execution_count": 52,
      "outputs": [
        {
          "output_type": "execute_result",
          "data": {
            "text/plain": [
              "0.9951074232259197"
            ]
          },
          "metadata": {},
          "execution_count": 52
        }
      ]
    },
    {
      "cell_type": "code",
      "source": [
        "# for a 10000 x 3 array\n",
        "R = np.random.randn(10000,3)"
      ],
      "metadata": {
        "id": "gsjMwn6NWPI1"
      },
      "execution_count": 53,
      "outputs": []
    },
    {
      "cell_type": "code",
      "source": [
        "R"
      ],
      "metadata": {
        "colab": {
          "base_uri": "https://localhost:8080/"
        },
        "id": "syO9__7AWpAd",
        "outputId": "89ed27f8-c2cf-4c80-8cbf-1403a5e4e026"
      },
      "execution_count": 54,
      "outputs": [
        {
          "output_type": "execute_result",
          "data": {
            "text/plain": [
              "array([[ 2.69421418, -0.4892913 , -1.24979176],\n",
              "       [ 1.09413926,  0.83465114,  1.06672597],\n",
              "       [-0.21205359, -3.36472896,  1.40466571],\n",
              "       ...,\n",
              "       [ 1.50691165,  0.19309068, -0.95746697],\n",
              "       [ 1.26852303, -0.22152283,  0.94469865],\n",
              "       [ 1.2104417 ,  0.52567628, -0.2820504 ]])"
            ]
          },
          "metadata": {},
          "execution_count": 54
        }
      ]
    },
    {
      "cell_type": "code",
      "source": [
        "# to calculate mean of each column\n",
        "R.mean(axis=0)"
      ],
      "metadata": {
        "colab": {
          "base_uri": "https://localhost:8080/"
        },
        "id": "IkBAR3d8WpkF",
        "outputId": "b230c37b-d3ae-47d0-c72c-61a2b979ad6f"
      },
      "execution_count": 55,
      "outputs": [
        {
          "output_type": "execute_result",
          "data": {
            "text/plain": [
              "array([ 6.17400819e-05,  1.08923463e-02, -2.52803525e-03])"
            ]
          },
          "metadata": {},
          "execution_count": 55
        }
      ]
    },
    {
      "cell_type": "code",
      "source": [
        "\n",
        "R.mean(axis=1)"
      ],
      "metadata": {
        "colab": {
          "base_uri": "https://localhost:8080/"
        },
        "id": "1SoIsspoW-0N",
        "outputId": "0f22f836-cf77-443c-c6da-9a3da1af4190"
      },
      "execution_count": 56,
      "outputs": [
        {
          "output_type": "execute_result",
          "data": {
            "text/plain": [
              "array([ 0.31837704,  0.99850546, -0.72403895, ...,  0.24751179,\n",
              "        0.66389962,  0.48468919])"
            ]
          },
          "metadata": {},
          "execution_count": 56
        }
      ]
    },
    {
      "cell_type": "code",
      "source": [
        "R.mean(axis=1).shape"
      ],
      "metadata": {
        "colab": {
          "base_uri": "https://localhost:8080/"
        },
        "id": "7-YfhnNmYTNb",
        "outputId": "c62c00ed-dd9b-4582-d809-6bfbdbe42871"
      },
      "execution_count": 57,
      "outputs": [
        {
          "output_type": "execute_result",
          "data": {
            "text/plain": [
              "(10000,)"
            ]
          },
          "metadata": {},
          "execution_count": 57
        }
      ]
    },
    {
      "cell_type": "code",
      "source": [
        "# covariance\n",
        "np.cov(R)"
      ],
      "metadata": {
        "colab": {
          "base_uri": "https://localhost:8080/"
        },
        "id": "bAGOcCAVYTob",
        "outputId": "a83f4b2e-ffae-4262-a7bb-ddb0dcb446fc"
      },
      "execution_count": 58,
      "outputs": [
        {
          "output_type": "execute_result",
          "data": {
            "text/plain": [
              "array([[ 4.37804183e+00,  1.26284504e-01,  5.51365030e-03, ...,\n",
              "         2.46284664e+00,  8.55637076e-01,  1.44677145e+00],\n",
              "       [ 1.26284504e-01,  2.03240498e-02,  3.13436442e-01, ...,\n",
              "         2.35770327e-02,  1.11029490e-01,  5.19159703e-03],\n",
              "       [ 5.51365030e-03,  3.13436442e-01,  5.88337815e+00, ...,\n",
              "        -8.88270164e-01,  1.62271138e+00, -6.84410843e-01],\n",
              "       ...,\n",
              "       [ 2.46284664e+00,  2.35770327e-02, -8.88270164e-01, ...,\n",
              "         1.52051174e+00,  2.35645723e-01,  9.17843487e-01],\n",
              "       [ 8.55637076e-01,  1.11029490e-01,  1.62271138e+00, ...,\n",
              "         2.35645723e-01,  6.14195240e-01,  9.36081668e-02],\n",
              "       [ 1.44677145e+00,  5.19159703e-03, -6.84410843e-01, ...,\n",
              "         9.17843487e-01,  9.36081668e-02,  5.58143126e-01]])"
            ]
          },
          "metadata": {},
          "execution_count": 58
        }
      ]
    },
    {
      "cell_type": "code",
      "source": [
        "np.cov(R).shape"
      ],
      "metadata": {
        "colab": {
          "base_uri": "https://localhost:8080/"
        },
        "id": "CHBYyhmVZEL1",
        "outputId": "1d403976-4fd2-4bc1-cef3-51e10f61079e"
      },
      "execution_count": 59,
      "outputs": [
        {
          "output_type": "execute_result",
          "data": {
            "text/plain": [
              "(10000, 10000)"
            ]
          },
          "metadata": {},
          "execution_count": 59
        }
      ]
    },
    {
      "cell_type": "code",
      "source": [
        "np.cov(R.T)"
      ],
      "metadata": {
        "colab": {
          "base_uri": "https://localhost:8080/"
        },
        "id": "N0pATMnhZQae",
        "outputId": "b9518cc0-b559-4fc4-f833-c4902cc57e38"
      },
      "execution_count": 60,
      "outputs": [
        {
          "output_type": "execute_result",
          "data": {
            "text/plain": [
              "array([[ 1.01265576e+00, -1.32440740e-02, -1.25775184e-02],\n",
              "       [-1.32440740e-02,  1.00254492e+00,  7.10317400e-05],\n",
              "       [-1.25775184e-02,  7.10317400e-05,  1.01304594e+00]])"
            ]
          },
          "metadata": {},
          "execution_count": 60
        }
      ]
    },
    {
      "cell_type": "code",
      "source": [
        "np.cov(R, rowvar=False)"
      ],
      "metadata": {
        "colab": {
          "base_uri": "https://localhost:8080/"
        },
        "id": "7Rrsq1kOZYfg",
        "outputId": "d943803a-30df-4c3c-a0a3-766d533d4523"
      },
      "execution_count": 61,
      "outputs": [
        {
          "output_type": "execute_result",
          "data": {
            "text/plain": [
              "array([[ 1.01265576e+00, -1.32440740e-02, -1.25775184e-02],\n",
              "       [-1.32440740e-02,  1.00254492e+00,  7.10317400e-05],\n",
              "       [-1.25775184e-02,  7.10317400e-05,  1.01304594e+00]])"
            ]
          },
          "metadata": {},
          "execution_count": 61
        }
      ]
    },
    {
      "cell_type": "code",
      "source": [
        "# for 3 x 3 array with random ints from 0 to 10\n",
        "np.random.randint(0,10,size=(3,3))"
      ],
      "metadata": {
        "colab": {
          "base_uri": "https://localhost:8080/"
        },
        "id": "M_5FI7JxZenY",
        "outputId": "213dfacf-942a-4fc6-bdb9-413af7785bcd"
      },
      "execution_count": 62,
      "outputs": [
        {
          "output_type": "execute_result",
          "data": {
            "text/plain": [
              "array([[1, 8, 4],\n",
              "       [0, 5, 5],\n",
              "       [3, 8, 1]])"
            ]
          },
          "metadata": {},
          "execution_count": 62
        }
      ]
    },
    {
      "cell_type": "code",
      "source": [
        "# for 3 x 3 array with random ints from 0 to 10\n",
        "np.random.choice(10, size=(3,3))"
      ],
      "metadata": {
        "colab": {
          "base_uri": "https://localhost:8080/"
        },
        "id": "WvoiU4BrZ8DC",
        "outputId": "8021bbd4-573b-406a-c73d-eec53c8d9f29"
      },
      "execution_count": 63,
      "outputs": [
        {
          "output_type": "execute_result",
          "data": {
            "text/plain": [
              "array([[0, 5, 7],\n",
              "       [9, 6, 0],\n",
              "       [8, 5, 1]])"
            ]
          },
          "metadata": {},
          "execution_count": 63
        }
      ]
    },
    {
      "cell_type": "code",
      "source": [
        ""
      ],
      "metadata": {
        "id": "DBmg1VndaXoi"
      },
      "execution_count": 63,
      "outputs": []
    }
  ]
}