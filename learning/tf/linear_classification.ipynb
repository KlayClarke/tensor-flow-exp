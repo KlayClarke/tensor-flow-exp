{
  "nbformat": 4,
  "nbformat_minor": 0,
  "metadata": {
    "colab": {
      "name": "linear_classification.ipynb",
      "provenance": [],
      "collapsed_sections": [],
      "authorship_tag": "ABX9TyPG4LhM+hoBu/CTgiqU8yPv",
      "include_colab_link": true
    },
    "kernelspec": {
      "name": "python3",
      "display_name": "Python 3"
    },
    "language_info": {
      "name": "python"
    }
  },
  "cells": [
    {
      "cell_type": "markdown",
      "metadata": {
        "id": "view-in-github",
        "colab_type": "text"
      },
      "source": [
        "<a href=\"https://colab.research.google.com/github/KlayClarke/tf--experimentation/blob/main/learning/tf/linear_classification.ipynb\" target=\"_parent\"><img src=\"https://colab.research.google.com/assets/colab-badge.svg\" alt=\"Open In Colab\"/></a>"
      ]
    },
    {
      "cell_type": "code",
      "execution_count": 27,
      "metadata": {
        "colab": {
          "base_uri": "https://localhost:8080/"
        },
        "id": "67aujHRWbstp",
        "outputId": "0c487786-dbb3-4481-914a-5ebfd8f39c09"
      },
      "outputs": [
        {
          "output_type": "stream",
          "name": "stdout",
          "text": [
            "2.8.0\n"
          ]
        }
      ],
      "source": [
        "# install and import tensorflow\n",
        "!pip install -q tensorflow\n",
        "import tensorflow as tf\n",
        "print(tf.__version__)"
      ]
    },
    {
      "cell_type": "code",
      "source": [
        "# load data\n",
        "from sklearn.datasets import load_breast_cancer\n",
        "data = load_breast_cancer()\n",
        "data"
      ],
      "metadata": {
        "colab": {
          "base_uri": "https://localhost:8080/"
        },
        "id": "vRov2Ldbb02j",
        "outputId": "1fadf044-3171-4250-c65f-e35bc0f7f4ef"
      },
      "execution_count": 28,
      "outputs": [
        {
          "output_type": "execute_result",
          "data": {
            "text/plain": [
              "{'DESCR': '.. _breast_cancer_dataset:\\n\\nBreast cancer wisconsin (diagnostic) dataset\\n--------------------------------------------\\n\\n**Data Set Characteristics:**\\n\\n    :Number of Instances: 569\\n\\n    :Number of Attributes: 30 numeric, predictive attributes and the class\\n\\n    :Attribute Information:\\n        - radius (mean of distances from center to points on the perimeter)\\n        - texture (standard deviation of gray-scale values)\\n        - perimeter\\n        - area\\n        - smoothness (local variation in radius lengths)\\n        - compactness (perimeter^2 / area - 1.0)\\n        - concavity (severity of concave portions of the contour)\\n        - concave points (number of concave portions of the contour)\\n        - symmetry\\n        - fractal dimension (\"coastline approximation\" - 1)\\n\\n        The mean, standard error, and \"worst\" or largest (mean of the three\\n        worst/largest values) of these features were computed for each image,\\n        resulting in 30 features.  For instance, field 0 is Mean Radius, field\\n        10 is Radius SE, field 20 is Worst Radius.\\n\\n        - class:\\n                - WDBC-Malignant\\n                - WDBC-Benign\\n\\n    :Summary Statistics:\\n\\n    ===================================== ====== ======\\n                                           Min    Max\\n    ===================================== ====== ======\\n    radius (mean):                        6.981  28.11\\n    texture (mean):                       9.71   39.28\\n    perimeter (mean):                     43.79  188.5\\n    area (mean):                          143.5  2501.0\\n    smoothness (mean):                    0.053  0.163\\n    compactness (mean):                   0.019  0.345\\n    concavity (mean):                     0.0    0.427\\n    concave points (mean):                0.0    0.201\\n    symmetry (mean):                      0.106  0.304\\n    fractal dimension (mean):             0.05   0.097\\n    radius (standard error):              0.112  2.873\\n    texture (standard error):             0.36   4.885\\n    perimeter (standard error):           0.757  21.98\\n    area (standard error):                6.802  542.2\\n    smoothness (standard error):          0.002  0.031\\n    compactness (standard error):         0.002  0.135\\n    concavity (standard error):           0.0    0.396\\n    concave points (standard error):      0.0    0.053\\n    symmetry (standard error):            0.008  0.079\\n    fractal dimension (standard error):   0.001  0.03\\n    radius (worst):                       7.93   36.04\\n    texture (worst):                      12.02  49.54\\n    perimeter (worst):                    50.41  251.2\\n    area (worst):                         185.2  4254.0\\n    smoothness (worst):                   0.071  0.223\\n    compactness (worst):                  0.027  1.058\\n    concavity (worst):                    0.0    1.252\\n    concave points (worst):               0.0    0.291\\n    symmetry (worst):                     0.156  0.664\\n    fractal dimension (worst):            0.055  0.208\\n    ===================================== ====== ======\\n\\n    :Missing Attribute Values: None\\n\\n    :Class Distribution: 212 - Malignant, 357 - Benign\\n\\n    :Creator:  Dr. William H. Wolberg, W. Nick Street, Olvi L. Mangasarian\\n\\n    :Donor: Nick Street\\n\\n    :Date: November, 1995\\n\\nThis is a copy of UCI ML Breast Cancer Wisconsin (Diagnostic) datasets.\\nhttps://goo.gl/U2Uwz2\\n\\nFeatures are computed from a digitized image of a fine needle\\naspirate (FNA) of a breast mass.  They describe\\ncharacteristics of the cell nuclei present in the image.\\n\\nSeparating plane described above was obtained using\\nMultisurface Method-Tree (MSM-T) [K. P. Bennett, \"Decision Tree\\nConstruction Via Linear Programming.\" Proceedings of the 4th\\nMidwest Artificial Intelligence and Cognitive Science Society,\\npp. 97-101, 1992], a classification method which uses linear\\nprogramming to construct a decision tree.  Relevant features\\nwere selected using an exhaustive search in the space of 1-4\\nfeatures and 1-3 separating planes.\\n\\nThe actual linear program used to obtain the separating plane\\nin the 3-dimensional space is that described in:\\n[K. P. Bennett and O. L. Mangasarian: \"Robust Linear\\nProgramming Discrimination of Two Linearly Inseparable Sets\",\\nOptimization Methods and Software 1, 1992, 23-34].\\n\\nThis database is also available through the UW CS ftp server:\\n\\nftp ftp.cs.wisc.edu\\ncd math-prog/cpo-dataset/machine-learn/WDBC/\\n\\n.. topic:: References\\n\\n   - W.N. Street, W.H. Wolberg and O.L. Mangasarian. Nuclear feature extraction \\n     for breast tumor diagnosis. IS&T/SPIE 1993 International Symposium on \\n     Electronic Imaging: Science and Technology, volume 1905, pages 861-870,\\n     San Jose, CA, 1993.\\n   - O.L. Mangasarian, W.N. Street and W.H. Wolberg. Breast cancer diagnosis and \\n     prognosis via linear programming. Operations Research, 43(4), pages 570-577, \\n     July-August 1995.\\n   - W.H. Wolberg, W.N. Street, and O.L. Mangasarian. Machine learning techniques\\n     to diagnose breast cancer from fine-needle aspirates. Cancer Letters 77 (1994) \\n     163-171.',\n",
              " 'data': array([[1.799e+01, 1.038e+01, 1.228e+02, ..., 2.654e-01, 4.601e-01,\n",
              "         1.189e-01],\n",
              "        [2.057e+01, 1.777e+01, 1.329e+02, ..., 1.860e-01, 2.750e-01,\n",
              "         8.902e-02],\n",
              "        [1.969e+01, 2.125e+01, 1.300e+02, ..., 2.430e-01, 3.613e-01,\n",
              "         8.758e-02],\n",
              "        ...,\n",
              "        [1.660e+01, 2.808e+01, 1.083e+02, ..., 1.418e-01, 2.218e-01,\n",
              "         7.820e-02],\n",
              "        [2.060e+01, 2.933e+01, 1.401e+02, ..., 2.650e-01, 4.087e-01,\n",
              "         1.240e-01],\n",
              "        [7.760e+00, 2.454e+01, 4.792e+01, ..., 0.000e+00, 2.871e-01,\n",
              "         7.039e-02]]),\n",
              " 'data_module': 'sklearn.datasets.data',\n",
              " 'feature_names': array(['mean radius', 'mean texture', 'mean perimeter', 'mean area',\n",
              "        'mean smoothness', 'mean compactness', 'mean concavity',\n",
              "        'mean concave points', 'mean symmetry', 'mean fractal dimension',\n",
              "        'radius error', 'texture error', 'perimeter error', 'area error',\n",
              "        'smoothness error', 'compactness error', 'concavity error',\n",
              "        'concave points error', 'symmetry error',\n",
              "        'fractal dimension error', 'worst radius', 'worst texture',\n",
              "        'worst perimeter', 'worst area', 'worst smoothness',\n",
              "        'worst compactness', 'worst concavity', 'worst concave points',\n",
              "        'worst symmetry', 'worst fractal dimension'], dtype='<U23'),\n",
              " 'filename': 'breast_cancer.csv',\n",
              " 'frame': None,\n",
              " 'target': array([0, 0, 0, 0, 0, 0, 0, 0, 0, 0, 0, 0, 0, 0, 0, 0, 0, 0, 0, 1, 1, 1,\n",
              "        0, 0, 0, 0, 0, 0, 0, 0, 0, 0, 0, 0, 0, 0, 0, 1, 0, 0, 0, 0, 0, 0,\n",
              "        0, 0, 1, 0, 1, 1, 1, 1, 1, 0, 0, 1, 0, 0, 1, 1, 1, 1, 0, 1, 0, 0,\n",
              "        1, 1, 1, 1, 0, 1, 0, 0, 1, 0, 1, 0, 0, 1, 1, 1, 0, 0, 1, 0, 0, 0,\n",
              "        1, 1, 1, 0, 1, 1, 0, 0, 1, 1, 1, 0, 0, 1, 1, 1, 1, 0, 1, 1, 0, 1,\n",
              "        1, 1, 1, 1, 1, 1, 1, 0, 0, 0, 1, 0, 0, 1, 1, 1, 0, 0, 1, 0, 1, 0,\n",
              "        0, 1, 0, 0, 1, 1, 0, 1, 1, 0, 1, 1, 1, 1, 0, 1, 1, 1, 1, 1, 1, 1,\n",
              "        1, 1, 0, 1, 1, 1, 1, 0, 0, 1, 0, 1, 1, 0, 0, 1, 1, 0, 0, 1, 1, 1,\n",
              "        1, 0, 1, 1, 0, 0, 0, 1, 0, 1, 0, 1, 1, 1, 0, 1, 1, 0, 0, 1, 0, 0,\n",
              "        0, 0, 1, 0, 0, 0, 1, 0, 1, 0, 1, 1, 0, 1, 0, 0, 0, 0, 1, 1, 0, 0,\n",
              "        1, 1, 1, 0, 1, 1, 1, 1, 1, 0, 0, 1, 1, 0, 1, 1, 0, 0, 1, 0, 1, 1,\n",
              "        1, 1, 0, 1, 1, 1, 1, 1, 0, 1, 0, 0, 0, 0, 0, 0, 0, 0, 0, 0, 0, 0,\n",
              "        0, 0, 1, 1, 1, 1, 1, 1, 0, 1, 0, 1, 1, 0, 1, 1, 0, 1, 0, 0, 1, 1,\n",
              "        1, 1, 1, 1, 1, 1, 1, 1, 1, 1, 1, 0, 1, 1, 0, 1, 0, 1, 1, 1, 1, 1,\n",
              "        1, 1, 1, 1, 1, 1, 1, 1, 1, 0, 1, 1, 1, 0, 1, 0, 1, 1, 1, 1, 0, 0,\n",
              "        0, 1, 1, 1, 1, 0, 1, 0, 1, 0, 1, 1, 1, 0, 1, 1, 1, 1, 1, 1, 1, 0,\n",
              "        0, 0, 1, 1, 1, 1, 1, 1, 1, 1, 1, 1, 1, 0, 0, 1, 0, 0, 0, 1, 0, 0,\n",
              "        1, 1, 1, 1, 1, 0, 1, 1, 1, 1, 1, 0, 1, 1, 1, 0, 1, 1, 0, 0, 1, 1,\n",
              "        1, 1, 1, 1, 0, 1, 1, 1, 1, 1, 1, 1, 0, 1, 1, 1, 1, 1, 0, 1, 1, 0,\n",
              "        1, 1, 1, 1, 1, 1, 1, 1, 1, 1, 1, 1, 0, 1, 0, 0, 1, 0, 1, 1, 1, 1,\n",
              "        1, 0, 1, 1, 0, 1, 0, 1, 1, 0, 1, 0, 1, 1, 1, 1, 1, 1, 1, 1, 0, 0,\n",
              "        1, 1, 1, 1, 1, 1, 0, 1, 1, 1, 1, 1, 1, 1, 1, 1, 1, 0, 1, 1, 1, 1,\n",
              "        1, 1, 1, 0, 1, 0, 1, 1, 0, 1, 1, 1, 1, 1, 0, 0, 1, 0, 1, 0, 1, 1,\n",
              "        1, 1, 1, 0, 1, 1, 0, 1, 0, 1, 0, 0, 1, 1, 1, 0, 1, 1, 1, 1, 1, 1,\n",
              "        1, 1, 1, 1, 1, 0, 1, 0, 0, 1, 1, 1, 1, 1, 1, 1, 1, 1, 1, 1, 1, 1,\n",
              "        1, 1, 1, 1, 1, 1, 1, 1, 1, 1, 1, 1, 0, 0, 0, 0, 0, 0, 1]),\n",
              " 'target_names': array(['malignant', 'benign'], dtype='<U9')}"
            ]
          },
          "metadata": {},
          "execution_count": 28
        }
      ]
    },
    {
      "cell_type": "code",
      "source": [
        "# check type of data (bunch acts a dict where you can treat keys like attributes)\n",
        "type(data)"
      ],
      "metadata": {
        "colab": {
          "base_uri": "https://localhost:8080/"
        },
        "id": "b3KFYdbWcfhv",
        "outputId": "11c2ff45-6709-46e4-839f-f204cb78e0ac"
      },
      "execution_count": 29,
      "outputs": [
        {
          "output_type": "execute_result",
          "data": {
            "text/plain": [
              "sklearn.utils.Bunch"
            ]
          },
          "metadata": {},
          "execution_count": 29
        }
      ]
    },
    {
      "cell_type": "code",
      "source": [
        "data.keys()"
      ],
      "metadata": {
        "colab": {
          "base_uri": "https://localhost:8080/"
        },
        "id": "JkGhCkFSclU3",
        "outputId": "a67b5524-ceca-4546-ebac-2a3fd906f506"
      },
      "execution_count": 30,
      "outputs": [
        {
          "output_type": "execute_result",
          "data": {
            "text/plain": [
              "dict_keys(['data', 'target', 'frame', 'target_names', 'DESCR', 'feature_names', 'filename', 'data_module'])"
            ]
          },
          "metadata": {},
          "execution_count": 30
        }
      ]
    },
    {
      "cell_type": "code",
      "source": [
        "# check shape of x\n",
        "data.data.shape"
      ],
      "metadata": {
        "colab": {
          "base_uri": "https://localhost:8080/"
        },
        "id": "5PBYZDNzd3oP",
        "outputId": "5b855a91-2233-4a5b-a636-a34bf8a83342"
      },
      "execution_count": 31,
      "outputs": [
        {
          "output_type": "execute_result",
          "data": {
            "text/plain": [
              "(569, 30)"
            ]
          },
          "metadata": {},
          "execution_count": 31
        }
      ]
    },
    {
      "cell_type": "code",
      "source": [
        "data.target"
      ],
      "metadata": {
        "colab": {
          "base_uri": "https://localhost:8080/"
        },
        "id": "XqrTq_m1d9_k",
        "outputId": "18fb3256-a573-41e9-8d35-892af4aa6fff"
      },
      "execution_count": 32,
      "outputs": [
        {
          "output_type": "execute_result",
          "data": {
            "text/plain": [
              "array([0, 0, 0, 0, 0, 0, 0, 0, 0, 0, 0, 0, 0, 0, 0, 0, 0, 0, 0, 1, 1, 1,\n",
              "       0, 0, 0, 0, 0, 0, 0, 0, 0, 0, 0, 0, 0, 0, 0, 1, 0, 0, 0, 0, 0, 0,\n",
              "       0, 0, 1, 0, 1, 1, 1, 1, 1, 0, 0, 1, 0, 0, 1, 1, 1, 1, 0, 1, 0, 0,\n",
              "       1, 1, 1, 1, 0, 1, 0, 0, 1, 0, 1, 0, 0, 1, 1, 1, 0, 0, 1, 0, 0, 0,\n",
              "       1, 1, 1, 0, 1, 1, 0, 0, 1, 1, 1, 0, 0, 1, 1, 1, 1, 0, 1, 1, 0, 1,\n",
              "       1, 1, 1, 1, 1, 1, 1, 0, 0, 0, 1, 0, 0, 1, 1, 1, 0, 0, 1, 0, 1, 0,\n",
              "       0, 1, 0, 0, 1, 1, 0, 1, 1, 0, 1, 1, 1, 1, 0, 1, 1, 1, 1, 1, 1, 1,\n",
              "       1, 1, 0, 1, 1, 1, 1, 0, 0, 1, 0, 1, 1, 0, 0, 1, 1, 0, 0, 1, 1, 1,\n",
              "       1, 0, 1, 1, 0, 0, 0, 1, 0, 1, 0, 1, 1, 1, 0, 1, 1, 0, 0, 1, 0, 0,\n",
              "       0, 0, 1, 0, 0, 0, 1, 0, 1, 0, 1, 1, 0, 1, 0, 0, 0, 0, 1, 1, 0, 0,\n",
              "       1, 1, 1, 0, 1, 1, 1, 1, 1, 0, 0, 1, 1, 0, 1, 1, 0, 0, 1, 0, 1, 1,\n",
              "       1, 1, 0, 1, 1, 1, 1, 1, 0, 1, 0, 0, 0, 0, 0, 0, 0, 0, 0, 0, 0, 0,\n",
              "       0, 0, 1, 1, 1, 1, 1, 1, 0, 1, 0, 1, 1, 0, 1, 1, 0, 1, 0, 0, 1, 1,\n",
              "       1, 1, 1, 1, 1, 1, 1, 1, 1, 1, 1, 0, 1, 1, 0, 1, 0, 1, 1, 1, 1, 1,\n",
              "       1, 1, 1, 1, 1, 1, 1, 1, 1, 0, 1, 1, 1, 0, 1, 0, 1, 1, 1, 1, 0, 0,\n",
              "       0, 1, 1, 1, 1, 0, 1, 0, 1, 0, 1, 1, 1, 0, 1, 1, 1, 1, 1, 1, 1, 0,\n",
              "       0, 0, 1, 1, 1, 1, 1, 1, 1, 1, 1, 1, 1, 0, 0, 1, 0, 0, 0, 1, 0, 0,\n",
              "       1, 1, 1, 1, 1, 0, 1, 1, 1, 1, 1, 0, 1, 1, 1, 0, 1, 1, 0, 0, 1, 1,\n",
              "       1, 1, 1, 1, 0, 1, 1, 1, 1, 1, 1, 1, 0, 1, 1, 1, 1, 1, 0, 1, 1, 0,\n",
              "       1, 1, 1, 1, 1, 1, 1, 1, 1, 1, 1, 1, 0, 1, 0, 0, 1, 0, 1, 1, 1, 1,\n",
              "       1, 0, 1, 1, 0, 1, 0, 1, 1, 0, 1, 0, 1, 1, 1, 1, 1, 1, 1, 1, 0, 0,\n",
              "       1, 1, 1, 1, 1, 1, 0, 1, 1, 1, 1, 1, 1, 1, 1, 1, 1, 0, 1, 1, 1, 1,\n",
              "       1, 1, 1, 0, 1, 0, 1, 1, 0, 1, 1, 1, 1, 1, 0, 0, 1, 0, 1, 0, 1, 1,\n",
              "       1, 1, 1, 0, 1, 1, 0, 1, 0, 1, 0, 0, 1, 1, 1, 0, 1, 1, 1, 1, 1, 1,\n",
              "       1, 1, 1, 1, 1, 0, 1, 0, 0, 1, 1, 1, 1, 1, 1, 1, 1, 1, 1, 1, 1, 1,\n",
              "       1, 1, 1, 1, 1, 1, 1, 1, 1, 1, 1, 1, 0, 0, 0, 0, 0, 0, 1])"
            ]
          },
          "metadata": {},
          "execution_count": 32
        }
      ]
    },
    {
      "cell_type": "code",
      "source": [
        "data.target_names"
      ],
      "metadata": {
        "colab": {
          "base_uri": "https://localhost:8080/"
        },
        "id": "9wE3CnNseMx2",
        "outputId": "45175e71-091c-4e1a-e337-ee4c0e916243"
      },
      "execution_count": 33,
      "outputs": [
        {
          "output_type": "execute_result",
          "data": {
            "text/plain": [
              "array(['malignant', 'benign'], dtype='<U9')"
            ]
          },
          "metadata": {},
          "execution_count": 33
        }
      ]
    },
    {
      "cell_type": "code",
      "source": [
        "data.target.shape"
      ],
      "metadata": {
        "colab": {
          "base_uri": "https://localhost:8080/"
        },
        "id": "my6ONf93ee2F",
        "outputId": "51d44937-91c6-4fd6-822d-f88ab958f656"
      },
      "execution_count": 34,
      "outputs": [
        {
          "output_type": "execute_result",
          "data": {
            "text/plain": [
              "(569,)"
            ]
          },
          "metadata": {},
          "execution_count": 34
        }
      ]
    },
    {
      "cell_type": "code",
      "source": [
        "data.feature_names"
      ],
      "metadata": {
        "colab": {
          "base_uri": "https://localhost:8080/"
        },
        "id": "0HF2aMOnelxr",
        "outputId": "6e110328-6126-47e8-9474-6694f008215b"
      },
      "execution_count": 35,
      "outputs": [
        {
          "output_type": "execute_result",
          "data": {
            "text/plain": [
              "array(['mean radius', 'mean texture', 'mean perimeter', 'mean area',\n",
              "       'mean smoothness', 'mean compactness', 'mean concavity',\n",
              "       'mean concave points', 'mean symmetry', 'mean fractal dimension',\n",
              "       'radius error', 'texture error', 'perimeter error', 'area error',\n",
              "       'smoothness error', 'compactness error', 'concavity error',\n",
              "       'concave points error', 'symmetry error',\n",
              "       'fractal dimension error', 'worst radius', 'worst texture',\n",
              "       'worst perimeter', 'worst area', 'worst smoothness',\n",
              "       'worst compactness', 'worst concavity', 'worst concave points',\n",
              "       'worst symmetry', 'worst fractal dimension'], dtype='<U23')"
            ]
          },
          "metadata": {},
          "execution_count": 35
        }
      ]
    },
    {
      "cell_type": "code",
      "source": [
        "from sklearn.model_selection import train_test_split"
      ],
      "metadata": {
        "id": "zdvjWJD7esp9"
      },
      "execution_count": 36,
      "outputs": []
    },
    {
      "cell_type": "code",
      "source": [
        "# split data into train and test sets\n",
        "# this lets us simulate future data\n",
        "\n",
        "X_train, X_test, y_train, y_test = train_test_split(data.data, data.target, test_size=.33)\n",
        "N, D = X_train.shape"
      ],
      "metadata": {
        "id": "rKIbWkjte4Fe"
      },
      "execution_count": 37,
      "outputs": []
    },
    {
      "cell_type": "code",
      "source": [
        "# scale the data (standardization)\n",
        "from sklearn.preprocessing import StandardScaler\n",
        "\n",
        "scaler = StandardScaler()\n",
        "X_train = scaler.fit_transform(X_train)\n",
        "\n",
        "# import not to expose any test data to training pipeline\n",
        "X_test = scaler.transform(X_test) "
      ],
      "metadata": {
        "id": "y0tC0fjwg5Dx"
      },
      "execution_count": 38,
      "outputs": []
    },
    {
      "cell_type": "code",
      "source": [
        "# build the tensorflow model\n",
        "\n",
        "model = tf.keras.models.Sequential([\n",
        "                                    tf.keras.layers.Input(shape=(D,)),\n",
        "                                    tf.keras.layers.Dense(1, activation=\"sigmoid\")\n",
        "])\n",
        "\n",
        "# or\n",
        "\n",
        "model = tf.keras.models.Sequential()\n",
        "model.add(tf.keras.layers.Dense(1, input_shape=(D,), activation=\"sigmoid\"))"
      ],
      "metadata": {
        "id": "0ScDxmVAhOgb"
      },
      "execution_count": 39,
      "outputs": []
    },
    {
      "cell_type": "code",
      "source": [
        "model.compile(optimizer=\"adam\",\n",
        "              loss=\"binary_crossentropy\",\n",
        "              metrics=[\"accuracy\"])"
      ],
      "metadata": {
        "id": "9iWyJwLsi9Te"
      },
      "execution_count": 40,
      "outputs": []
    },
    {
      "cell_type": "code",
      "source": [
        "# train the model\n",
        "\n",
        "r = model.fit(X_train, y_train, validation_data=(X_test, y_test), epochs=100)"
      ],
      "metadata": {
        "colab": {
          "base_uri": "https://localhost:8080/"
        },
        "id": "WijBY519kS-W",
        "outputId": "cbdbd96c-e3c9-457a-ec54-0766ee84ee8d"
      },
      "execution_count": 41,
      "outputs": [
        {
          "output_type": "stream",
          "name": "stdout",
          "text": [
            "Epoch 1/100\n",
            "12/12 [==============================] - 1s 17ms/step - loss: 0.7820 - accuracy: 0.5932 - val_loss: 0.7513 - val_accuracy: 0.6223\n",
            "Epoch 2/100\n",
            "12/12 [==============================] - 0s 6ms/step - loss: 0.7240 - accuracy: 0.6325 - val_loss: 0.7010 - val_accuracy: 0.6596\n",
            "Epoch 3/100\n",
            "12/12 [==============================] - 0s 7ms/step - loss: 0.6717 - accuracy: 0.6614 - val_loss: 0.6572 - val_accuracy: 0.6968\n",
            "Epoch 4/100\n",
            "12/12 [==============================] - 0s 8ms/step - loss: 0.6282 - accuracy: 0.6955 - val_loss: 0.6175 - val_accuracy: 0.7128\n",
            "Epoch 5/100\n",
            "12/12 [==============================] - 0s 8ms/step - loss: 0.5879 - accuracy: 0.7297 - val_loss: 0.5830 - val_accuracy: 0.7340\n",
            "Epoch 6/100\n",
            "12/12 [==============================] - 0s 4ms/step - loss: 0.5532 - accuracy: 0.7428 - val_loss: 0.5520 - val_accuracy: 0.7500\n",
            "Epoch 7/100\n",
            "12/12 [==============================] - 0s 4ms/step - loss: 0.5215 - accuracy: 0.7612 - val_loss: 0.5244 - val_accuracy: 0.7713\n",
            "Epoch 8/100\n",
            "12/12 [==============================] - 0s 4ms/step - loss: 0.4938 - accuracy: 0.7822 - val_loss: 0.4989 - val_accuracy: 0.7819\n",
            "Epoch 9/100\n",
            "12/12 [==============================] - 0s 5ms/step - loss: 0.4682 - accuracy: 0.8058 - val_loss: 0.4757 - val_accuracy: 0.8191\n",
            "Epoch 10/100\n",
            "12/12 [==============================] - 0s 4ms/step - loss: 0.4451 - accuracy: 0.8163 - val_loss: 0.4546 - val_accuracy: 0.8298\n",
            "Epoch 11/100\n",
            "12/12 [==============================] - 0s 5ms/step - loss: 0.4237 - accuracy: 0.8241 - val_loss: 0.4355 - val_accuracy: 0.8404\n",
            "Epoch 12/100\n",
            "12/12 [==============================] - 0s 6ms/step - loss: 0.4048 - accuracy: 0.8320 - val_loss: 0.4175 - val_accuracy: 0.8511\n",
            "Epoch 13/100\n",
            "12/12 [==============================] - 0s 5ms/step - loss: 0.3867 - accuracy: 0.8478 - val_loss: 0.4015 - val_accuracy: 0.8617\n",
            "Epoch 14/100\n",
            "12/12 [==============================] - 0s 17ms/step - loss: 0.3704 - accuracy: 0.8661 - val_loss: 0.3869 - val_accuracy: 0.8777\n",
            "Epoch 15/100\n",
            "12/12 [==============================] - 0s 7ms/step - loss: 0.3558 - accuracy: 0.8688 - val_loss: 0.3727 - val_accuracy: 0.8830\n",
            "Epoch 16/100\n",
            "12/12 [==============================] - 0s 8ms/step - loss: 0.3422 - accuracy: 0.8819 - val_loss: 0.3595 - val_accuracy: 0.8883\n",
            "Epoch 17/100\n",
            "12/12 [==============================] - 0s 9ms/step - loss: 0.3291 - accuracy: 0.8819 - val_loss: 0.3477 - val_accuracy: 0.8883\n",
            "Epoch 18/100\n",
            "12/12 [==============================] - 0s 8ms/step - loss: 0.3173 - accuracy: 0.8871 - val_loss: 0.3366 - val_accuracy: 0.8936\n",
            "Epoch 19/100\n",
            "12/12 [==============================] - 0s 9ms/step - loss: 0.3064 - accuracy: 0.8871 - val_loss: 0.3264 - val_accuracy: 0.8989\n",
            "Epoch 20/100\n",
            "12/12 [==============================] - 0s 10ms/step - loss: 0.2964 - accuracy: 0.8924 - val_loss: 0.3165 - val_accuracy: 0.9043\n",
            "Epoch 21/100\n",
            "12/12 [==============================] - 0s 12ms/step - loss: 0.2867 - accuracy: 0.8950 - val_loss: 0.3075 - val_accuracy: 0.9043\n",
            "Epoch 22/100\n",
            "12/12 [==============================] - 0s 8ms/step - loss: 0.2779 - accuracy: 0.9003 - val_loss: 0.2988 - val_accuracy: 0.9043\n",
            "Epoch 23/100\n",
            "12/12 [==============================] - 0s 9ms/step - loss: 0.2698 - accuracy: 0.9081 - val_loss: 0.2903 - val_accuracy: 0.9043\n",
            "Epoch 24/100\n",
            "12/12 [==============================] - 0s 7ms/step - loss: 0.2619 - accuracy: 0.9108 - val_loss: 0.2825 - val_accuracy: 0.9043\n",
            "Epoch 25/100\n",
            "12/12 [==============================] - 0s 12ms/step - loss: 0.2546 - accuracy: 0.9108 - val_loss: 0.2754 - val_accuracy: 0.9043\n",
            "Epoch 26/100\n",
            "12/12 [==============================] - 0s 13ms/step - loss: 0.2478 - accuracy: 0.9134 - val_loss: 0.2684 - val_accuracy: 0.9096\n",
            "Epoch 27/100\n",
            "12/12 [==============================] - 0s 11ms/step - loss: 0.2413 - accuracy: 0.9160 - val_loss: 0.2618 - val_accuracy: 0.9096\n",
            "Epoch 28/100\n",
            "12/12 [==============================] - 0s 7ms/step - loss: 0.2350 - accuracy: 0.9160 - val_loss: 0.2559 - val_accuracy: 0.9096\n",
            "Epoch 29/100\n",
            "12/12 [==============================] - 0s 10ms/step - loss: 0.2297 - accuracy: 0.9213 - val_loss: 0.2498 - val_accuracy: 0.9149\n",
            "Epoch 30/100\n",
            "12/12 [==============================] - 0s 10ms/step - loss: 0.2241 - accuracy: 0.9239 - val_loss: 0.2441 - val_accuracy: 0.9202\n",
            "Epoch 31/100\n",
            "12/12 [==============================] - 0s 9ms/step - loss: 0.2190 - accuracy: 0.9239 - val_loss: 0.2389 - val_accuracy: 0.9202\n",
            "Epoch 32/100\n",
            "12/12 [==============================] - 0s 9ms/step - loss: 0.2141 - accuracy: 0.9239 - val_loss: 0.2339 - val_accuracy: 0.9202\n",
            "Epoch 33/100\n",
            "12/12 [==============================] - 0s 8ms/step - loss: 0.2097 - accuracy: 0.9239 - val_loss: 0.2289 - val_accuracy: 0.9202\n",
            "Epoch 34/100\n",
            "12/12 [==============================] - 0s 10ms/step - loss: 0.2050 - accuracy: 0.9213 - val_loss: 0.2245 - val_accuracy: 0.9202\n",
            "Epoch 35/100\n",
            "12/12 [==============================] - 0s 9ms/step - loss: 0.2012 - accuracy: 0.9265 - val_loss: 0.2197 - val_accuracy: 0.9202\n",
            "Epoch 36/100\n",
            "12/12 [==============================] - 0s 7ms/step - loss: 0.1970 - accuracy: 0.9291 - val_loss: 0.2157 - val_accuracy: 0.9202\n",
            "Epoch 37/100\n",
            "12/12 [==============================] - 0s 8ms/step - loss: 0.1933 - accuracy: 0.9291 - val_loss: 0.2118 - val_accuracy: 0.9255\n",
            "Epoch 38/100\n",
            "12/12 [==============================] - 0s 11ms/step - loss: 0.1898 - accuracy: 0.9291 - val_loss: 0.2079 - val_accuracy: 0.9309\n",
            "Epoch 39/100\n",
            "12/12 [==============================] - 0s 8ms/step - loss: 0.1862 - accuracy: 0.9344 - val_loss: 0.2046 - val_accuracy: 0.9309\n",
            "Epoch 40/100\n",
            "12/12 [==============================] - 0s 11ms/step - loss: 0.1832 - accuracy: 0.9396 - val_loss: 0.2008 - val_accuracy: 0.9309\n",
            "Epoch 41/100\n",
            "12/12 [==============================] - 0s 15ms/step - loss: 0.1799 - accuracy: 0.9396 - val_loss: 0.1975 - val_accuracy: 0.9309\n",
            "Epoch 42/100\n",
            "12/12 [==============================] - 0s 13ms/step - loss: 0.1769 - accuracy: 0.9396 - val_loss: 0.1944 - val_accuracy: 0.9309\n",
            "Epoch 43/100\n",
            "12/12 [==============================] - 0s 8ms/step - loss: 0.1741 - accuracy: 0.9396 - val_loss: 0.1912 - val_accuracy: 0.9309\n",
            "Epoch 44/100\n",
            "12/12 [==============================] - 0s 9ms/step - loss: 0.1713 - accuracy: 0.9396 - val_loss: 0.1884 - val_accuracy: 0.9362\n",
            "Epoch 45/100\n",
            "12/12 [==============================] - 0s 17ms/step - loss: 0.1686 - accuracy: 0.9423 - val_loss: 0.1857 - val_accuracy: 0.9362\n",
            "Epoch 46/100\n",
            "12/12 [==============================] - 0s 7ms/step - loss: 0.1662 - accuracy: 0.9449 - val_loss: 0.1830 - val_accuracy: 0.9362\n",
            "Epoch 47/100\n",
            "12/12 [==============================] - 0s 11ms/step - loss: 0.1638 - accuracy: 0.9449 - val_loss: 0.1803 - val_accuracy: 0.9362\n",
            "Epoch 48/100\n",
            "12/12 [==============================] - 0s 10ms/step - loss: 0.1614 - accuracy: 0.9449 - val_loss: 0.1777 - val_accuracy: 0.9362\n",
            "Epoch 49/100\n",
            "12/12 [==============================] - 0s 8ms/step - loss: 0.1591 - accuracy: 0.9501 - val_loss: 0.1755 - val_accuracy: 0.9362\n",
            "Epoch 50/100\n",
            "12/12 [==============================] - 0s 8ms/step - loss: 0.1570 - accuracy: 0.9501 - val_loss: 0.1730 - val_accuracy: 0.9362\n",
            "Epoch 51/100\n",
            "12/12 [==============================] - 0s 7ms/step - loss: 0.1549 - accuracy: 0.9501 - val_loss: 0.1708 - val_accuracy: 0.9362\n",
            "Epoch 52/100\n",
            "12/12 [==============================] - 0s 7ms/step - loss: 0.1529 - accuracy: 0.9501 - val_loss: 0.1686 - val_accuracy: 0.9362\n",
            "Epoch 53/100\n",
            "12/12 [==============================] - 0s 8ms/step - loss: 0.1510 - accuracy: 0.9528 - val_loss: 0.1666 - val_accuracy: 0.9362\n",
            "Epoch 54/100\n",
            "12/12 [==============================] - 0s 7ms/step - loss: 0.1491 - accuracy: 0.9528 - val_loss: 0.1647 - val_accuracy: 0.9362\n",
            "Epoch 55/100\n",
            "12/12 [==============================] - 0s 11ms/step - loss: 0.1474 - accuracy: 0.9528 - val_loss: 0.1626 - val_accuracy: 0.9362\n",
            "Epoch 56/100\n",
            "12/12 [==============================] - 0s 8ms/step - loss: 0.1456 - accuracy: 0.9528 - val_loss: 0.1607 - val_accuracy: 0.9362\n",
            "Epoch 57/100\n",
            "12/12 [==============================] - 0s 8ms/step - loss: 0.1439 - accuracy: 0.9528 - val_loss: 0.1588 - val_accuracy: 0.9362\n",
            "Epoch 58/100\n",
            "12/12 [==============================] - 0s 12ms/step - loss: 0.1422 - accuracy: 0.9528 - val_loss: 0.1571 - val_accuracy: 0.9415\n",
            "Epoch 59/100\n",
            "12/12 [==============================] - 0s 7ms/step - loss: 0.1407 - accuracy: 0.9528 - val_loss: 0.1553 - val_accuracy: 0.9415\n",
            "Epoch 60/100\n",
            "12/12 [==============================] - 0s 9ms/step - loss: 0.1392 - accuracy: 0.9554 - val_loss: 0.1536 - val_accuracy: 0.9415\n",
            "Epoch 61/100\n",
            "12/12 [==============================] - 0s 12ms/step - loss: 0.1376 - accuracy: 0.9580 - val_loss: 0.1520 - val_accuracy: 0.9415\n",
            "Epoch 62/100\n",
            "12/12 [==============================] - 0s 10ms/step - loss: 0.1362 - accuracy: 0.9580 - val_loss: 0.1504 - val_accuracy: 0.9415\n",
            "Epoch 63/100\n",
            "12/12 [==============================] - 0s 22ms/step - loss: 0.1348 - accuracy: 0.9580 - val_loss: 0.1490 - val_accuracy: 0.9415\n",
            "Epoch 64/100\n",
            "12/12 [==============================] - 0s 15ms/step - loss: 0.1335 - accuracy: 0.9580 - val_loss: 0.1475 - val_accuracy: 0.9415\n",
            "Epoch 65/100\n",
            "12/12 [==============================] - 0s 7ms/step - loss: 0.1322 - accuracy: 0.9580 - val_loss: 0.1460 - val_accuracy: 0.9415\n",
            "Epoch 66/100\n",
            "12/12 [==============================] - 0s 12ms/step - loss: 0.1309 - accuracy: 0.9580 - val_loss: 0.1446 - val_accuracy: 0.9415\n",
            "Epoch 67/100\n",
            "12/12 [==============================] - 0s 11ms/step - loss: 0.1297 - accuracy: 0.9606 - val_loss: 0.1432 - val_accuracy: 0.9415\n",
            "Epoch 68/100\n",
            "12/12 [==============================] - 0s 8ms/step - loss: 0.1284 - accuracy: 0.9633 - val_loss: 0.1420 - val_accuracy: 0.9415\n",
            "Epoch 69/100\n",
            "12/12 [==============================] - 0s 8ms/step - loss: 0.1273 - accuracy: 0.9633 - val_loss: 0.1407 - val_accuracy: 0.9415\n",
            "Epoch 70/100\n",
            "12/12 [==============================] - 0s 12ms/step - loss: 0.1261 - accuracy: 0.9633 - val_loss: 0.1394 - val_accuracy: 0.9468\n",
            "Epoch 71/100\n",
            "12/12 [==============================] - 0s 15ms/step - loss: 0.1250 - accuracy: 0.9633 - val_loss: 0.1381 - val_accuracy: 0.9468\n",
            "Epoch 72/100\n",
            "12/12 [==============================] - 0s 12ms/step - loss: 0.1239 - accuracy: 0.9633 - val_loss: 0.1369 - val_accuracy: 0.9521\n",
            "Epoch 73/100\n",
            "12/12 [==============================] - 0s 10ms/step - loss: 0.1229 - accuracy: 0.9633 - val_loss: 0.1358 - val_accuracy: 0.9521\n",
            "Epoch 74/100\n",
            "12/12 [==============================] - 0s 11ms/step - loss: 0.1219 - accuracy: 0.9659 - val_loss: 0.1347 - val_accuracy: 0.9521\n",
            "Epoch 75/100\n",
            "12/12 [==============================] - 0s 9ms/step - loss: 0.1209 - accuracy: 0.9659 - val_loss: 0.1335 - val_accuracy: 0.9574\n",
            "Epoch 76/100\n",
            "12/12 [==============================] - 0s 8ms/step - loss: 0.1199 - accuracy: 0.9659 - val_loss: 0.1324 - val_accuracy: 0.9574\n",
            "Epoch 77/100\n",
            "12/12 [==============================] - 0s 19ms/step - loss: 0.1189 - accuracy: 0.9685 - val_loss: 0.1314 - val_accuracy: 0.9574\n",
            "Epoch 78/100\n",
            "12/12 [==============================] - 0s 12ms/step - loss: 0.1180 - accuracy: 0.9685 - val_loss: 0.1304 - val_accuracy: 0.9574\n",
            "Epoch 79/100\n",
            "12/12 [==============================] - 0s 14ms/step - loss: 0.1171 - accuracy: 0.9685 - val_loss: 0.1294 - val_accuracy: 0.9574\n",
            "Epoch 80/100\n",
            "12/12 [==============================] - 0s 9ms/step - loss: 0.1162 - accuracy: 0.9685 - val_loss: 0.1284 - val_accuracy: 0.9574\n",
            "Epoch 81/100\n",
            "12/12 [==============================] - 0s 9ms/step - loss: 0.1154 - accuracy: 0.9711 - val_loss: 0.1274 - val_accuracy: 0.9574\n",
            "Epoch 82/100\n",
            "12/12 [==============================] - 0s 7ms/step - loss: 0.1145 - accuracy: 0.9711 - val_loss: 0.1266 - val_accuracy: 0.9574\n",
            "Epoch 83/100\n",
            "12/12 [==============================] - 0s 9ms/step - loss: 0.1137 - accuracy: 0.9738 - val_loss: 0.1256 - val_accuracy: 0.9574\n",
            "Epoch 84/100\n",
            "12/12 [==============================] - 0s 14ms/step - loss: 0.1129 - accuracy: 0.9738 - val_loss: 0.1247 - val_accuracy: 0.9574\n",
            "Epoch 85/100\n",
            "12/12 [==============================] - 0s 9ms/step - loss: 0.1121 - accuracy: 0.9738 - val_loss: 0.1238 - val_accuracy: 0.9574\n",
            "Epoch 86/100\n",
            "12/12 [==============================] - 0s 11ms/step - loss: 0.1113 - accuracy: 0.9738 - val_loss: 0.1230 - val_accuracy: 0.9574\n",
            "Epoch 87/100\n",
            "12/12 [==============================] - 0s 14ms/step - loss: 0.1106 - accuracy: 0.9738 - val_loss: 0.1222 - val_accuracy: 0.9574\n",
            "Epoch 88/100\n",
            "12/12 [==============================] - 0s 13ms/step - loss: 0.1099 - accuracy: 0.9738 - val_loss: 0.1214 - val_accuracy: 0.9574\n",
            "Epoch 89/100\n",
            "12/12 [==============================] - 0s 15ms/step - loss: 0.1091 - accuracy: 0.9738 - val_loss: 0.1206 - val_accuracy: 0.9574\n",
            "Epoch 90/100\n",
            "12/12 [==============================] - 0s 11ms/step - loss: 0.1084 - accuracy: 0.9738 - val_loss: 0.1199 - val_accuracy: 0.9574\n",
            "Epoch 91/100\n",
            "12/12 [==============================] - 0s 12ms/step - loss: 0.1077 - accuracy: 0.9738 - val_loss: 0.1191 - val_accuracy: 0.9574\n",
            "Epoch 92/100\n",
            "12/12 [==============================] - 0s 9ms/step - loss: 0.1071 - accuracy: 0.9738 - val_loss: 0.1183 - val_accuracy: 0.9574\n",
            "Epoch 93/100\n",
            "12/12 [==============================] - 0s 11ms/step - loss: 0.1064 - accuracy: 0.9738 - val_loss: 0.1176 - val_accuracy: 0.9574\n",
            "Epoch 94/100\n",
            "12/12 [==============================] - 0s 11ms/step - loss: 0.1057 - accuracy: 0.9738 - val_loss: 0.1169 - val_accuracy: 0.9574\n",
            "Epoch 95/100\n",
            "12/12 [==============================] - 0s 8ms/step - loss: 0.1051 - accuracy: 0.9738 - val_loss: 0.1163 - val_accuracy: 0.9574\n",
            "Epoch 96/100\n",
            "12/12 [==============================] - 0s 13ms/step - loss: 0.1045 - accuracy: 0.9738 - val_loss: 0.1156 - val_accuracy: 0.9628\n",
            "Epoch 97/100\n",
            "12/12 [==============================] - 0s 16ms/step - loss: 0.1039 - accuracy: 0.9738 - val_loss: 0.1149 - val_accuracy: 0.9628\n",
            "Epoch 98/100\n",
            "12/12 [==============================] - 0s 7ms/step - loss: 0.1033 - accuracy: 0.9738 - val_loss: 0.1143 - val_accuracy: 0.9628\n",
            "Epoch 99/100\n",
            "12/12 [==============================] - 0s 15ms/step - loss: 0.1027 - accuracy: 0.9738 - val_loss: 0.1137 - val_accuracy: 0.9628\n",
            "Epoch 100/100\n",
            "12/12 [==============================] - 0s 9ms/step - loss: 0.1021 - accuracy: 0.9738 - val_loss: 0.1130 - val_accuracy: 0.9628\n"
          ]
        }
      ]
    },
    {
      "cell_type": "code",
      "source": [
        "# evaluate model for loss and accuracy\n",
        "\n",
        "print(\"Train score:\", model.evaluate(X_train, y_train))\n",
        "print(\"Test score:\", model.evaluate(X_test, y_test))"
      ],
      "metadata": {
        "id": "kONCF5o7kekT",
        "colab": {
          "base_uri": "https://localhost:8080/"
        },
        "outputId": "2ef03e29-7aba-4ea7-c749-3da5239fa4fa"
      },
      "execution_count": 42,
      "outputs": [
        {
          "output_type": "stream",
          "name": "stdout",
          "text": [
            "12/12 [==============================] - 0s 2ms/step - loss: 0.1017 - accuracy: 0.9738\n",
            "Train score: [0.10174284875392914, 0.9737532734870911]\n",
            "6/6 [==============================] - 0s 3ms/step - loss: 0.1130 - accuracy: 0.9628\n",
            "Test score: [0.11303965747356415, 0.9627659320831299]\n"
          ]
        }
      ]
    },
    {
      "cell_type": "code",
      "source": [
        "# plot loss per iteration\n",
        "import matplotlib.pyplot as plt\n",
        "plt.plot(r.history[\"loss\"], label=\"loss\")\n",
        "plt.plot(r.history[\"val_loss\"], label=\"val_loss\")\n",
        "plt.legend()"
      ],
      "metadata": {
        "id": "qFKJi4vmlFl4",
        "colab": {
          "base_uri": "https://localhost:8080/",
          "height": 283
        },
        "outputId": "5607d086-2573-4d35-9e27-d663f09df66f"
      },
      "execution_count": 43,
      "outputs": [
        {
          "output_type": "execute_result",
          "data": {
            "text/plain": [
              "<matplotlib.legend.Legend at 0x7f3b6d87c510>"
            ]
          },
          "metadata": {},
          "execution_count": 43
        },
        {
          "output_type": "display_data",
          "data": {
            "text/plain": [
              "<Figure size 432x288 with 1 Axes>"
            ],
            "image/png": "[encoded data removed]"
          },
          "metadata": {
            "needs_background": "light"
          }
        }
      ]
    },
    {
      "cell_type": "code",
      "source": [
        "# plot accuracy per iteration\n",
        "plt.plot(r.history[\"accuracy\"], label=\"acc\")\n",
        "plt.plot(r.history[\"val_accuracy\"], label=\"val_acc\")\n",
        "plt.legend()"
      ],
      "metadata": {
        "id": "rUlcdOOQmLFy",
        "colab": {
          "base_uri": "https://localhost:8080/",
          "height": 283
        },
        "outputId": "6038b7d1-7f7f-4d58-bb9c-480a8f940403"
      },
      "execution_count": 44,
      "outputs": [
        {
          "output_type": "execute_result",
          "data": {
            "text/plain": [
              "<matplotlib.legend.Legend at 0x7f3b6d712ad0>"
            ]
          },
          "metadata": {},
          "execution_count": 44
        },
        {
          "output_type": "display_data",
          "data": {
            "text/plain": [
              "<Figure size 432x288 with 1 Axes>"
            ],
            "image/png": "[encoded data removed]"
          },
          "metadata": {
            "needs_background": "light"
          }
        }
      ]
    },
    {
      "cell_type": "markdown",
      "source": [
        "## Making Predictions"
      ],
      "metadata": {
        "id": "o_FA1UZlaQ-C"
      }
    },
    {
      "cell_type": "code",
      "source": [
        "P = model.predict(X_test)\n",
        "P # outputs of the sigmoid, interpreted as \"probability that y is equal to 1 given x\""
      ],
      "metadata": {
        "colab": {
          "base_uri": "https://localhost:8080/"
        },
        "id": "GCk5w5kYaUrz",
        "outputId": "2586fdbb-d245-4096-9742-b039d59f7ace"
      },
      "execution_count": 45,
      "outputs": [
        {
          "output_type": "execute_result",
          "data": {
            "text/plain": [
              "array([[9.89220142e-01],\n",
              "       [6.28155649e-01],\n",
              "       [9.97373521e-01],\n",
              "       [9.48474884e-01],\n",
              "       [9.85126615e-01],\n",
              "       [9.71892118e-01],\n",
              "       [6.33195043e-02],\n",
              "       [9.44393039e-01],\n",
              "       [7.53931999e-01],\n",
              "       [7.07961559e-01],\n",
              "       [5.23524940e-01],\n",
              "       [2.91470587e-01],\n",
              "       [9.32110786e-01],\n",
              "       [8.93301725e-01],\n",
              "       [6.51666880e-01],\n",
              "       [4.23136353e-03],\n",
              "       [9.26458240e-01],\n",
              "       [1.16543770e-02],\n",
              "       [4.70951408e-01],\n",
              "       [1.82655752e-02],\n",
              "       [9.98005569e-01],\n",
              "       [9.38261986e-01],\n",
              "       [4.33753699e-01],\n",
              "       [9.62532461e-01],\n",
              "       [5.78290701e-01],\n",
              "       [4.33772802e-03],\n",
              "       [9.77030993e-01],\n",
              "       [9.92457509e-01],\n",
              "       [2.99566418e-01],\n",
              "       [9.94616568e-01],\n",
              "       [9.98006165e-01],\n",
              "       [9.96405363e-01],\n",
              "       [9.40756619e-01],\n",
              "       [9.85930562e-01],\n",
              "       [3.89414787e-01],\n",
              "       [9.93175864e-01],\n",
              "       [8.86954069e-01],\n",
              "       [9.85122919e-01],\n",
              "       [2.56267190e-03],\n",
              "       [9.96911287e-01],\n",
              "       [9.21763301e-01],\n",
              "       [6.90712623e-05],\n",
              "       [9.90183234e-01],\n",
              "       [1.03851533e-04],\n",
              "       [9.94464815e-01],\n",
              "       [4.82580066e-02],\n",
              "       [4.64707613e-04],\n",
              "       [9.80846882e-01],\n",
              "       [4.12911773e-01],\n",
              "       [9.70505238e-01],\n",
              "       [2.38231719e-02],\n",
              "       [9.45625603e-01],\n",
              "       [9.93413806e-01],\n",
              "       [9.97215271e-01],\n",
              "       [2.53818035e-02],\n",
              "       [9.97375786e-01],\n",
              "       [9.20091271e-01],\n",
              "       [2.87899673e-02],\n",
              "       [9.96274412e-01],\n",
              "       [4.00182903e-02],\n",
              "       [9.93990302e-01],\n",
              "       [9.20648992e-01],\n",
              "       [9.86449599e-01],\n",
              "       [8.23682964e-01],\n",
              "       [7.65260100e-01],\n",
              "       [9.64650989e-01],\n",
              "       [4.23305601e-01],\n",
              "       [9.76136684e-01],\n",
              "       [9.93673921e-01],\n",
              "       [3.53121161e-01],\n",
              "       [8.67093921e-01],\n",
              "       [8.98656607e-01],\n",
              "       [1.67722702e-02],\n",
              "       [8.33162308e-01],\n",
              "       [7.37339556e-02],\n",
              "       [3.49938869e-04],\n",
              "       [9.97460485e-01],\n",
              "       [9.98845398e-01],\n",
              "       [9.90742087e-01],\n",
              "       [9.46946263e-01],\n",
              "       [9.11744475e-01],\n",
              "       [8.98407698e-01],\n",
              "       [7.47665882e-01],\n",
              "       [9.98729706e-01],\n",
              "       [9.85566199e-01],\n",
              "       [7.24294126e-01],\n",
              "       [9.89228010e-01],\n",
              "       [5.13480961e-01],\n",
              "       [1.12095495e-05],\n",
              "       [7.66068697e-04],\n",
              "       [2.52336264e-04],\n",
              "       [9.77067709e-01],\n",
              "       [9.54630733e-01],\n",
              "       [9.69633043e-01],\n",
              "       [9.96193290e-01],\n",
              "       [9.97686446e-01],\n",
              "       [5.81353724e-01],\n",
              "       [9.96135950e-01],\n",
              "       [3.80337238e-04],\n",
              "       [8.89927149e-04],\n",
              "       [9.99548197e-01],\n",
              "       [9.72024977e-01],\n",
              "       [9.66691911e-01],\n",
              "       [9.99354720e-01],\n",
              "       [9.91002262e-01],\n",
              "       [9.83178079e-01],\n",
              "       [3.50374877e-02],\n",
              "       [8.51988792e-04],\n",
              "       [9.84810710e-01],\n",
              "       [7.93595791e-01],\n",
              "       [7.64255047e-01],\n",
              "       [1.61054850e-01],\n",
              "       [9.73456264e-01],\n",
              "       [8.93116594e-05],\n",
              "       [8.34912300e-01],\n",
              "       [8.31188262e-01],\n",
              "       [9.84353304e-01],\n",
              "       [1.08727472e-04],\n",
              "       [1.15749781e-05],\n",
              "       [7.05875397e-01],\n",
              "       [2.19196081e-04],\n",
              "       [9.98975873e-01],\n",
              "       [9.94820118e-01],\n",
              "       [9.26109672e-01],\n",
              "       [2.47778789e-05],\n",
              "       [5.70430577e-01],\n",
              "       [9.96029496e-01],\n",
              "       [9.98029590e-01],\n",
              "       [2.70932913e-04],\n",
              "       [9.38061953e-01],\n",
              "       [1.10765696e-02],\n",
              "       [9.99705851e-01],\n",
              "       [2.17344612e-01],\n",
              "       [1.26528740e-03],\n",
              "       [6.99640691e-01],\n",
              "       [1.97184801e-01],\n",
              "       [8.55297327e-01],\n",
              "       [9.97663617e-01],\n",
              "       [9.57935154e-02],\n",
              "       [1.43399835e-03],\n",
              "       [5.18727303e-01],\n",
              "       [7.25019336e-01],\n",
              "       [9.99744296e-01],\n",
              "       [9.54303265e-01],\n",
              "       [9.92090821e-01],\n",
              "       [9.75707650e-01],\n",
              "       [6.85170174e-01],\n",
              "       [9.91506517e-01],\n",
              "       [9.99794483e-01],\n",
              "       [1.06596649e-02],\n",
              "       [6.91092968e-01],\n",
              "       [8.75295997e-02],\n",
              "       [6.00558519e-03],\n",
              "       [9.52271461e-01],\n",
              "       [9.94586587e-01],\n",
              "       [9.23702478e-01],\n",
              "       [1.90366336e-05],\n",
              "       [9.93326783e-01],\n",
              "       [9.26207125e-01],\n",
              "       [9.73913193e-01],\n",
              "       [9.99090433e-01],\n",
              "       [9.99358177e-01],\n",
              "       [1.17707253e-03],\n",
              "       [3.20044160e-03],\n",
              "       [9.55153823e-01],\n",
              "       [4.77850437e-04],\n",
              "       [9.98120308e-01],\n",
              "       [9.76651132e-01],\n",
              "       [9.89179134e-01],\n",
              "       [9.91034031e-01],\n",
              "       [9.39638853e-01],\n",
              "       [5.96486330e-01],\n",
              "       [2.46941745e-02],\n",
              "       [5.92209995e-02],\n",
              "       [9.83837366e-01],\n",
              "       [9.99402404e-01],\n",
              "       [1.09511614e-03],\n",
              "       [2.36921310e-02],\n",
              "       [8.61006975e-03],\n",
              "       [9.99827445e-01],\n",
              "       [9.99568462e-01],\n",
              "       [4.29150396e-06],\n",
              "       [5.44686955e-05],\n",
              "       [9.61880267e-01],\n",
              "       [5.06564379e-02],\n",
              "       [9.50822830e-01],\n",
              "       [9.99049902e-01],\n",
              "       [9.97785687e-01]], dtype=float32)"
            ]
          },
          "metadata": {},
          "execution_count": 45
        }
      ]
    },
    {
      "cell_type": "code",
      "source": [
        "# round to get the actual predictions \n",
        "# must flatten since targets and predictions are not same shape\n",
        "import numpy as np\n",
        "P = np.round(P).flatten()\n",
        "P"
      ],
      "metadata": {
        "colab": {
          "base_uri": "https://localhost:8080/"
        },
        "id": "E9VKViAGaaIM",
        "outputId": "1ef030de-a3bc-42ab-d347-5c7e7d7049cc"
      },
      "execution_count": 46,
      "outputs": [
        {
          "output_type": "execute_result",
          "data": {
            "text/plain": [
              "array([1., 1., 1., 1., 1., 1., 0., 1., 1., 1., 1., 0., 1., 1., 1., 0., 1.,\n",
              "       0., 0., 0., 1., 1., 0., 1., 1., 0., 1., 1., 0., 1., 1., 1., 1., 1.,\n",
              "       0., 1., 1., 1., 0., 1., 1., 0., 1., 0., 1., 0., 0., 1., 0., 1., 0.,\n",
              "       1., 1., 1., 0., 1., 1., 0., 1., 0., 1., 1., 1., 1., 1., 1., 0., 1.,\n",
              "       1., 0., 1., 1., 0., 1., 0., 0., 1., 1., 1., 1., 1., 1., 1., 1., 1.,\n",
              "       1., 1., 1., 0., 0., 0., 1., 1., 1., 1., 1., 1., 1., 0., 0., 1., 1.,\n",
              "       1., 1., 1., 1., 0., 0., 1., 1., 1., 0., 1., 0., 1., 1., 1., 0., 0.,\n",
              "       1., 0., 1., 1., 1., 0., 1., 1., 1., 0., 1., 0., 1., 0., 0., 1., 0.,\n",
              "       1., 1., 0., 0., 1., 1., 1., 1., 1., 1., 1., 1., 1., 0., 1., 0., 0.,\n",
              "       1., 1., 1., 0., 1., 1., 1., 1., 1., 0., 0., 1., 0., 1., 1., 1., 1.,\n",
              "       1., 1., 0., 0., 1., 1., 0., 0., 0., 1., 1., 0., 0., 1., 0., 1., 1.,\n",
              "       1.], dtype=float32)"
            ]
          },
          "metadata": {},
          "execution_count": 46
        }
      ]
    },
    {
      "cell_type": "code",
      "source": [
        "# calculate accuracy\n",
        "print(\"Manually calculated accuracy:\", np.mean(P==y_test))\n",
        "print(\"Evaluate output:\", model.evaluate(X_test, y_test))"
      ],
      "metadata": {
        "colab": {
          "base_uri": "https://localhost:8080/"
        },
        "id": "rlymY_yDbPF3",
        "outputId": "c51ffd88-d154-417a-d8d6-e49e949b0945"
      },
      "execution_count": 47,
      "outputs": [
        {
          "output_type": "stream",
          "name": "stdout",
          "text": [
            "Manually calculated accuracy: 0.9627659574468085\n",
            "6/6 [==============================] - 0s 3ms/step - loss: 0.1130 - accuracy: 0.9628\n",
            "Evaluate output: [0.11303965747356415, 0.9627659320831299]\n"
          ]
        }
      ]
    },
    {
      "cell_type": "markdown",
      "source": [
        "## Saving and loading a model"
      ],
      "metadata": {
        "id": "alXhPWt9dm1o"
      }
    },
    {
      "cell_type": "code",
      "source": [
        "model.save(\"linearclassifier.h5\")"
      ],
      "metadata": {
        "id": "oEEXnm7Tdok5"
      },
      "execution_count": 49,
      "outputs": []
    },
    {
      "cell_type": "code",
      "source": [
        "# check for file in local storage\n",
        "!ls -1h"
      ],
      "metadata": {
        "colab": {
          "base_uri": "https://localhost:8080/"
        },
        "id": "sfeHeVC6dsNr",
        "outputId": "f96b0022-ec9d-4392-dbf6-df50deb6966f"
      },
      "execution_count": 50,
      "outputs": [
        {
          "output_type": "stream",
          "name": "stdout",
          "text": [
            "linearclassifier.h5\n",
            "sample_data\n"
          ]
        }
      ]
    },
    {
      "cell_type": "code",
      "source": [
        "model = tf.keras.models.load_model(\"linearclassifier.h5\")"
      ],
      "metadata": {
        "id": "TYNbxEobeBK5"
      },
      "execution_count": 51,
      "outputs": []
    },
    {
      "cell_type": "code",
      "source": [
        "model"
      ],
      "metadata": {
        "colab": {
          "base_uri": "https://localhost:8080/"
        },
        "id": "GYCXOXDoeQ4T",
        "outputId": "f6a89e60-f228-4da8-8e41-1a40d573bdac"
      },
      "execution_count": 52,
      "outputs": [
        {
          "output_type": "execute_result",
          "data": {
            "text/plain": [
              "<keras.engine.sequential.Sequential at 0x7f3b6d885d90>"
            ]
          },
          "metadata": {},
          "execution_count": 52
        }
      ]
    },
    {
      "cell_type": "code",
      "source": [
        "model.layers"
      ],
      "metadata": {
        "colab": {
          "base_uri": "https://localhost:8080/"
        },
        "id": "5XTHp0jTeRfa",
        "outputId": "6fb7c981-c56b-4961-d118-6cb233732014"
      },
      "execution_count": 53,
      "outputs": [
        {
          "output_type": "execute_result",
          "data": {
            "text/plain": [
              "[<keras.layers.core.dense.Dense at 0x7f3bf64bfcd0>]"
            ]
          },
          "metadata": {},
          "execution_count": 53
        }
      ]
    },
    {
      "cell_type": "code",
      "source": [
        "model.evaluate(X_test, y_test)"
      ],
      "metadata": {
        "colab": {
          "base_uri": "https://localhost:8080/"
        },
        "id": "ZTFT-IFmeTFj",
        "outputId": "365cb09c-4508-480d-9d5e-ededb6026a8f"
      },
      "execution_count": 54,
      "outputs": [
        {
          "output_type": "stream",
          "name": "stdout",
          "text": [
            "6/6 [==============================] - 0s 3ms/step - loss: 0.1130 - accuracy: 0.9628\n"
          ]
        },
        {
          "output_type": "execute_result",
          "data": {
            "text/plain": [
              "[0.11303965747356415, 0.9627659320831299]"
            ]
          },
          "metadata": {},
          "execution_count": 54
        }
      ]
    }
  ]
}