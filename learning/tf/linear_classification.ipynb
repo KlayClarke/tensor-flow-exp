{
  "nbformat": 4,
  "nbformat_minor": 0,
  "metadata": {
    "colab": {
      "name": "linear_classification.ipynb",
      "provenance": [],
      "collapsed_sections": [],
      "authorship_tag": "ABX9TyNgNZsgWmMpjFL0sIrl9FXC",
      "include_colab_link": true
    },
    "kernelspec": {
      "name": "python3",
      "display_name": "Python 3"
    },
    "language_info": {
      "name": "python"
    }
  },
  "cells": [
    {
      "cell_type": "markdown",
      "metadata": {
        "id": "view-in-github",
        "colab_type": "text"
      },
      "source": [
        "<a href=\"https://colab.research.google.com/github/KlayClarke/tf--experimentation/blob/main/learning/tf/linear_classification.ipynb\" target=\"_parent\"><img src=\"https://colab.research.google.com/assets/colab-badge.svg\" alt=\"Open In Colab\"/></a>"
      ]
    },
    {
      "cell_type": "code",
      "execution_count": null,
      "metadata": {
        "colab": {
          "base_uri": "https://localhost:8080/"
        },
        "id": "67aujHRWbstp",
        "outputId": "57d6de4a-5444-4efb-fec7-1dfbacb070dc"
      },
      "outputs": [
        {
          "output_type": "stream",
          "name": "stdout",
          "text": [
            "2.8.0\n"
          ]
        }
      ],
      "source": [
        "# install and import tensorflow\n",
        "!pip install -q tensorflow\n",
        "import tensorflow as tf\n",
        "print(tf.__version__)"
      ]
    },
    {
      "cell_type": "code",
      "source": [
        "# load data\n",
        "from sklearn.datasets import load_breast_cancer\n",
        "data = load_breast_cancer()\n",
        "data"
      ],
      "metadata": {
        "colab": {
          "base_uri": "https://localhost:8080/"
        },
        "id": "vRov2Ldbb02j",
        "outputId": "6ff1437d-663f-455f-dcfe-909ddeca1809"
      },
      "execution_count": null,
      "outputs": [
        {
          "output_type": "execute_result",
          "data": {
            "text/plain": [
              "{'DESCR': '.. _breast_cancer_dataset:\\n\\nBreast cancer wisconsin (diagnostic) dataset\\n--------------------------------------------\\n\\n**Data Set Characteristics:**\\n\\n    :Number of Instances: 569\\n\\n    :Number of Attributes: 30 numeric, predictive attributes and the class\\n\\n    :Attribute Information:\\n        - radius (mean of distances from center to points on the perimeter)\\n        - texture (standard deviation of gray-scale values)\\n        - perimeter\\n        - area\\n        - smoothness (local variation in radius lengths)\\n        - compactness (perimeter^2 / area - 1.0)\\n        - concavity (severity of concave portions of the contour)\\n        - concave points (number of concave portions of the contour)\\n        - symmetry\\n        - fractal dimension (\"coastline approximation\" - 1)\\n\\n        The mean, standard error, and \"worst\" or largest (mean of the three\\n        worst/largest values) of these features were computed for each image,\\n        resulting in 30 features.  For instance, field 0 is Mean Radius, field\\n        10 is Radius SE, field 20 is Worst Radius.\\n\\n        - class:\\n                - WDBC-Malignant\\n                - WDBC-Benign\\n\\n    :Summary Statistics:\\n\\n    ===================================== ====== ======\\n                                           Min    Max\\n    ===================================== ====== ======\\n    radius (mean):                        6.981  28.11\\n    texture (mean):                       9.71   39.28\\n    perimeter (mean):                     43.79  188.5\\n    area (mean):                          143.5  2501.0\\n    smoothness (mean):                    0.053  0.163\\n    compactness (mean):                   0.019  0.345\\n    concavity (mean):                     0.0    0.427\\n    concave points (mean):                0.0    0.201\\n    symmetry (mean):                      0.106  0.304\\n    fractal dimension (mean):             0.05   0.097\\n    radius (standard error):              0.112  2.873\\n    texture (standard error):             0.36   4.885\\n    perimeter (standard error):           0.757  21.98\\n    area (standard error):                6.802  542.2\\n    smoothness (standard error):          0.002  0.031\\n    compactness (standard error):         0.002  0.135\\n    concavity (standard error):           0.0    0.396\\n    concave points (standard error):      0.0    0.053\\n    symmetry (standard error):            0.008  0.079\\n    fractal dimension (standard error):   0.001  0.03\\n    radius (worst):                       7.93   36.04\\n    texture (worst):                      12.02  49.54\\n    perimeter (worst):                    50.41  251.2\\n    area (worst):                         185.2  4254.0\\n    smoothness (worst):                   0.071  0.223\\n    compactness (worst):                  0.027  1.058\\n    concavity (worst):                    0.0    1.252\\n    concave points (worst):               0.0    0.291\\n    symmetry (worst):                     0.156  0.664\\n    fractal dimension (worst):            0.055  0.208\\n    ===================================== ====== ======\\n\\n    :Missing Attribute Values: None\\n\\n    :Class Distribution: 212 - Malignant, 357 - Benign\\n\\n    :Creator:  Dr. William H. Wolberg, W. Nick Street, Olvi L. Mangasarian\\n\\n    :Donor: Nick Street\\n\\n    :Date: November, 1995\\n\\nThis is a copy of UCI ML Breast Cancer Wisconsin (Diagnostic) datasets.\\nhttps://goo.gl/U2Uwz2\\n\\nFeatures are computed from a digitized image of a fine needle\\naspirate (FNA) of a breast mass.  They describe\\ncharacteristics of the cell nuclei present in the image.\\n\\nSeparating plane described above was obtained using\\nMultisurface Method-Tree (MSM-T) [K. P. Bennett, \"Decision Tree\\nConstruction Via Linear Programming.\" Proceedings of the 4th\\nMidwest Artificial Intelligence and Cognitive Science Society,\\npp. 97-101, 1992], a classification method which uses linear\\nprogramming to construct a decision tree.  Relevant features\\nwere selected using an exhaustive search in the space of 1-4\\nfeatures and 1-3 separating planes.\\n\\nThe actual linear program used to obtain the separating plane\\nin the 3-dimensional space is that described in:\\n[K. P. Bennett and O. L. Mangasarian: \"Robust Linear\\nProgramming Discrimination of Two Linearly Inseparable Sets\",\\nOptimization Methods and Software 1, 1992, 23-34].\\n\\nThis database is also available through the UW CS ftp server:\\n\\nftp ftp.cs.wisc.edu\\ncd math-prog/cpo-dataset/machine-learn/WDBC/\\n\\n.. topic:: References\\n\\n   - W.N. Street, W.H. Wolberg and O.L. Mangasarian. Nuclear feature extraction \\n     for breast tumor diagnosis. IS&T/SPIE 1993 International Symposium on \\n     Electronic Imaging: Science and Technology, volume 1905, pages 861-870,\\n     San Jose, CA, 1993.\\n   - O.L. Mangasarian, W.N. Street and W.H. Wolberg. Breast cancer diagnosis and \\n     prognosis via linear programming. Operations Research, 43(4), pages 570-577, \\n     July-August 1995.\\n   - W.H. Wolberg, W.N. Street, and O.L. Mangasarian. Machine learning techniques\\n     to diagnose breast cancer from fine-needle aspirates. Cancer Letters 77 (1994) \\n     163-171.',\n",
              " 'data': array([[1.799e+01, 1.038e+01, 1.228e+02, ..., 2.654e-01, 4.601e-01,\n",
              "         1.189e-01],\n",
              "        [2.057e+01, 1.777e+01, 1.329e+02, ..., 1.860e-01, 2.750e-01,\n",
              "         8.902e-02],\n",
              "        [1.969e+01, 2.125e+01, 1.300e+02, ..., 2.430e-01, 3.613e-01,\n",
              "         8.758e-02],\n",
              "        ...,\n",
              "        [1.660e+01, 2.808e+01, 1.083e+02, ..., 1.418e-01, 2.218e-01,\n",
              "         7.820e-02],\n",
              "        [2.060e+01, 2.933e+01, 1.401e+02, ..., 2.650e-01, 4.087e-01,\n",
              "         1.240e-01],\n",
              "        [7.760e+00, 2.454e+01, 4.792e+01, ..., 0.000e+00, 2.871e-01,\n",
              "         7.039e-02]]),\n",
              " 'data_module': 'sklearn.datasets.data',\n",
              " 'feature_names': array(['mean radius', 'mean texture', 'mean perimeter', 'mean area',\n",
              "        'mean smoothness', 'mean compactness', 'mean concavity',\n",
              "        'mean concave points', 'mean symmetry', 'mean fractal dimension',\n",
              "        'radius error', 'texture error', 'perimeter error', 'area error',\n",
              "        'smoothness error', 'compactness error', 'concavity error',\n",
              "        'concave points error', 'symmetry error',\n",
              "        'fractal dimension error', 'worst radius', 'worst texture',\n",
              "        'worst perimeter', 'worst area', 'worst smoothness',\n",
              "        'worst compactness', 'worst concavity', 'worst concave points',\n",
              "        'worst symmetry', 'worst fractal dimension'], dtype='<U23'),\n",
              " 'filename': 'breast_cancer.csv',\n",
              " 'frame': None,\n",
              " 'target': array([0, 0, 0, 0, 0, 0, 0, 0, 0, 0, 0, 0, 0, 0, 0, 0, 0, 0, 0, 1, 1, 1,\n",
              "        0, 0, 0, 0, 0, 0, 0, 0, 0, 0, 0, 0, 0, 0, 0, 1, 0, 0, 0, 0, 0, 0,\n",
              "        0, 0, 1, 0, 1, 1, 1, 1, 1, 0, 0, 1, 0, 0, 1, 1, 1, 1, 0, 1, 0, 0,\n",
              "        1, 1, 1, 1, 0, 1, 0, 0, 1, 0, 1, 0, 0, 1, 1, 1, 0, 0, 1, 0, 0, 0,\n",
              "        1, 1, 1, 0, 1, 1, 0, 0, 1, 1, 1, 0, 0, 1, 1, 1, 1, 0, 1, 1, 0, 1,\n",
              "        1, 1, 1, 1, 1, 1, 1, 0, 0, 0, 1, 0, 0, 1, 1, 1, 0, 0, 1, 0, 1, 0,\n",
              "        0, 1, 0, 0, 1, 1, 0, 1, 1, 0, 1, 1, 1, 1, 0, 1, 1, 1, 1, 1, 1, 1,\n",
              "        1, 1, 0, 1, 1, 1, 1, 0, 0, 1, 0, 1, 1, 0, 0, 1, 1, 0, 0, 1, 1, 1,\n",
              "        1, 0, 1, 1, 0, 0, 0, 1, 0, 1, 0, 1, 1, 1, 0, 1, 1, 0, 0, 1, 0, 0,\n",
              "        0, 0, 1, 0, 0, 0, 1, 0, 1, 0, 1, 1, 0, 1, 0, 0, 0, 0, 1, 1, 0, 0,\n",
              "        1, 1, 1, 0, 1, 1, 1, 1, 1, 0, 0, 1, 1, 0, 1, 1, 0, 0, 1, 0, 1, 1,\n",
              "        1, 1, 0, 1, 1, 1, 1, 1, 0, 1, 0, 0, 0, 0, 0, 0, 0, 0, 0, 0, 0, 0,\n",
              "        0, 0, 1, 1, 1, 1, 1, 1, 0, 1, 0, 1, 1, 0, 1, 1, 0, 1, 0, 0, 1, 1,\n",
              "        1, 1, 1, 1, 1, 1, 1, 1, 1, 1, 1, 0, 1, 1, 0, 1, 0, 1, 1, 1, 1, 1,\n",
              "        1, 1, 1, 1, 1, 1, 1, 1, 1, 0, 1, 1, 1, 0, 1, 0, 1, 1, 1, 1, 0, 0,\n",
              "        0, 1, 1, 1, 1, 0, 1, 0, 1, 0, 1, 1, 1, 0, 1, 1, 1, 1, 1, 1, 1, 0,\n",
              "        0, 0, 1, 1, 1, 1, 1, 1, 1, 1, 1, 1, 1, 0, 0, 1, 0, 0, 0, 1, 0, 0,\n",
              "        1, 1, 1, 1, 1, 0, 1, 1, 1, 1, 1, 0, 1, 1, 1, 0, 1, 1, 0, 0, 1, 1,\n",
              "        1, 1, 1, 1, 0, 1, 1, 1, 1, 1, 1, 1, 0, 1, 1, 1, 1, 1, 0, 1, 1, 0,\n",
              "        1, 1, 1, 1, 1, 1, 1, 1, 1, 1, 1, 1, 0, 1, 0, 0, 1, 0, 1, 1, 1, 1,\n",
              "        1, 0, 1, 1, 0, 1, 0, 1, 1, 0, 1, 0, 1, 1, 1, 1, 1, 1, 1, 1, 0, 0,\n",
              "        1, 1, 1, 1, 1, 1, 0, 1, 1, 1, 1, 1, 1, 1, 1, 1, 1, 0, 1, 1, 1, 1,\n",
              "        1, 1, 1, 0, 1, 0, 1, 1, 0, 1, 1, 1, 1, 1, 0, 0, 1, 0, 1, 0, 1, 1,\n",
              "        1, 1, 1, 0, 1, 1, 0, 1, 0, 1, 0, 0, 1, 1, 1, 0, 1, 1, 1, 1, 1, 1,\n",
              "        1, 1, 1, 1, 1, 0, 1, 0, 0, 1, 1, 1, 1, 1, 1, 1, 1, 1, 1, 1, 1, 1,\n",
              "        1, 1, 1, 1, 1, 1, 1, 1, 1, 1, 1, 1, 0, 0, 0, 0, 0, 0, 1]),\n",
              " 'target_names': array(['malignant', 'benign'], dtype='<U9')}"
            ]
          },
          "metadata": {},
          "execution_count": 69
        }
      ]
    },
    {
      "cell_type": "code",
      "source": [
        "# check type of data (bunch acts a dict where you can treat keys like attributes)\n",
        "type(data)"
      ],
      "metadata": {
        "colab": {
          "base_uri": "https://localhost:8080/"
        },
        "id": "b3KFYdbWcfhv",
        "outputId": "b93c40e9-dc4c-4c16-9e88-bf6b554fa00b"
      },
      "execution_count": null,
      "outputs": [
        {
          "output_type": "execute_result",
          "data": {
            "text/plain": [
              "sklearn.utils.Bunch"
            ]
          },
          "metadata": {},
          "execution_count": 70
        }
      ]
    },
    {
      "cell_type": "code",
      "source": [
        "data.keys()"
      ],
      "metadata": {
        "colab": {
          "base_uri": "https://localhost:8080/"
        },
        "id": "JkGhCkFSclU3",
        "outputId": "26113ea7-a7aa-4fa0-a2ff-c02d47760cda"
      },
      "execution_count": null,
      "outputs": [
        {
          "output_type": "execute_result",
          "data": {
            "text/plain": [
              "dict_keys(['data', 'target', 'frame', 'target_names', 'DESCR', 'feature_names', 'filename', 'data_module'])"
            ]
          },
          "metadata": {},
          "execution_count": 71
        }
      ]
    },
    {
      "cell_type": "code",
      "source": [
        "# check shape of x\n",
        "data.data.shape"
      ],
      "metadata": {
        "colab": {
          "base_uri": "https://localhost:8080/"
        },
        "id": "5PBYZDNzd3oP",
        "outputId": "43e2207b-2d80-4145-e53f-f4f2efb7d4f7"
      },
      "execution_count": null,
      "outputs": [
        {
          "output_type": "execute_result",
          "data": {
            "text/plain": [
              "(569, 30)"
            ]
          },
          "metadata": {},
          "execution_count": 72
        }
      ]
    },
    {
      "cell_type": "code",
      "source": [
        "data.target"
      ],
      "metadata": {
        "colab": {
          "base_uri": "https://localhost:8080/"
        },
        "id": "XqrTq_m1d9_k",
        "outputId": "8ace8b9f-1e9a-4208-90d8-b16bedb186b7"
      },
      "execution_count": null,
      "outputs": [
        {
          "output_type": "execute_result",
          "data": {
            "text/plain": [
              "array([0, 0, 0, 0, 0, 0, 0, 0, 0, 0, 0, 0, 0, 0, 0, 0, 0, 0, 0, 1, 1, 1,\n",
              "       0, 0, 0, 0, 0, 0, 0, 0, 0, 0, 0, 0, 0, 0, 0, 1, 0, 0, 0, 0, 0, 0,\n",
              "       0, 0, 1, 0, 1, 1, 1, 1, 1, 0, 0, 1, 0, 0, 1, 1, 1, 1, 0, 1, 0, 0,\n",
              "       1, 1, 1, 1, 0, 1, 0, 0, 1, 0, 1, 0, 0, 1, 1, 1, 0, 0, 1, 0, 0, 0,\n",
              "       1, 1, 1, 0, 1, 1, 0, 0, 1, 1, 1, 0, 0, 1, 1, 1, 1, 0, 1, 1, 0, 1,\n",
              "       1, 1, 1, 1, 1, 1, 1, 0, 0, 0, 1, 0, 0, 1, 1, 1, 0, 0, 1, 0, 1, 0,\n",
              "       0, 1, 0, 0, 1, 1, 0, 1, 1, 0, 1, 1, 1, 1, 0, 1, 1, 1, 1, 1, 1, 1,\n",
              "       1, 1, 0, 1, 1, 1, 1, 0, 0, 1, 0, 1, 1, 0, 0, 1, 1, 0, 0, 1, 1, 1,\n",
              "       1, 0, 1, 1, 0, 0, 0, 1, 0, 1, 0, 1, 1, 1, 0, 1, 1, 0, 0, 1, 0, 0,\n",
              "       0, 0, 1, 0, 0, 0, 1, 0, 1, 0, 1, 1, 0, 1, 0, 0, 0, 0, 1, 1, 0, 0,\n",
              "       1, 1, 1, 0, 1, 1, 1, 1, 1, 0, 0, 1, 1, 0, 1, 1, 0, 0, 1, 0, 1, 1,\n",
              "       1, 1, 0, 1, 1, 1, 1, 1, 0, 1, 0, 0, 0, 0, 0, 0, 0, 0, 0, 0, 0, 0,\n",
              "       0, 0, 1, 1, 1, 1, 1, 1, 0, 1, 0, 1, 1, 0, 1, 1, 0, 1, 0, 0, 1, 1,\n",
              "       1, 1, 1, 1, 1, 1, 1, 1, 1, 1, 1, 0, 1, 1, 0, 1, 0, 1, 1, 1, 1, 1,\n",
              "       1, 1, 1, 1, 1, 1, 1, 1, 1, 0, 1, 1, 1, 0, 1, 0, 1, 1, 1, 1, 0, 0,\n",
              "       0, 1, 1, 1, 1, 0, 1, 0, 1, 0, 1, 1, 1, 0, 1, 1, 1, 1, 1, 1, 1, 0,\n",
              "       0, 0, 1, 1, 1, 1, 1, 1, 1, 1, 1, 1, 1, 0, 0, 1, 0, 0, 0, 1, 0, 0,\n",
              "       1, 1, 1, 1, 1, 0, 1, 1, 1, 1, 1, 0, 1, 1, 1, 0, 1, 1, 0, 0, 1, 1,\n",
              "       1, 1, 1, 1, 0, 1, 1, 1, 1, 1, 1, 1, 0, 1, 1, 1, 1, 1, 0, 1, 1, 0,\n",
              "       1, 1, 1, 1, 1, 1, 1, 1, 1, 1, 1, 1, 0, 1, 0, 0, 1, 0, 1, 1, 1, 1,\n",
              "       1, 0, 1, 1, 0, 1, 0, 1, 1, 0, 1, 0, 1, 1, 1, 1, 1, 1, 1, 1, 0, 0,\n",
              "       1, 1, 1, 1, 1, 1, 0, 1, 1, 1, 1, 1, 1, 1, 1, 1, 1, 0, 1, 1, 1, 1,\n",
              "       1, 1, 1, 0, 1, 0, 1, 1, 0, 1, 1, 1, 1, 1, 0, 0, 1, 0, 1, 0, 1, 1,\n",
              "       1, 1, 1, 0, 1, 1, 0, 1, 0, 1, 0, 0, 1, 1, 1, 0, 1, 1, 1, 1, 1, 1,\n",
              "       1, 1, 1, 1, 1, 0, 1, 0, 0, 1, 1, 1, 1, 1, 1, 1, 1, 1, 1, 1, 1, 1,\n",
              "       1, 1, 1, 1, 1, 1, 1, 1, 1, 1, 1, 1, 0, 0, 0, 0, 0, 0, 1])"
            ]
          },
          "metadata": {},
          "execution_count": 73
        }
      ]
    },
    {
      "cell_type": "code",
      "source": [
        "data.target_names"
      ],
      "metadata": {
        "colab": {
          "base_uri": "https://localhost:8080/"
        },
        "id": "9wE3CnNseMx2",
        "outputId": "14ec0260-d1bc-4522-b7a8-29db1755efb4"
      },
      "execution_count": null,
      "outputs": [
        {
          "output_type": "execute_result",
          "data": {
            "text/plain": [
              "array(['malignant', 'benign'], dtype='<U9')"
            ]
          },
          "metadata": {},
          "execution_count": 74
        }
      ]
    },
    {
      "cell_type": "code",
      "source": [
        "data.target.shape"
      ],
      "metadata": {
        "colab": {
          "base_uri": "https://localhost:8080/"
        },
        "id": "my6ONf93ee2F",
        "outputId": "0da5358f-23f5-485c-e1b5-11368eb03f20"
      },
      "execution_count": null,
      "outputs": [
        {
          "output_type": "execute_result",
          "data": {
            "text/plain": [
              "(569,)"
            ]
          },
          "metadata": {},
          "execution_count": 75
        }
      ]
    },
    {
      "cell_type": "code",
      "source": [
        "data.feature_names"
      ],
      "metadata": {
        "colab": {
          "base_uri": "https://localhost:8080/"
        },
        "id": "0HF2aMOnelxr",
        "outputId": "1d3c6101-b491-4e25-eb8a-7dc713d2df97"
      },
      "execution_count": null,
      "outputs": [
        {
          "output_type": "execute_result",
          "data": {
            "text/plain": [
              "array(['mean radius', 'mean texture', 'mean perimeter', 'mean area',\n",
              "       'mean smoothness', 'mean compactness', 'mean concavity',\n",
              "       'mean concave points', 'mean symmetry', 'mean fractal dimension',\n",
              "       'radius error', 'texture error', 'perimeter error', 'area error',\n",
              "       'smoothness error', 'compactness error', 'concavity error',\n",
              "       'concave points error', 'symmetry error',\n",
              "       'fractal dimension error', 'worst radius', 'worst texture',\n",
              "       'worst perimeter', 'worst area', 'worst smoothness',\n",
              "       'worst compactness', 'worst concavity', 'worst concave points',\n",
              "       'worst symmetry', 'worst fractal dimension'], dtype='<U23')"
            ]
          },
          "metadata": {},
          "execution_count": 76
        }
      ]
    },
    {
      "cell_type": "code",
      "source": [
        "from sklearn.model_selection import train_test_split"
      ],
      "metadata": {
        "id": "zdvjWJD7esp9"
      },
      "execution_count": null,
      "outputs": []
    },
    {
      "cell_type": "code",
      "source": [
        "# split data into train and test sets\n",
        "# this lets us simulate future data\n",
        "\n",
        "X_train, X_test, y_train, y_test = train_test_split(data.data, data.target, test_size=.33)\n",
        "N, D = X_train.shape"
      ],
      "metadata": {
        "id": "rKIbWkjte4Fe"
      },
      "execution_count": null,
      "outputs": []
    },
    {
      "cell_type": "code",
      "source": [
        "# scale the data (standardization)\n",
        "from sklearn.preprocessing import StandardScaler\n",
        "\n",
        "scaler = StandardScaler()\n",
        "X_train = scaler.fit_transform(X_train)\n",
        "\n",
        "# import not to expose any test data to training pipeline\n",
        "X_test = scaler.transform(X_test) "
      ],
      "metadata": {
        "id": "y0tC0fjwg5Dx"
      },
      "execution_count": null,
      "outputs": []
    },
    {
      "cell_type": "code",
      "source": [
        "# build the tensorflow model\n",
        "\n",
        "model = tf.keras.models.Sequential([\n",
        "                                    tf.keras.layers.Input(shape=(D,)),\n",
        "                                    tf.keras.layers.Dense(1, activation=\"sigmoid\")\n",
        "])\n",
        "\n",
        "# or\n",
        "\n",
        "model = tf.keras.models.Sequential()\n",
        "model.add(tf.keras.layers.Dense(1, input_shape=(D,), activation=\"sigmoid\"))"
      ],
      "metadata": {
        "id": "0ScDxmVAhOgb"
      },
      "execution_count": null,
      "outputs": []
    },
    {
      "cell_type": "code",
      "source": [
        "model.compile(optimizer=\"adam\",\n",
        "              loss=\"binary_crossentropy\",\n",
        "              metrics=[\"accuracy\"])"
      ],
      "metadata": {
        "id": "9iWyJwLsi9Te"
      },
      "execution_count": null,
      "outputs": []
    },
    {
      "cell_type": "code",
      "source": [
        "# train the model\n",
        "\n",
        "r = model.fit(X_train, y_train, validation_data=(X_test, y_test), epochs=500)"
      ],
      "metadata": {
        "colab": {
          "base_uri": "https://localhost:8080/"
        },
        "id": "WijBY519kS-W",
        "outputId": "b19aca77-6b8a-4806-a030-096cdc086f26"
      },
      "execution_count": null,
      "outputs": [
        {
          "output_type": "stream",
          "name": "stdout",
          "text": [
            "Epoch 1/500\n",
            "12/12 [==============================] - 1s 18ms/step - loss: 0.6055 - accuracy: 0.6719 - val_loss: 0.5775 - val_accuracy: 0.6649\n",
            "Epoch 2/500\n",
            "12/12 [==============================] - 0s 5ms/step - loss: 0.5465 - accuracy: 0.7244 - val_loss: 0.5247 - val_accuracy: 0.7660\n",
            "Epoch 3/500\n",
            "12/12 [==============================] - 0s 4ms/step - loss: 0.4969 - accuracy: 0.7743 - val_loss: 0.4803 - val_accuracy: 0.8032\n",
            "Epoch 4/500\n",
            "12/12 [==============================] - 0s 5ms/step - loss: 0.4567 - accuracy: 0.8241 - val_loss: 0.4431 - val_accuracy: 0.8617\n",
            "Epoch 5/500\n",
            "12/12 [==============================] - 0s 4ms/step - loss: 0.4226 - accuracy: 0.8451 - val_loss: 0.4129 - val_accuracy: 0.8723\n",
            "Epoch 6/500\n",
            "12/12 [==============================] - 0s 6ms/step - loss: 0.3954 - accuracy: 0.8583 - val_loss: 0.3865 - val_accuracy: 0.8936\n",
            "Epoch 7/500\n",
            "12/12 [==============================] - 0s 11ms/step - loss: 0.3729 - accuracy: 0.8766 - val_loss: 0.3633 - val_accuracy: 0.8936\n",
            "Epoch 8/500\n",
            "12/12 [==============================] - 0s 6ms/step - loss: 0.3525 - accuracy: 0.8845 - val_loss: 0.3439 - val_accuracy: 0.8936\n",
            "Epoch 9/500\n",
            "12/12 [==============================] - 0s 7ms/step - loss: 0.3352 - accuracy: 0.8898 - val_loss: 0.3271 - val_accuracy: 0.8989\n",
            "Epoch 10/500\n",
            "12/12 [==============================] - 0s 7ms/step - loss: 0.3204 - accuracy: 0.8976 - val_loss: 0.3117 - val_accuracy: 0.8936\n",
            "Epoch 11/500\n",
            "12/12 [==============================] - 0s 5ms/step - loss: 0.3070 - accuracy: 0.9029 - val_loss: 0.2979 - val_accuracy: 0.8936\n",
            "Epoch 12/500\n",
            "12/12 [==============================] - 0s 6ms/step - loss: 0.2949 - accuracy: 0.9108 - val_loss: 0.2857 - val_accuracy: 0.8989\n",
            "Epoch 13/500\n",
            "12/12 [==============================] - 0s 5ms/step - loss: 0.2840 - accuracy: 0.9134 - val_loss: 0.2747 - val_accuracy: 0.9096\n",
            "Epoch 14/500\n",
            "12/12 [==============================] - 0s 6ms/step - loss: 0.2743 - accuracy: 0.9160 - val_loss: 0.2645 - val_accuracy: 0.9096\n",
            "Epoch 15/500\n",
            "12/12 [==============================] - 0s 4ms/step - loss: 0.2651 - accuracy: 0.9186 - val_loss: 0.2554 - val_accuracy: 0.9096\n",
            "Epoch 16/500\n",
            "12/12 [==============================] - 0s 4ms/step - loss: 0.2568 - accuracy: 0.9186 - val_loss: 0.2470 - val_accuracy: 0.9096\n",
            "Epoch 17/500\n",
            "12/12 [==============================] - 0s 7ms/step - loss: 0.2491 - accuracy: 0.9186 - val_loss: 0.2391 - val_accuracy: 0.9202\n",
            "Epoch 18/500\n",
            "12/12 [==============================] - 0s 5ms/step - loss: 0.2420 - accuracy: 0.9186 - val_loss: 0.2319 - val_accuracy: 0.9309\n",
            "Epoch 19/500\n",
            "12/12 [==============================] - 0s 6ms/step - loss: 0.2352 - accuracy: 0.9239 - val_loss: 0.2253 - val_accuracy: 0.9309\n",
            "Epoch 20/500\n",
            "12/12 [==============================] - 0s 5ms/step - loss: 0.2291 - accuracy: 0.9239 - val_loss: 0.2190 - val_accuracy: 0.9309\n",
            "Epoch 21/500\n",
            "12/12 [==============================] - 0s 6ms/step - loss: 0.2236 - accuracy: 0.9239 - val_loss: 0.2131 - val_accuracy: 0.9362\n",
            "Epoch 22/500\n",
            "12/12 [==============================] - 0s 6ms/step - loss: 0.2177 - accuracy: 0.9239 - val_loss: 0.2075 - val_accuracy: 0.9415\n",
            "Epoch 23/500\n",
            "12/12 [==============================] - 0s 4ms/step - loss: 0.2127 - accuracy: 0.9265 - val_loss: 0.2025 - val_accuracy: 0.9415\n",
            "Epoch 24/500\n",
            "12/12 [==============================] - 0s 6ms/step - loss: 0.2079 - accuracy: 0.9291 - val_loss: 0.1977 - val_accuracy: 0.9415\n",
            "Epoch 25/500\n",
            "12/12 [==============================] - 0s 5ms/step - loss: 0.2033 - accuracy: 0.9318 - val_loss: 0.1932 - val_accuracy: 0.9415\n",
            "Epoch 26/500\n",
            "12/12 [==============================] - 0s 5ms/step - loss: 0.1989 - accuracy: 0.9396 - val_loss: 0.1888 - val_accuracy: 0.9415\n",
            "Epoch 27/500\n",
            "12/12 [==============================] - 0s 4ms/step - loss: 0.1949 - accuracy: 0.9396 - val_loss: 0.1846 - val_accuracy: 0.9415\n",
            "Epoch 28/500\n",
            "12/12 [==============================] - 0s 5ms/step - loss: 0.1910 - accuracy: 0.9396 - val_loss: 0.1809 - val_accuracy: 0.9521\n",
            "Epoch 29/500\n",
            "12/12 [==============================] - 0s 4ms/step - loss: 0.1871 - accuracy: 0.9423 - val_loss: 0.1772 - val_accuracy: 0.9521\n",
            "Epoch 30/500\n",
            "12/12 [==============================] - 0s 8ms/step - loss: 0.1839 - accuracy: 0.9423 - val_loss: 0.1738 - val_accuracy: 0.9574\n",
            "Epoch 31/500\n",
            "12/12 [==============================] - 0s 8ms/step - loss: 0.1804 - accuracy: 0.9423 - val_loss: 0.1702 - val_accuracy: 0.9628\n",
            "Epoch 32/500\n",
            "12/12 [==============================] - 0s 7ms/step - loss: 0.1771 - accuracy: 0.9423 - val_loss: 0.1672 - val_accuracy: 0.9628\n",
            "Epoch 33/500\n",
            "12/12 [==============================] - 0s 6ms/step - loss: 0.1742 - accuracy: 0.9449 - val_loss: 0.1641 - val_accuracy: 0.9681\n",
            "Epoch 34/500\n",
            "12/12 [==============================] - 0s 4ms/step - loss: 0.1712 - accuracy: 0.9475 - val_loss: 0.1613 - val_accuracy: 0.9681\n",
            "Epoch 35/500\n",
            "12/12 [==============================] - 0s 4ms/step - loss: 0.1686 - accuracy: 0.9475 - val_loss: 0.1586 - val_accuracy: 0.9681\n",
            "Epoch 36/500\n",
            "12/12 [==============================] - 0s 4ms/step - loss: 0.1659 - accuracy: 0.9475 - val_loss: 0.1559 - val_accuracy: 0.9681\n",
            "Epoch 37/500\n",
            "12/12 [==============================] - 0s 5ms/step - loss: 0.1634 - accuracy: 0.9475 - val_loss: 0.1534 - val_accuracy: 0.9681\n",
            "Epoch 38/500\n",
            "12/12 [==============================] - 0s 6ms/step - loss: 0.1609 - accuracy: 0.9501 - val_loss: 0.1511 - val_accuracy: 0.9681\n",
            "Epoch 39/500\n",
            "12/12 [==============================] - 0s 4ms/step - loss: 0.1587 - accuracy: 0.9501 - val_loss: 0.1488 - val_accuracy: 0.9681\n",
            "Epoch 40/500\n",
            "12/12 [==============================] - 0s 4ms/step - loss: 0.1564 - accuracy: 0.9528 - val_loss: 0.1466 - val_accuracy: 0.9681\n",
            "Epoch 41/500\n",
            "12/12 [==============================] - 0s 4ms/step - loss: 0.1544 - accuracy: 0.9554 - val_loss: 0.1443 - val_accuracy: 0.9681\n",
            "Epoch 42/500\n",
            "12/12 [==============================] - 0s 5ms/step - loss: 0.1523 - accuracy: 0.9554 - val_loss: 0.1424 - val_accuracy: 0.9681\n",
            "Epoch 43/500\n",
            "12/12 [==============================] - 0s 5ms/step - loss: 0.1504 - accuracy: 0.9554 - val_loss: 0.1405 - val_accuracy: 0.9681\n",
            "Epoch 44/500\n",
            "12/12 [==============================] - 0s 5ms/step - loss: 0.1485 - accuracy: 0.9554 - val_loss: 0.1386 - val_accuracy: 0.9681\n",
            "Epoch 45/500\n",
            "12/12 [==============================] - 0s 5ms/step - loss: 0.1467 - accuracy: 0.9554 - val_loss: 0.1367 - val_accuracy: 0.9681\n",
            "Epoch 46/500\n",
            "12/12 [==============================] - 0s 4ms/step - loss: 0.1450 - accuracy: 0.9554 - val_loss: 0.1350 - val_accuracy: 0.9681\n",
            "Epoch 47/500\n",
            "12/12 [==============================] - 0s 5ms/step - loss: 0.1434 - accuracy: 0.9580 - val_loss: 0.1334 - val_accuracy: 0.9681\n",
            "Epoch 48/500\n",
            "12/12 [==============================] - 0s 5ms/step - loss: 0.1416 - accuracy: 0.9580 - val_loss: 0.1317 - val_accuracy: 0.9681\n",
            "Epoch 49/500\n",
            "12/12 [==============================] - 0s 4ms/step - loss: 0.1402 - accuracy: 0.9580 - val_loss: 0.1300 - val_accuracy: 0.9681\n",
            "Epoch 50/500\n",
            "12/12 [==============================] - 0s 5ms/step - loss: 0.1387 - accuracy: 0.9606 - val_loss: 0.1286 - val_accuracy: 0.9681\n",
            "Epoch 51/500\n",
            "12/12 [==============================] - 0s 6ms/step - loss: 0.1373 - accuracy: 0.9633 - val_loss: 0.1271 - val_accuracy: 0.9681\n",
            "Epoch 52/500\n",
            "12/12 [==============================] - 0s 6ms/step - loss: 0.1358 - accuracy: 0.9633 - val_loss: 0.1256 - val_accuracy: 0.9681\n",
            "Epoch 53/500\n",
            "12/12 [==============================] - 0s 5ms/step - loss: 0.1345 - accuracy: 0.9633 - val_loss: 0.1243 - val_accuracy: 0.9734\n",
            "Epoch 54/500\n",
            "12/12 [==============================] - 0s 6ms/step - loss: 0.1332 - accuracy: 0.9685 - val_loss: 0.1230 - val_accuracy: 0.9734\n",
            "Epoch 55/500\n",
            "12/12 [==============================] - 0s 6ms/step - loss: 0.1320 - accuracy: 0.9685 - val_loss: 0.1217 - val_accuracy: 0.9734\n",
            "Epoch 56/500\n",
            "12/12 [==============================] - 0s 5ms/step - loss: 0.1307 - accuracy: 0.9685 - val_loss: 0.1204 - val_accuracy: 0.9734\n",
            "Epoch 57/500\n",
            "12/12 [==============================] - 0s 5ms/step - loss: 0.1296 - accuracy: 0.9685 - val_loss: 0.1192 - val_accuracy: 0.9734\n",
            "Epoch 58/500\n",
            "12/12 [==============================] - 0s 4ms/step - loss: 0.1285 - accuracy: 0.9685 - val_loss: 0.1180 - val_accuracy: 0.9734\n",
            "Epoch 59/500\n",
            "12/12 [==============================] - 0s 5ms/step - loss: 0.1274 - accuracy: 0.9685 - val_loss: 0.1169 - val_accuracy: 0.9734\n",
            "Epoch 60/500\n",
            "12/12 [==============================] - 0s 5ms/step - loss: 0.1263 - accuracy: 0.9685 - val_loss: 0.1159 - val_accuracy: 0.9734\n",
            "Epoch 61/500\n",
            "12/12 [==============================] - 0s 4ms/step - loss: 0.1253 - accuracy: 0.9685 - val_loss: 0.1149 - val_accuracy: 0.9734\n",
            "Epoch 62/500\n",
            "12/12 [==============================] - 0s 5ms/step - loss: 0.1243 - accuracy: 0.9685 - val_loss: 0.1138 - val_accuracy: 0.9734\n",
            "Epoch 63/500\n",
            "12/12 [==============================] - 0s 6ms/step - loss: 0.1233 - accuracy: 0.9685 - val_loss: 0.1127 - val_accuracy: 0.9734\n",
            "Epoch 64/500\n",
            "12/12 [==============================] - 0s 5ms/step - loss: 0.1223 - accuracy: 0.9685 - val_loss: 0.1117 - val_accuracy: 0.9734\n",
            "Epoch 65/500\n",
            "12/12 [==============================] - 0s 7ms/step - loss: 0.1214 - accuracy: 0.9685 - val_loss: 0.1107 - val_accuracy: 0.9734\n",
            "Epoch 66/500\n",
            "12/12 [==============================] - 0s 12ms/step - loss: 0.1205 - accuracy: 0.9685 - val_loss: 0.1099 - val_accuracy: 0.9734\n",
            "Epoch 67/500\n",
            "12/12 [==============================] - 0s 7ms/step - loss: 0.1197 - accuracy: 0.9685 - val_loss: 0.1089 - val_accuracy: 0.9734\n",
            "Epoch 68/500\n",
            "12/12 [==============================] - 0s 7ms/step - loss: 0.1188 - accuracy: 0.9685 - val_loss: 0.1081 - val_accuracy: 0.9734\n",
            "Epoch 69/500\n",
            "12/12 [==============================] - 0s 7ms/step - loss: 0.1180 - accuracy: 0.9685 - val_loss: 0.1072 - val_accuracy: 0.9787\n",
            "Epoch 70/500\n",
            "12/12 [==============================] - 0s 7ms/step - loss: 0.1172 - accuracy: 0.9685 - val_loss: 0.1063 - val_accuracy: 0.9787\n",
            "Epoch 71/500\n",
            "12/12 [==============================] - 0s 9ms/step - loss: 0.1164 - accuracy: 0.9685 - val_loss: 0.1054 - val_accuracy: 0.9787\n",
            "Epoch 72/500\n",
            "12/12 [==============================] - 0s 10ms/step - loss: 0.1157 - accuracy: 0.9738 - val_loss: 0.1048 - val_accuracy: 0.9787\n",
            "Epoch 73/500\n",
            "12/12 [==============================] - 0s 11ms/step - loss: 0.1150 - accuracy: 0.9738 - val_loss: 0.1039 - val_accuracy: 0.9787\n",
            "Epoch 74/500\n",
            "12/12 [==============================] - 0s 9ms/step - loss: 0.1142 - accuracy: 0.9738 - val_loss: 0.1032 - val_accuracy: 0.9787\n",
            "Epoch 75/500\n",
            "12/12 [==============================] - 0s 12ms/step - loss: 0.1135 - accuracy: 0.9738 - val_loss: 0.1024 - val_accuracy: 0.9787\n",
            "Epoch 76/500\n",
            "12/12 [==============================] - 0s 8ms/step - loss: 0.1128 - accuracy: 0.9738 - val_loss: 0.1017 - val_accuracy: 0.9787\n",
            "Epoch 77/500\n",
            "12/12 [==============================] - 0s 8ms/step - loss: 0.1121 - accuracy: 0.9738 - val_loss: 0.1011 - val_accuracy: 0.9787\n",
            "Epoch 78/500\n",
            "12/12 [==============================] - 0s 8ms/step - loss: 0.1115 - accuracy: 0.9738 - val_loss: 0.1003 - val_accuracy: 0.9787\n",
            "Epoch 79/500\n",
            "12/12 [==============================] - 0s 7ms/step - loss: 0.1108 - accuracy: 0.9738 - val_loss: 0.0996 - val_accuracy: 0.9787\n",
            "Epoch 80/500\n",
            "12/12 [==============================] - 0s 9ms/step - loss: 0.1102 - accuracy: 0.9738 - val_loss: 0.0990 - val_accuracy: 0.9787\n",
            "Epoch 81/500\n",
            "12/12 [==============================] - 0s 8ms/step - loss: 0.1095 - accuracy: 0.9738 - val_loss: 0.0983 - val_accuracy: 0.9787\n",
            "Epoch 82/500\n",
            "12/12 [==============================] - 0s 8ms/step - loss: 0.1090 - accuracy: 0.9738 - val_loss: 0.0977 - val_accuracy: 0.9787\n",
            "Epoch 83/500\n",
            "12/12 [==============================] - 0s 7ms/step - loss: 0.1084 - accuracy: 0.9738 - val_loss: 0.0971 - val_accuracy: 0.9787\n",
            "Epoch 84/500\n",
            "12/12 [==============================] - 0s 8ms/step - loss: 0.1078 - accuracy: 0.9738 - val_loss: 0.0965 - val_accuracy: 0.9787\n",
            "Epoch 85/500\n",
            "12/12 [==============================] - 0s 10ms/step - loss: 0.1072 - accuracy: 0.9738 - val_loss: 0.0960 - val_accuracy: 0.9787\n",
            "Epoch 86/500\n",
            "12/12 [==============================] - 0s 7ms/step - loss: 0.1067 - accuracy: 0.9738 - val_loss: 0.0953 - val_accuracy: 0.9787\n",
            "Epoch 87/500\n",
            "12/12 [==============================] - 0s 7ms/step - loss: 0.1061 - accuracy: 0.9738 - val_loss: 0.0948 - val_accuracy: 0.9787\n",
            "Epoch 88/500\n",
            "12/12 [==============================] - 0s 8ms/step - loss: 0.1056 - accuracy: 0.9738 - val_loss: 0.0942 - val_accuracy: 0.9787\n",
            "Epoch 89/500\n",
            "12/12 [==============================] - 0s 8ms/step - loss: 0.1051 - accuracy: 0.9738 - val_loss: 0.0937 - val_accuracy: 0.9787\n",
            "Epoch 90/500\n",
            "12/12 [==============================] - 0s 8ms/step - loss: 0.1046 - accuracy: 0.9738 - val_loss: 0.0931 - val_accuracy: 0.9787\n",
            "Epoch 91/500\n",
            "12/12 [==============================] - 0s 8ms/step - loss: 0.1041 - accuracy: 0.9738 - val_loss: 0.0926 - val_accuracy: 0.9787\n",
            "Epoch 92/500\n",
            "12/12 [==============================] - 0s 8ms/step - loss: 0.1036 - accuracy: 0.9738 - val_loss: 0.0920 - val_accuracy: 0.9787\n",
            "Epoch 93/500\n",
            "12/12 [==============================] - 0s 11ms/step - loss: 0.1031 - accuracy: 0.9738 - val_loss: 0.0916 - val_accuracy: 0.9787\n",
            "Epoch 94/500\n",
            "12/12 [==============================] - 0s 8ms/step - loss: 0.1027 - accuracy: 0.9738 - val_loss: 0.0911 - val_accuracy: 0.9787\n",
            "Epoch 95/500\n",
            "12/12 [==============================] - 0s 13ms/step - loss: 0.1022 - accuracy: 0.9738 - val_loss: 0.0906 - val_accuracy: 0.9787\n",
            "Epoch 96/500\n",
            "12/12 [==============================] - 0s 12ms/step - loss: 0.1017 - accuracy: 0.9738 - val_loss: 0.0901 - val_accuracy: 0.9787\n",
            "Epoch 97/500\n",
            "12/12 [==============================] - 0s 7ms/step - loss: 0.1013 - accuracy: 0.9738 - val_loss: 0.0896 - val_accuracy: 0.9787\n",
            "Epoch 98/500\n",
            "12/12 [==============================] - 0s 7ms/step - loss: 0.1009 - accuracy: 0.9738 - val_loss: 0.0892 - val_accuracy: 0.9787\n",
            "Epoch 99/500\n",
            "12/12 [==============================] - 0s 9ms/step - loss: 0.1005 - accuracy: 0.9738 - val_loss: 0.0887 - val_accuracy: 0.9787\n",
            "Epoch 100/500\n",
            "12/12 [==============================] - 0s 13ms/step - loss: 0.1000 - accuracy: 0.9738 - val_loss: 0.0883 - val_accuracy: 0.9787\n",
            "Epoch 101/500\n",
            "12/12 [==============================] - 0s 8ms/step - loss: 0.0996 - accuracy: 0.9738 - val_loss: 0.0879 - val_accuracy: 0.9787\n",
            "Epoch 102/500\n",
            "12/12 [==============================] - 0s 10ms/step - loss: 0.0992 - accuracy: 0.9738 - val_loss: 0.0875 - val_accuracy: 0.9787\n",
            "Epoch 103/500\n",
            "12/12 [==============================] - 0s 14ms/step - loss: 0.0988 - accuracy: 0.9738 - val_loss: 0.0870 - val_accuracy: 0.9787\n",
            "Epoch 104/500\n",
            "12/12 [==============================] - 0s 9ms/step - loss: 0.0984 - accuracy: 0.9738 - val_loss: 0.0865 - val_accuracy: 0.9787\n",
            "Epoch 105/500\n",
            "12/12 [==============================] - 0s 8ms/step - loss: 0.0980 - accuracy: 0.9738 - val_loss: 0.0861 - val_accuracy: 0.9787\n",
            "Epoch 106/500\n",
            "12/12 [==============================] - 0s 7ms/step - loss: 0.0976 - accuracy: 0.9738 - val_loss: 0.0857 - val_accuracy: 0.9787\n",
            "Epoch 107/500\n",
            "12/12 [==============================] - 0s 11ms/step - loss: 0.0972 - accuracy: 0.9738 - val_loss: 0.0853 - val_accuracy: 0.9787\n",
            "Epoch 108/500\n",
            "12/12 [==============================] - 0s 8ms/step - loss: 0.0969 - accuracy: 0.9738 - val_loss: 0.0849 - val_accuracy: 0.9787\n",
            "Epoch 109/500\n",
            "12/12 [==============================] - 0s 12ms/step - loss: 0.0965 - accuracy: 0.9738 - val_loss: 0.0846 - val_accuracy: 0.9787\n",
            "Epoch 110/500\n",
            "12/12 [==============================] - 0s 11ms/step - loss: 0.0962 - accuracy: 0.9738 - val_loss: 0.0841 - val_accuracy: 0.9787\n",
            "Epoch 111/500\n",
            "12/12 [==============================] - 0s 10ms/step - loss: 0.0958 - accuracy: 0.9738 - val_loss: 0.0838 - val_accuracy: 0.9787\n",
            "Epoch 112/500\n",
            "12/12 [==============================] - 0s 11ms/step - loss: 0.0955 - accuracy: 0.9738 - val_loss: 0.0835 - val_accuracy: 0.9787\n",
            "Epoch 113/500\n",
            "12/12 [==============================] - 0s 8ms/step - loss: 0.0951 - accuracy: 0.9738 - val_loss: 0.0830 - val_accuracy: 0.9787\n",
            "Epoch 114/500\n",
            "12/12 [==============================] - 0s 12ms/step - loss: 0.0948 - accuracy: 0.9738 - val_loss: 0.0828 - val_accuracy: 0.9787\n",
            "Epoch 115/500\n",
            "12/12 [==============================] - 0s 12ms/step - loss: 0.0945 - accuracy: 0.9738 - val_loss: 0.0824 - val_accuracy: 0.9787\n",
            "Epoch 116/500\n",
            "12/12 [==============================] - 0s 18ms/step - loss: 0.0942 - accuracy: 0.9738 - val_loss: 0.0820 - val_accuracy: 0.9787\n",
            "Epoch 117/500\n",
            "12/12 [==============================] - 0s 10ms/step - loss: 0.0938 - accuracy: 0.9738 - val_loss: 0.0817 - val_accuracy: 0.9787\n",
            "Epoch 118/500\n",
            "12/12 [==============================] - 0s 9ms/step - loss: 0.0935 - accuracy: 0.9738 - val_loss: 0.0813 - val_accuracy: 0.9787\n",
            "Epoch 119/500\n",
            "12/12 [==============================] - 0s 8ms/step - loss: 0.0932 - accuracy: 0.9738 - val_loss: 0.0810 - val_accuracy: 0.9787\n",
            "Epoch 120/500\n",
            "12/12 [==============================] - 0s 9ms/step - loss: 0.0929 - accuracy: 0.9738 - val_loss: 0.0807 - val_accuracy: 0.9787\n",
            "Epoch 121/500\n",
            "12/12 [==============================] - 0s 11ms/step - loss: 0.0926 - accuracy: 0.9738 - val_loss: 0.0804 - val_accuracy: 0.9787\n",
            "Epoch 122/500\n",
            "12/12 [==============================] - 0s 8ms/step - loss: 0.0923 - accuracy: 0.9738 - val_loss: 0.0801 - val_accuracy: 0.9787\n",
            "Epoch 123/500\n",
            "12/12 [==============================] - 0s 7ms/step - loss: 0.0920 - accuracy: 0.9738 - val_loss: 0.0798 - val_accuracy: 0.9787\n",
            "Epoch 124/500\n",
            "12/12 [==============================] - 0s 7ms/step - loss: 0.0917 - accuracy: 0.9738 - val_loss: 0.0794 - val_accuracy: 0.9787\n",
            "Epoch 125/500\n",
            "12/12 [==============================] - 0s 11ms/step - loss: 0.0914 - accuracy: 0.9738 - val_loss: 0.0792 - val_accuracy: 0.9787\n",
            "Epoch 126/500\n",
            "12/12 [==============================] - 0s 8ms/step - loss: 0.0911 - accuracy: 0.9738 - val_loss: 0.0789 - val_accuracy: 0.9787\n",
            "Epoch 127/500\n",
            "12/12 [==============================] - 0s 7ms/step - loss: 0.0908 - accuracy: 0.9738 - val_loss: 0.0786 - val_accuracy: 0.9787\n",
            "Epoch 128/500\n",
            "12/12 [==============================] - 0s 13ms/step - loss: 0.0906 - accuracy: 0.9738 - val_loss: 0.0783 - val_accuracy: 0.9787\n",
            "Epoch 129/500\n",
            "12/12 [==============================] - 0s 7ms/step - loss: 0.0903 - accuracy: 0.9738 - val_loss: 0.0780 - val_accuracy: 0.9787\n",
            "Epoch 130/500\n",
            "12/12 [==============================] - 0s 12ms/step - loss: 0.0901 - accuracy: 0.9738 - val_loss: 0.0777 - val_accuracy: 0.9787\n",
            "Epoch 131/500\n",
            "12/12 [==============================] - 0s 10ms/step - loss: 0.0898 - accuracy: 0.9738 - val_loss: 0.0774 - val_accuracy: 0.9787\n",
            "Epoch 132/500\n",
            "12/12 [==============================] - 0s 12ms/step - loss: 0.0895 - accuracy: 0.9738 - val_loss: 0.0772 - val_accuracy: 0.9787\n",
            "Epoch 133/500\n",
            "12/12 [==============================] - 0s 12ms/step - loss: 0.0893 - accuracy: 0.9738 - val_loss: 0.0769 - val_accuracy: 0.9787\n",
            "Epoch 134/500\n",
            "12/12 [==============================] - 0s 13ms/step - loss: 0.0890 - accuracy: 0.9738 - val_loss: 0.0766 - val_accuracy: 0.9787\n",
            "Epoch 135/500\n",
            " 1/12 [=>............................] - ETA: 0s - loss: 0.1004 - accuracy: 0.9375"
          ]
        }
      ]
    },
    {
      "cell_type": "code",
      "source": [
        "# evaluate model for loss and accuracy\n",
        "\n",
        "print(\"Train score:\", model.evaluate(X_train, y_train))\n",
        "print(\"Test score:\", model.evaluate(X_test, y_test))"
      ],
      "metadata": {
        "id": "kONCF5o7kekT"
      },
      "execution_count": null,
      "outputs": []
    },
    {
      "cell_type": "code",
      "source": [
        "# plot loss per iteration\n",
        "import matplotlib.pyplot as plt\n",
        "plt.plot(r.history[\"loss\"], label=\"loss\")\n",
        "plt.plot(r.history[\"val_loss\"], label=\"val_loss\")\n",
        "plt.legend()"
      ],
      "metadata": {
        "id": "qFKJi4vmlFl4"
      },
      "execution_count": null,
      "outputs": []
    },
    {
      "cell_type": "code",
      "source": [
        "# plot accuracy per iteration\n",
        "plt.plot(r.history[\"accuracy\"], label=\"acc\")\n",
        "plt.plot(r.history[\"val_accuracy\"], label=\"val_acc\")\n",
        "plt.legend()"
      ],
      "metadata": {
        "id": "rUlcdOOQmLFy"
      },
      "execution_count": null,
      "outputs": []
    },
    {
      "cell_type": "code",
      "source": [
        ""
      ],
      "metadata": {
        "id": "9IdLLbp9mYZ8"
      },
      "execution_count": null,
      "outputs": []
    }
  ]
}