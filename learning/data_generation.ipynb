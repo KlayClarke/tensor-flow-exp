{
  "cells": [
    {
      "cell_type": "markdown",
      "metadata": {
        "colab_type": "text",
        "id": "view-in-github"
      },
      "source": [
        "<a href=\"https://colab.research.google.com/github/KlayClarke/tf--experimentation/blob/main/data_generation.ipynb\" target=\"_parent\"><img src=\"https://colab.research.google.com/assets/colab-badge.svg\" alt=\"Open In Colab\"/></a>"
      ]
    },
    {
      "cell_type": "markdown",
      "metadata": {
        "id": "UEPqGO_RUP1I"
      },
      "source": [
        "## Generating Data"
      ]
    },
    {
      "cell_type": "code",
      "execution_count": 1,
      "metadata": {
        "id": "FWh9J02dUgGC"
      },
      "outputs": [],
      "source": [
        "import numpy as np"
      ]
    },
    {
      "cell_type": "code",
      "execution_count": 2,
      "metadata": {
        "colab": {
          "base_uri": "https://localhost:8080/"
        },
        "id": "bpc8yGCeUOzX",
        "outputId": "21dfc1d1-2360-4511-af6b-a0b0c0540575"
      },
      "outputs": [
        {
          "data": {
            "text/plain": [
              "array([[0., 0., 0.],\n",
              "       [0., 0., 0.]])"
            ]
          },
          "execution_count": 2,
          "metadata": {},
          "output_type": "execute_result"
        }
      ],
      "source": [
        "# for a 2 x 3 array with all 0s\n",
        "np.zeros((2,3))"
      ]
    },
    {
      "cell_type": "code",
      "execution_count": 3,
      "metadata": {
        "colab": {
          "base_uri": "https://localhost:8080/"
        },
        "id": "WEoJffIAUekG",
        "outputId": "fd9e0200-9c1a-42a5-b22e-3878973baa81"
      },
      "outputs": [
        {
          "data": {
            "text/plain": [
              "array([[1., 1., 1.],\n",
              "       [1., 1., 1.]])"
            ]
          },
          "execution_count": 3,
          "metadata": {},
          "output_type": "execute_result"
        }
      ],
      "source": [
        "# for a 2 x 3 array with all 1s\n",
        "np.ones((2,3))"
      ]
    },
    {
      "cell_type": "code",
      "execution_count": 4,
      "metadata": {
        "colab": {
          "base_uri": "https://localhost:8080/"
        },
        "id": "tDw-LfTGUr1A",
        "outputId": "ea302366-6a9f-4126-d84d-15ea33e3bd86"
      },
      "outputs": [
        {
          "data": {
            "text/plain": [
              "array([[10., 10., 10.],\n",
              "       [10., 10., 10.]])"
            ]
          },
          "execution_count": 4,
          "metadata": {},
          "output_type": "execute_result"
        }
      ],
      "source": [
        "# for a 2 x 3 array with all 10s\n",
        "10 * np.ones((2,3))"
      ]
    },
    {
      "cell_type": "code",
      "execution_count": 5,
      "metadata": {
        "colab": {
          "base_uri": "https://localhost:8080/"
        },
        "id": "4oCy5EQyUyfL",
        "outputId": "3d68dc58-111f-4d59-fbea-b984baeb9b2d"
      },
      "outputs": [
        {
          "data": {
            "text/plain": [
              "array([[1., 0., 0.],\n",
              "       [0., 1., 0.],\n",
              "       [0., 0., 1.]])"
            ]
          },
          "execution_count": 5,
          "metadata": {},
          "output_type": "execute_result"
        }
      ],
      "source": [
        "# for a 3 x 3 identity matrix\n",
        "np.eye(3)"
      ]
    },
    {
      "cell_type": "code",
      "execution_count": 6,
      "metadata": {
        "colab": {
          "base_uri": "https://localhost:8080/"
        },
        "id": "RYllZ4RuVDKr",
        "outputId": "b4134fd6-6741-4ccf-e5f5-fadc45fd2998"
      },
      "outputs": [
        {
          "data": {
            "text/plain": [
              "0.7302895579905949"
            ]
          },
          "execution_count": 6,
          "metadata": {},
          "output_type": "execute_result"
        }
      ],
      "source": [
        "# for a random num\n",
        "np.random.random()"
      ]
    },
    {
      "cell_type": "code",
      "execution_count": 7,
      "metadata": {
        "colab": {
          "base_uri": "https://localhost:8080/"
        },
        "id": "YCn35vgpVUeS",
        "outputId": "5198b5eb-6724-4c8f-917c-b920b408f571"
      },
      "outputs": [
        {
          "data": {
            "text/plain": [
              "array([[0.48543298, 0.38863307, 0.79647443],\n",
              "       [0.90570898, 0.58159322, 0.24011309]])"
            ]
          },
          "execution_count": 7,
          "metadata": {},
          "output_type": "execute_result"
        }
      ],
      "source": [
        "# for a 2 x 3 array with all randoms (notice only positives)\n",
        "np.random.random((2,3))"
      ]
    },
    {
      "cell_type": "code",
      "execution_count": 8,
      "metadata": {
        "colab": {
          "base_uri": "https://localhost:8080/"
        },
        "id": "QtVFZesPVeDU",
        "outputId": "12c1fc3c-3b5c-4c14-808c-32af9eb21b15"
      },
      "outputs": [
        {
          "data": {
            "text/plain": [
              "array([[-0.9389472 , -1.2984729 , -0.41636587],\n",
              "       [-0.31970654, -0.57178591, -0.7416501 ]])"
            ]
          },
          "execution_count": 8,
          "metadata": {},
          "output_type": "execute_result"
        }
      ],
      "source": [
        "# for a 2 x 3 array with all randoms (includes negatives)\n",
        "np.random.randn(2,3)"
      ]
    },
    {
      "cell_type": "code",
      "execution_count": 9,
      "metadata": {
        "id": "m5rt76FzVxOl"
      },
      "outputs": [],
      "source": [
        "# for a random array of 10000 numbers\n",
        "R = np.random.randn(10000)"
      ]
    },
    {
      "cell_type": "code",
      "execution_count": 10,
      "metadata": {
        "colab": {
          "base_uri": "https://localhost:8080/"
        },
        "id": "1XiMgqGrWCi-",
        "outputId": "065741a0-80df-4625-8b0b-1b1071b175c0"
      },
      "outputs": [
        {
          "data": {
            "text/plain": [
              "array([ 1.65694127, -0.21112796, -1.07315829, ...,  0.11091934,\n",
              "        1.70942878,  0.56242482])"
            ]
          },
          "execution_count": 10,
          "metadata": {},
          "output_type": "execute_result"
        }
      ],
      "source": [
        "R"
      ]
    },
    {
      "cell_type": "code",
      "execution_count": 11,
      "metadata": {
        "colab": {
          "base_uri": "https://localhost:8080/"
        },
        "id": "HYg-2HrnWDSW",
        "outputId": "75fae2a8-66db-440d-beb0-8a81d545319b"
      },
      "outputs": [
        {
          "data": {
            "text/plain": [
              "-0.012263878201927267"
            ]
          },
          "execution_count": 11,
          "metadata": {},
          "output_type": "execute_result"
        }
      ],
      "source": [
        "# mean\n",
        "R.mean()"
      ]
    },
    {
      "cell_type": "code",
      "execution_count": 12,
      "metadata": {
        "colab": {
          "base_uri": "https://localhost:8080/"
        },
        "id": "xqLsn5Z4WGZ1",
        "outputId": "8c2cfddb-33a3-4b2c-9f3a-2b04c5e84b2b"
      },
      "outputs": [
        {
          "data": {
            "text/plain": [
              "-0.012263878201927267"
            ]
          },
          "execution_count": 12,
          "metadata": {},
          "output_type": "execute_result"
        }
      ],
      "source": [
        "# mean\n",
        "np.mean(R)"
      ]
    },
    {
      "cell_type": "code",
      "execution_count": 13,
      "metadata": {
        "colab": {
          "base_uri": "https://localhost:8080/"
        },
        "id": "L7o24WrCWKe7",
        "outputId": "fa115d03-abfa-42e1-bfa7-8c2feb06e132"
      },
      "outputs": [
        {
          "data": {
            "text/plain": [
              "1.0387807844644388"
            ]
          },
          "execution_count": 13,
          "metadata": {},
          "output_type": "execute_result"
        }
      ],
      "source": [
        "# variance\n",
        "R.var()"
      ]
    },
    {
      "cell_type": "code",
      "execution_count": 14,
      "metadata": {
        "colab": {
          "base_uri": "https://localhost:8080/"
        },
        "id": "5C8NTwv7WMJA",
        "outputId": "a2b5bf9f-5987-45c4-8634-c5b3be7fcee2"
      },
      "outputs": [
        {
          "data": {
            "text/plain": [
              "1.019205957824246"
            ]
          },
          "execution_count": 14,
          "metadata": {},
          "output_type": "execute_result"
        }
      ],
      "source": [
        "# square root of the variance\n",
        "R.std()"
      ]
    },
    {
      "cell_type": "code",
      "execution_count": 15,
      "metadata": {
        "id": "gsjMwn6NWPI1"
      },
      "outputs": [],
      "source": [
        "# for a 10000 x 3 array\n",
        "R = np.random.randn(10000,3)"
      ]
    },
    {
      "cell_type": "code",
      "execution_count": 16,
      "metadata": {
        "colab": {
          "base_uri": "https://localhost:8080/"
        },
        "id": "syO9__7AWpAd",
        "outputId": "89ed27f8-c2cf-4c80-8cbf-1403a5e4e026"
      },
      "outputs": [
        {
          "data": {
            "text/plain": [
              "array([[ 0.56624401,  0.12254136, -0.91320906],\n",
              "       [ 0.67911585,  0.43602471, -2.26545642],\n",
              "       [-0.28971397,  1.05734494, -0.34965369],\n",
              "       ...,\n",
              "       [ 0.35074197,  0.33858967, -0.96033356],\n",
              "       [-1.16870555, -0.78455655,  0.90644382],\n",
              "       [ 0.50626373,  2.03217463,  1.02237873]])"
            ]
          },
          "execution_count": 16,
          "metadata": {},
          "output_type": "execute_result"
        }
      ],
      "source": [
        "R"
      ]
    },
    {
      "cell_type": "code",
      "execution_count": 17,
      "metadata": {
        "colab": {
          "base_uri": "https://localhost:8080/"
        },
        "id": "IkBAR3d8WpkF",
        "outputId": "b230c37b-d3ae-47d0-c72c-61a2b979ad6f"
      },
      "outputs": [
        {
          "data": {
            "text/plain": [
              "array([0.00591763, 0.01380547, 0.01370903])"
            ]
          },
          "execution_count": 17,
          "metadata": {},
          "output_type": "execute_result"
        }
      ],
      "source": [
        "# to calculate mean of each column\n",
        "R.mean(axis=0)"
      ]
    },
    {
      "cell_type": "code",
      "execution_count": 18,
      "metadata": {
        "colab": {
          "base_uri": "https://localhost:8080/"
        },
        "id": "1SoIsspoW-0N",
        "outputId": "0f22f836-cf77-443c-c6da-9a3da1af4190"
      },
      "outputs": [
        {
          "data": {
            "text/plain": [
              "array([-0.0748079 , -0.38343862,  0.13932576, ..., -0.09033397,\n",
              "       -0.34893942,  1.18693903])"
            ]
          },
          "execution_count": 18,
          "metadata": {},
          "output_type": "execute_result"
        }
      ],
      "source": [
        "\n",
        "R.mean(axis=1)"
      ]
    },
    {
      "cell_type": "code",
      "execution_count": 19,
      "metadata": {
        "colab": {
          "base_uri": "https://localhost:8080/"
        },
        "id": "7-YfhnNmYTNb",
        "outputId": "c62c00ed-dd9b-4582-d809-6bfbdbe42871"
      },
      "outputs": [
        {
          "data": {
            "text/plain": [
              "(10000,)"
            ]
          },
          "execution_count": 19,
          "metadata": {},
          "output_type": "execute_result"
        }
      ],
      "source": [
        "R.mean(axis=1).shape"
      ]
    },
    {
      "cell_type": "code",
      "execution_count": 20,
      "metadata": {
        "colab": {
          "base_uri": "https://localhost:8080/"
        },
        "id": "bAGOcCAVYTob",
        "outputId": "a83f4b2e-ffae-4262-a7bb-ddb0dcb446fc"
      },
      "outputs": [
        {
          "data": {
            "text/plain": [
              "array([[ 0.57640539,  1.21037947,  0.1580473 , ...,  0.5484045 ,\n",
              "        -0.83199806, -0.06578702],\n",
              "       [ 1.21037947,  2.67126657,  0.6083365 , ...,  1.22875455,\n",
              "        -1.79533601,  0.13954521],\n",
              "       [ 0.1580473 ,  0.6083365 ,  0.6329676 , ...,  0.31496647,\n",
              "        -0.33102462,  0.57422292],\n",
              "       ...,\n",
              "       [ 0.5484045 ,  1.22875455,  0.31496647, ...,  0.56771138,\n",
              "        -0.82030425,  0.10273971],\n",
              "       [-0.83199806, -1.79533601, -0.33102462, ..., -0.82030425,\n",
              "         1.21888293, -0.0083954 ],\n",
              "       [-0.06578702,  0.13954521,  0.57422292, ...,  0.10273971,\n",
              "        -0.0083954 ,  0.60241109]])"
            ]
          },
          "execution_count": 20,
          "metadata": {},
          "output_type": "execute_result"
        }
      ],
      "source": [
        "# covariance\n",
        "np.cov(R)"
      ]
    },
    {
      "cell_type": "code",
      "execution_count": 21,
      "metadata": {
        "colab": {
          "base_uri": "https://localhost:8080/"
        },
        "id": "CHBYyhmVZEL1",
        "outputId": "1d403976-4fd2-4bc1-cef3-51e10f61079e"
      },
      "outputs": [
        {
          "data": {
            "text/plain": [
              "(10000, 10000)"
            ]
          },
          "execution_count": 21,
          "metadata": {},
          "output_type": "execute_result"
        }
      ],
      "source": [
        "np.cov(R).shape"
      ]
    },
    {
      "cell_type": "code",
      "execution_count": 22,
      "metadata": {
        "colab": {
          "base_uri": "https://localhost:8080/"
        },
        "id": "N0pATMnhZQae",
        "outputId": "b9518cc0-b559-4fc4-f833-c4902cc57e38"
      },
      "outputs": [
        {
          "data": {
            "text/plain": [
              "array([[0.99347471, 0.00803474, 0.01350222],\n",
              "       [0.00803474, 0.98183496, 0.01257204],\n",
              "       [0.01350222, 0.01257204, 0.99047242]])"
            ]
          },
          "execution_count": 22,
          "metadata": {},
          "output_type": "execute_result"
        }
      ],
      "source": [
        "np.cov(R.T)"
      ]
    },
    {
      "cell_type": "code",
      "execution_count": 23,
      "metadata": {
        "colab": {
          "base_uri": "https://localhost:8080/"
        },
        "id": "7Rrsq1kOZYfg",
        "outputId": "d943803a-30df-4c3c-a0a3-766d533d4523"
      },
      "outputs": [
        {
          "data": {
            "text/plain": [
              "array([[0.99347471, 0.00803474, 0.01350222],\n",
              "       [0.00803474, 0.98183496, 0.01257204],\n",
              "       [0.01350222, 0.01257204, 0.99047242]])"
            ]
          },
          "execution_count": 23,
          "metadata": {},
          "output_type": "execute_result"
        }
      ],
      "source": [
        "np.cov(R, rowvar=False)"
      ]
    },
    {
      "cell_type": "code",
      "execution_count": 24,
      "metadata": {
        "colab": {
          "base_uri": "https://localhost:8080/"
        },
        "id": "M_5FI7JxZenY",
        "outputId": "213dfacf-942a-4fc6-bdb9-413af7785bcd"
      },
      "outputs": [
        {
          "data": {
            "text/plain": [
              "array([[9, 5, 9],\n",
              "       [0, 4, 8],\n",
              "       [0, 8, 4]])"
            ]
          },
          "execution_count": 24,
          "metadata": {},
          "output_type": "execute_result"
        }
      ],
      "source": [
        "# for 3 x 3 array with random ints from 0 to 10\n",
        "np.random.randint(0,10,size=(3,3))"
      ]
    },
    {
      "cell_type": "code",
      "execution_count": 25,
      "metadata": {
        "colab": {
          "base_uri": "https://localhost:8080/"
        },
        "id": "WvoiU4BrZ8DC",
        "outputId": "8021bbd4-573b-406a-c73d-eec53c8d9f29"
      },
      "outputs": [
        {
          "data": {
            "text/plain": [
              "array([[9, 1, 0],\n",
              "       [9, 1, 7],\n",
              "       [5, 6, 3]])"
            ]
          },
          "execution_count": 25,
          "metadata": {},
          "output_type": "execute_result"
        }
      ],
      "source": [
        "# for 3 x 3 array with random ints from 0 to 10\n",
        "np.random.choice(10, size=(3,3))"
      ]
    },
    {
      "cell_type": "code",
      "execution_count": null,
      "metadata": {
        "id": "DBmg1VndaXoi"
      },
      "outputs": [],
      "source": []
    }
  ],
  "metadata": {
    "colab": {
      "authorship_tag": "ABX9TyOIovJ97dRYIzGK3dkLNdd+",
      "collapsed_sections": [],
      "include_colab_link": true,
      "name": "data_generation.ipynb",
      "provenance": []
    },
    "interpreter": {
      "hash": "aee8b7b246df8f9039afb4144a1f6fd8d2ca17a180786b69acc140d282b71a49"
    },
    "kernelspec": {
      "display_name": "Python 3.9.7 64-bit",
      "language": "python",
      "name": "python3"
    },
    "language_info": {
      "codemirror_mode": {
        "name": "ipython",
        "version": 3
      },
      "file_extension": ".py",
      "mimetype": "text/x-python",
      "name": "python",
      "nbconvert_exporter": "python",
      "pygments_lexer": "ipython3",
      "version": "3.9.7"
    }
  },
  "nbformat": 4,
  "nbformat_minor": 0
}
