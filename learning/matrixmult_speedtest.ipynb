{
 "cells": [
  {
   "cell_type": "code",
   "execution_count": 86,
   "metadata": {},
   "outputs": [],
   "source": [
    "from datetime import datetime\n",
    "import numpy as np\n",
    "\n",
    "# create random matrices (3 x 3)\n",
    "A = np.random.randint(0,10, size=(3,3))\n",
    "B = np.random.randint(0,10, size=(3,3))\n",
    "T = 1000000"
   ]
  },
  {
   "cell_type": "code",
   "execution_count": 87,
   "metadata": {},
   "outputs": [
    {
     "name": "stdout",
     "output_type": "stream",
     "text": [
      "[[5 3 3]\n",
      " [0 6 6]\n",
      " [8 3 5]]\n",
      "[[2 7 2]\n",
      " [2 0 8]\n",
      " [5 3 0]]\n"
     ]
    }
   ],
   "source": [
    "print(A)\n",
    "print(B)"
   ]
  },
  {
   "cell_type": "code",
   "execution_count": 88,
   "metadata": {},
   "outputs": [],
   "source": [
    "def slow_matrix_multiplication(a,b):\n",
    "  result = np.zeros((3,3))\n",
    "  # iterate over rows of b\n",
    "  for i in range(len(a)):\n",
    "    # iterate over columns of b\n",
    "    for j in range(len(b[0])):\n",
    "      # iterate over rows of b\n",
    "      for k in range(len(b)):\n",
    "        # add results to zeroed results matrices initialized above\n",
    "        result[i][j] += a[i][k] * b[k][j]\n",
    "  return result\n"
   ]
  },
  {
   "cell_type": "code",
   "execution_count": 89,
   "metadata": {},
   "outputs": [],
   "source": [
    "# PYTHON TEST\n",
    "\n",
    "# record initial time\n",
    "t0 = datetime.now()\n",
    "# run test\n",
    "for t in range(T):\n",
    "  slow_matrix_multiplication(A,B)\n",
    "# calculate time elapsed\n",
    "dt1 = datetime.now() - t0"
   ]
  },
  {
   "cell_type": "code",
   "execution_count": 90,
   "metadata": {},
   "outputs": [],
   "source": [
    "# NUMPY TEST\n",
    "\n",
    "# record initial time\n",
    "t0 = datetime.now()\n",
    "# run test\n",
    "for t in range(T):\n",
    "  np.matmul(A,B)\n",
    "# calculate time elapsed\n",
    "dt2 = datetime.now() - t0"
   ]
  },
  {
   "cell_type": "code",
   "execution_count": 91,
   "metadata": {},
   "outputs": [
    {
     "name": "stdout",
     "output_type": "stream",
     "text": [
      "dt1/dt2: 28.745268740548074\n"
     ]
    }
   ],
   "source": [
    "# calculate time differential\n",
    "print(\"dt1/dt2:\", dt1.total_seconds()/dt2.total_seconds())"
   ]
  },
  {
   "cell_type": "code",
   "execution_count": 92,
   "metadata": {},
   "outputs": [
    {
     "name": "stdout",
     "output_type": "stream",
     "text": [
      "[[ True  True  True]\n",
      " [ True  True  True]\n",
      " [ True  True  True]]\n"
     ]
    }
   ],
   "source": [
    "# compare results of both functions\n",
    "print(np.matmul(A,B) == slow_matrix_multiplication(A,B))"
   ]
  },
  {
   "cell_type": "code",
   "execution_count": null,
   "metadata": {},
   "outputs": [],
   "source": []
  }
 ],
 "metadata": {
  "interpreter": {
   "hash": "aee8b7b246df8f9039afb4144a1f6fd8d2ca17a180786b69acc140d282b71a49"
  },
  "kernelspec": {
   "display_name": "Python 3.9.7 64-bit",
   "language": "python",
   "name": "python3"
  },
  "language_info": {
   "codemirror_mode": {
    "name": "ipython",
    "version": 3
   },
   "file_extension": ".py",
   "mimetype": "text/x-python",
   "name": "python",
   "nbconvert_exporter": "python",
   "pygments_lexer": "ipython3",
   "version": "3.9.7"
  },
  "orig_nbformat": 4
 },
 "nbformat": 4,
 "nbformat_minor": 2
}
