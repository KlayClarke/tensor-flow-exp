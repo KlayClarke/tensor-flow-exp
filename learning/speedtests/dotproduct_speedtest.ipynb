{
 "cells": [
  {
   "cell_type": "code",
   "execution_count": 26,
   "metadata": {},
   "outputs": [],
   "source": [
    "import numpy as np\n",
    "from datetime import datetime\n",
    "\n",
    "A = np.random.randn(100)\n",
    "B = np.random.randn(100)\n",
    "T = 1000000"
   ]
  },
  {
   "cell_type": "code",
   "execution_count": 27,
   "metadata": {},
   "outputs": [],
   "source": [
    "def slow_dot_product(a,b):\n",
    "  result = 0\n",
    "  for e,f in zip(a,b):\n",
    "    result += e*f\n",
    "  return result"
   ]
  },
  {
   "cell_type": "code",
   "execution_count": 28,
   "metadata": {},
   "outputs": [],
   "source": [
    "\n",
    "# PYTHON TEST\n",
    "\n",
    "# record initial time\n",
    "t0 = datetime.now()\n",
    "# run test\n",
    "for t in range(T):\n",
    "  slow_dot_product(A, B)\n",
    "# calculate time elapsed\n",
    "dt1 = datetime.now() - t0 "
   ]
  },
  {
   "cell_type": "code",
   "execution_count": 29,
   "metadata": {},
   "outputs": [],
   "source": [
    "# NUMPY TEST\n",
    "\n",
    "# record initial time\n",
    "t0 = datetime.now()\n",
    "# run test\n",
    "for t in range(T):\n",
    "  A.dot(B)\n",
    "# calculate time elapsed\n",
    "dt2 = datetime.now() - t0"
   ]
  },
  {
   "cell_type": "code",
   "execution_count": 30,
   "metadata": {},
   "outputs": [
    {
     "name": "stdout",
     "output_type": "stream",
     "text": [
      "dt1/dt2: 31.598664065221303\n"
     ]
    }
   ],
   "source": [
    "# calculate time differential\n",
    "print(\"dt1/dt2:\", dt1.total_seconds()/dt2.total_seconds())"
   ]
  },
  {
   "cell_type": "code",
   "execution_count": 31,
   "metadata": {},
   "outputs": [
    {
     "name": "stdout",
     "output_type": "stream",
     "text": [
      "-3.5039053201660986\n"
     ]
    }
   ],
   "source": [
    "print(A.dot(B))"
   ]
  },
  {
   "cell_type": "code",
   "execution_count": 32,
   "metadata": {},
   "outputs": [
    {
     "name": "stdout",
     "output_type": "stream",
     "text": [
      "-3.503905320166102\n"
     ]
    }
   ],
   "source": [
    "print(slow_dot_product(A,B))"
   ]
  }
 ],
 "metadata": {
  "interpreter": {
   "hash": "aee8b7b246df8f9039afb4144a1f6fd8d2ca17a180786b69acc140d282b71a49"
  },
  "kernelspec": {
   "display_name": "Python 3.9.7 64-bit",
   "language": "python",
   "name": "python3"
  },
  "language_info": {
   "codemirror_mode": {
    "name": "ipython",
    "version": 3
   },
   "file_extension": ".py",
   "mimetype": "text/x-python",
   "name": "python",
   "nbconvert_exporter": "python",
   "pygments_lexer": "ipython3",
   "version": "3.9.7"
  },
  "orig_nbformat": 4
 },
 "nbformat": 4,
 "nbformat_minor": 2
}
