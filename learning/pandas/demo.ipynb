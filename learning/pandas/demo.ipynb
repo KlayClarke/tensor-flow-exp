{
 "cells": [
  {
   "cell_type": "code",
   "execution_count": 2,
   "metadata": {},
   "outputs": [],
   "source": [
    "import pandas as pd\n"
   ]
  },
  {
   "cell_type": "markdown",
   "metadata": {},
   "source": [
    "## Loading Data"
   ]
  },
  {
   "cell_type": "code",
   "execution_count": 3,
   "metadata": {},
   "outputs": [],
   "source": [
    "# read data as pandas dataframe\n",
    "\n",
    "df = pd.read_csv('./data/flavors.csv')"
   ]
  },
  {
   "cell_type": "code",
   "execution_count": 4,
   "metadata": {},
   "outputs": [
    {
     "data": {
      "text/html": [
       "<div>\n",
       "<style scoped>\n",
       "    .dataframe tbody tr th:only-of-type {\n",
       "        vertical-align: middle;\n",
       "    }\n",
       "\n",
       "    .dataframe tbody tr th {\n",
       "        vertical-align: top;\n",
       "    }\n",
       "\n",
       "    .dataframe thead th {\n",
       "        text-align: right;\n",
       "    }\n",
       "</style>\n",
       "<table border=\"1\" class=\"dataframe\">\n",
       "  <thead>\n",
       "    <tr style=\"text-align: right;\">\n",
       "      <th></th>\n",
       "      <th>celery</th>\n",
       "      <th>vegetable</th>\n",
       "    </tr>\n",
       "  </thead>\n",
       "  <tbody>\n",
       "    <tr>\n",
       "      <th>0</th>\n",
       "      <td>corn</td>\n",
       "      <td>vegetable</td>\n",
       "    </tr>\n",
       "    <tr>\n",
       "      <th>1</th>\n",
       "      <td>cucumber</td>\n",
       "      <td>vegetable</td>\n",
       "    </tr>\n",
       "    <tr>\n",
       "      <th>2</th>\n",
       "      <td>horseradish</td>\n",
       "      <td>vegetable</td>\n",
       "    </tr>\n",
       "    <tr>\n",
       "      <th>3</th>\n",
       "      <td>vegetable</td>\n",
       "      <td>vegetable</td>\n",
       "    </tr>\n",
       "    <tr>\n",
       "      <th>4</th>\n",
       "      <td>potato</td>\n",
       "      <td>vegetable</td>\n",
       "    </tr>\n",
       "    <tr>\n",
       "      <th>...</th>\n",
       "      <td>...</td>\n",
       "      <td>...</td>\n",
       "    </tr>\n",
       "    <tr>\n",
       "      <th>850</th>\n",
       "      <td>wild</td>\n",
       "      <td>NaN</td>\n",
       "    </tr>\n",
       "    <tr>\n",
       "      <th>851</th>\n",
       "      <td>wine-lee</td>\n",
       "      <td>NaN</td>\n",
       "    </tr>\n",
       "    <tr>\n",
       "      <th>852</th>\n",
       "      <td>winey</td>\n",
       "      <td>NaN</td>\n",
       "    </tr>\n",
       "    <tr>\n",
       "      <th>853</th>\n",
       "      <td>yeasty</td>\n",
       "      <td>NaN</td>\n",
       "    </tr>\n",
       "    <tr>\n",
       "      <th>854</th>\n",
       "      <td>ylang</td>\n",
       "      <td>NaN</td>\n",
       "    </tr>\n",
       "  </tbody>\n",
       "</table>\n",
       "<p>855 rows × 2 columns</p>\n",
       "</div>"
      ],
      "text/plain": [
       "          celery  vegetable\n",
       "0           corn  vegetable\n",
       "1       cucumber  vegetable\n",
       "2    horseradish  vegetable\n",
       "3      vegetable  vegetable\n",
       "4         potato  vegetable\n",
       "..           ...        ...\n",
       "850         wild        NaN\n",
       "851     wine-lee        NaN\n",
       "852        winey        NaN\n",
       "853       yeasty        NaN\n",
       "854        ylang        NaN\n",
       "\n",
       "[855 rows x 2 columns]"
      ]
     },
     "execution_count": 4,
     "metadata": {},
     "output_type": "execute_result"
    }
   ],
   "source": [
    "df"
   ]
  },
  {
   "cell_type": "code",
   "execution_count": 5,
   "metadata": {},
   "outputs": [
    {
     "data": {
      "text/plain": [
       "pandas.core.frame.DataFrame"
      ]
     },
     "execution_count": 5,
     "metadata": {},
     "output_type": "execute_result"
    }
   ],
   "source": [
    "# confirm type of df\n",
    "\n",
    "type(df)"
   ]
  },
  {
   "cell_type": "code",
   "execution_count": 6,
   "metadata": {},
   "outputs": [
    {
     "data": {
      "text/html": [
       "<div>\n",
       "<style scoped>\n",
       "    .dataframe tbody tr th:only-of-type {\n",
       "        vertical-align: middle;\n",
       "    }\n",
       "\n",
       "    .dataframe tbody tr th {\n",
       "        vertical-align: top;\n",
       "    }\n",
       "\n",
       "    .dataframe thead th {\n",
       "        text-align: right;\n",
       "    }\n",
       "</style>\n",
       "<table border=\"1\" class=\"dataframe\">\n",
       "  <thead>\n",
       "    <tr style=\"text-align: right;\">\n",
       "      <th></th>\n",
       "      <th>celery</th>\n",
       "      <th>vegetable</th>\n",
       "    </tr>\n",
       "  </thead>\n",
       "  <tbody>\n",
       "    <tr>\n",
       "      <th>0</th>\n",
       "      <td>corn</td>\n",
       "      <td>vegetable</td>\n",
       "    </tr>\n",
       "    <tr>\n",
       "      <th>1</th>\n",
       "      <td>cucumber</td>\n",
       "      <td>vegetable</td>\n",
       "    </tr>\n",
       "    <tr>\n",
       "      <th>2</th>\n",
       "      <td>horseradish</td>\n",
       "      <td>vegetable</td>\n",
       "    </tr>\n",
       "    <tr>\n",
       "      <th>3</th>\n",
       "      <td>vegetable</td>\n",
       "      <td>vegetable</td>\n",
       "    </tr>\n",
       "    <tr>\n",
       "      <th>4</th>\n",
       "      <td>potato</td>\n",
       "      <td>vegetable</td>\n",
       "    </tr>\n",
       "  </tbody>\n",
       "</table>\n",
       "</div>"
      ],
      "text/plain": [
       "        celery  vegetable\n",
       "0         corn  vegetable\n",
       "1     cucumber  vegetable\n",
       "2  horseradish  vegetable\n",
       "3    vegetable  vegetable\n",
       "4       potato  vegetable"
      ]
     },
     "execution_count": 6,
     "metadata": {},
     "output_type": "execute_result"
    }
   ],
   "source": [
    "# first five rows of df\n",
    "\n",
    "df.head()"
   ]
  },
  {
   "cell_type": "code",
   "execution_count": 7,
   "metadata": {},
   "outputs": [
    {
     "data": {
      "text/html": [
       "<div>\n",
       "<style scoped>\n",
       "    .dataframe tbody tr th:only-of-type {\n",
       "        vertical-align: middle;\n",
       "    }\n",
       "\n",
       "    .dataframe tbody tr th {\n",
       "        vertical-align: top;\n",
       "    }\n",
       "\n",
       "    .dataframe thead th {\n",
       "        text-align: right;\n",
       "    }\n",
       "</style>\n",
       "<table border=\"1\" class=\"dataframe\">\n",
       "  <thead>\n",
       "    <tr style=\"text-align: right;\">\n",
       "      <th></th>\n",
       "      <th>celery</th>\n",
       "      <th>vegetable</th>\n",
       "    </tr>\n",
       "  </thead>\n",
       "  <tbody>\n",
       "    <tr>\n",
       "      <th>0</th>\n",
       "      <td>corn</td>\n",
       "      <td>vegetable</td>\n",
       "    </tr>\n",
       "    <tr>\n",
       "      <th>1</th>\n",
       "      <td>cucumber</td>\n",
       "      <td>vegetable</td>\n",
       "    </tr>\n",
       "    <tr>\n",
       "      <th>2</th>\n",
       "      <td>horseradish</td>\n",
       "      <td>vegetable</td>\n",
       "    </tr>\n",
       "    <tr>\n",
       "      <th>3</th>\n",
       "      <td>vegetable</td>\n",
       "      <td>vegetable</td>\n",
       "    </tr>\n",
       "    <tr>\n",
       "      <th>4</th>\n",
       "      <td>potato</td>\n",
       "      <td>vegetable</td>\n",
       "    </tr>\n",
       "    <tr>\n",
       "      <th>5</th>\n",
       "      <td>tomato</td>\n",
       "      <td>vegetable</td>\n",
       "    </tr>\n",
       "    <tr>\n",
       "      <th>6</th>\n",
       "      <td>caraway</td>\n",
       "      <td>herbaceous</td>\n",
       "    </tr>\n",
       "    <tr>\n",
       "      <th>7</th>\n",
       "      <td>clove</td>\n",
       "      <td>herbaceous</td>\n",
       "    </tr>\n",
       "    <tr>\n",
       "      <th>8</th>\n",
       "      <td>fennel</td>\n",
       "      <td>herbaceous</td>\n",
       "    </tr>\n",
       "    <tr>\n",
       "      <th>9</th>\n",
       "      <td>herbaceous</td>\n",
       "      <td>herbaceous</td>\n",
       "    </tr>\n",
       "  </tbody>\n",
       "</table>\n",
       "</div>"
      ],
      "text/plain": [
       "        celery   vegetable\n",
       "0         corn   vegetable\n",
       "1     cucumber   vegetable\n",
       "2  horseradish   vegetable\n",
       "3    vegetable   vegetable\n",
       "4       potato   vegetable\n",
       "5       tomato   vegetable\n",
       "6      caraway  herbaceous\n",
       "7        clove  herbaceous\n",
       "8       fennel  herbaceous\n",
       "9   herbaceous  herbaceous"
      ]
     },
     "execution_count": 7,
     "metadata": {},
     "output_type": "execute_result"
    }
   ],
   "source": [
    "# first ten rows of df\n",
    "\n",
    "df.head(10)"
   ]
  },
  {
   "cell_type": "code",
   "execution_count": 8,
   "metadata": {},
   "outputs": [
    {
     "data": {
      "text/html": [
       "<div>\n",
       "<style scoped>\n",
       "    .dataframe tbody tr th:only-of-type {\n",
       "        vertical-align: middle;\n",
       "    }\n",
       "\n",
       "    .dataframe tbody tr th {\n",
       "        vertical-align: top;\n",
       "    }\n",
       "\n",
       "    .dataframe thead th {\n",
       "        text-align: right;\n",
       "    }\n",
       "</style>\n",
       "<table border=\"1\" class=\"dataframe\">\n",
       "  <thead>\n",
       "    <tr style=\"text-align: right;\">\n",
       "      <th></th>\n",
       "      <th>celery</th>\n",
       "      <th>vegetable</th>\n",
       "    </tr>\n",
       "  </thead>\n",
       "  <tbody>\n",
       "    <tr>\n",
       "      <th>850</th>\n",
       "      <td>wild</td>\n",
       "      <td>NaN</td>\n",
       "    </tr>\n",
       "    <tr>\n",
       "      <th>851</th>\n",
       "      <td>wine-lee</td>\n",
       "      <td>NaN</td>\n",
       "    </tr>\n",
       "    <tr>\n",
       "      <th>852</th>\n",
       "      <td>winey</td>\n",
       "      <td>NaN</td>\n",
       "    </tr>\n",
       "    <tr>\n",
       "      <th>853</th>\n",
       "      <td>yeasty</td>\n",
       "      <td>NaN</td>\n",
       "    </tr>\n",
       "    <tr>\n",
       "      <th>854</th>\n",
       "      <td>ylang</td>\n",
       "      <td>NaN</td>\n",
       "    </tr>\n",
       "  </tbody>\n",
       "</table>\n",
       "</div>"
      ],
      "text/plain": [
       "       celery vegetable\n",
       "850      wild       NaN\n",
       "851  wine-lee       NaN\n",
       "852     winey       NaN\n",
       "853    yeasty       NaN\n",
       "854     ylang       NaN"
      ]
     },
     "execution_count": 8,
     "metadata": {},
     "output_type": "execute_result"
    }
   ],
   "source": [
    "# last five rows of df\n",
    "\n",
    "df.tail()"
   ]
  },
  {
   "cell_type": "code",
   "execution_count": 9,
   "metadata": {},
   "outputs": [
    {
     "name": "stdout",
     "output_type": "stream",
     "text": [
      "<class 'pandas.core.frame.DataFrame'>\n",
      "RangeIndex: 855 entries, 0 to 854\n",
      "Data columns (total 2 columns):\n",
      " #   Column     Non-Null Count  Dtype \n",
      "---  ------     --------------  ----- \n",
      " 0   celery     855 non-null    object\n",
      " 1   vegetable  112 non-null    object\n",
      "dtypes: object(2)\n",
      "memory usage: 13.5+ KB\n"
     ]
    }
   ],
   "source": [
    "# show dataframe info (notice there is not a column header -- maybe we should add some)\n",
    "\n",
    "df.info()"
   ]
  },
  {
   "cell_type": "markdown",
   "metadata": {},
   "source": [
    "## Selecting Rows and Columns"
   ]
  },
  {
   "cell_type": "code",
   "execution_count": 10,
   "metadata": {},
   "outputs": [
    {
     "data": {
      "text/plain": [
       "Index(['celery', 'vegetable'], dtype='object')"
      ]
     },
     "execution_count": 10,
     "metadata": {},
     "output_type": "execute_result"
    }
   ],
   "source": [
    "# check columns\n",
    "\n",
    "df.columns"
   ]
  },
  {
   "cell_type": "code",
   "execution_count": 11,
   "metadata": {},
   "outputs": [
    {
     "data": {
      "text/plain": [
       "Index(['food', 'class'], dtype='object')"
      ]
     },
     "execution_count": 11,
     "metadata": {},
     "output_type": "execute_result"
    }
   ],
   "source": [
    "df.columns = [\"food\", \"class\"]\n",
    "df.columns"
   ]
  },
  {
   "cell_type": "code",
   "execution_count": 12,
   "metadata": {},
   "outputs": [
    {
     "data": {
      "text/html": [
       "<div>\n",
       "<style scoped>\n",
       "    .dataframe tbody tr th:only-of-type {\n",
       "        vertical-align: middle;\n",
       "    }\n",
       "\n",
       "    .dataframe tbody tr th {\n",
       "        vertical-align: top;\n",
       "    }\n",
       "\n",
       "    .dataframe thead th {\n",
       "        text-align: right;\n",
       "    }\n",
       "</style>\n",
       "<table border=\"1\" class=\"dataframe\">\n",
       "  <thead>\n",
       "    <tr style=\"text-align: right;\">\n",
       "      <th></th>\n",
       "      <th>food</th>\n",
       "      <th>class</th>\n",
       "    </tr>\n",
       "  </thead>\n",
       "  <tbody>\n",
       "    <tr>\n",
       "      <th>0</th>\n",
       "      <td>corn</td>\n",
       "      <td>vegetable</td>\n",
       "    </tr>\n",
       "    <tr>\n",
       "      <th>1</th>\n",
       "      <td>cucumber</td>\n",
       "      <td>vegetable</td>\n",
       "    </tr>\n",
       "    <tr>\n",
       "      <th>2</th>\n",
       "      <td>horseradish</td>\n",
       "      <td>vegetable</td>\n",
       "    </tr>\n",
       "    <tr>\n",
       "      <th>3</th>\n",
       "      <td>vegetable</td>\n",
       "      <td>vegetable</td>\n",
       "    </tr>\n",
       "    <tr>\n",
       "      <th>4</th>\n",
       "      <td>potato</td>\n",
       "      <td>vegetable</td>\n",
       "    </tr>\n",
       "  </tbody>\n",
       "</table>\n",
       "</div>"
      ],
      "text/plain": [
       "          food      class\n",
       "0         corn  vegetable\n",
       "1     cucumber  vegetable\n",
       "2  horseradish  vegetable\n",
       "3    vegetable  vegetable\n",
       "4       potato  vegetable"
      ]
     },
     "execution_count": 12,
     "metadata": {},
     "output_type": "execute_result"
    }
   ],
   "source": [
    "df.head()"
   ]
  },
  {
   "cell_type": "code",
   "execution_count": 13,
   "metadata": {},
   "outputs": [
    {
     "data": {
      "text/plain": [
       "0             corn\n",
       "1         cucumber\n",
       "2      horseradish\n",
       "3        vegetable\n",
       "4           potato\n",
       "          ...     \n",
       "850           wild\n",
       "851       wine-lee\n",
       "852          winey\n",
       "853         yeasty\n",
       "854          ylang\n",
       "Name: food, Length: 855, dtype: object"
      ]
     },
     "execution_count": 13,
     "metadata": {},
     "output_type": "execute_result"
    }
   ],
   "source": [
    "# to return data in specific column\n",
    "\n",
    "df[\"food\"]"
   ]
  },
  {
   "cell_type": "code",
   "execution_count": 14,
   "metadata": {},
   "outputs": [
    {
     "data": {
      "text/html": [
       "<div>\n",
       "<style scoped>\n",
       "    .dataframe tbody tr th:only-of-type {\n",
       "        vertical-align: middle;\n",
       "    }\n",
       "\n",
       "    .dataframe tbody tr th {\n",
       "        vertical-align: top;\n",
       "    }\n",
       "\n",
       "    .dataframe thead th {\n",
       "        text-align: right;\n",
       "    }\n",
       "</style>\n",
       "<table border=\"1\" class=\"dataframe\">\n",
       "  <thead>\n",
       "    <tr style=\"text-align: right;\">\n",
       "      <th></th>\n",
       "      <th>food</th>\n",
       "      <th>class</th>\n",
       "    </tr>\n",
       "  </thead>\n",
       "  <tbody>\n",
       "    <tr>\n",
       "      <th>0</th>\n",
       "      <td>corn</td>\n",
       "      <td>vegetable</td>\n",
       "    </tr>\n",
       "    <tr>\n",
       "      <th>1</th>\n",
       "      <td>cucumber</td>\n",
       "      <td>vegetable</td>\n",
       "    </tr>\n",
       "    <tr>\n",
       "      <th>2</th>\n",
       "      <td>horseradish</td>\n",
       "      <td>vegetable</td>\n",
       "    </tr>\n",
       "    <tr>\n",
       "      <th>3</th>\n",
       "      <td>vegetable</td>\n",
       "      <td>vegetable</td>\n",
       "    </tr>\n",
       "    <tr>\n",
       "      <th>4</th>\n",
       "      <td>potato</td>\n",
       "      <td>vegetable</td>\n",
       "    </tr>\n",
       "    <tr>\n",
       "      <th>...</th>\n",
       "      <td>...</td>\n",
       "      <td>...</td>\n",
       "    </tr>\n",
       "    <tr>\n",
       "      <th>850</th>\n",
       "      <td>wild</td>\n",
       "      <td>NaN</td>\n",
       "    </tr>\n",
       "    <tr>\n",
       "      <th>851</th>\n",
       "      <td>wine-lee</td>\n",
       "      <td>NaN</td>\n",
       "    </tr>\n",
       "    <tr>\n",
       "      <th>852</th>\n",
       "      <td>winey</td>\n",
       "      <td>NaN</td>\n",
       "    </tr>\n",
       "    <tr>\n",
       "      <th>853</th>\n",
       "      <td>yeasty</td>\n",
       "      <td>NaN</td>\n",
       "    </tr>\n",
       "    <tr>\n",
       "      <th>854</th>\n",
       "      <td>ylang</td>\n",
       "      <td>NaN</td>\n",
       "    </tr>\n",
       "  </tbody>\n",
       "</table>\n",
       "<p>855 rows × 2 columns</p>\n",
       "</div>"
      ],
      "text/plain": [
       "            food      class\n",
       "0           corn  vegetable\n",
       "1       cucumber  vegetable\n",
       "2    horseradish  vegetable\n",
       "3      vegetable  vegetable\n",
       "4         potato  vegetable\n",
       "..           ...        ...\n",
       "850         wild        NaN\n",
       "851     wine-lee        NaN\n",
       "852        winey        NaN\n",
       "853       yeasty        NaN\n",
       "854        ylang        NaN\n",
       "\n",
       "[855 rows x 2 columns]"
      ]
     },
     "execution_count": 14,
     "metadata": {},
     "output_type": "execute_result"
    }
   ],
   "source": [
    "# return multiple specific columns\n",
    "\n",
    "df[[\"food\",\"class\"]]"
   ]
  },
  {
   "cell_type": "code",
   "execution_count": 15,
   "metadata": {},
   "outputs": [
    {
     "data": {
      "text/plain": [
       "pandas.core.series.Series"
      ]
     },
     "execution_count": 15,
     "metadata": {},
     "output_type": "execute_result"
    }
   ],
   "source": [
    "# check data type of column (notice they are a series)\n",
    "\n",
    "type(df[\"class\"])"
   ]
  },
  {
   "cell_type": "code",
   "execution_count": 16,
   "metadata": {},
   "outputs": [
    {
     "data": {
      "text/plain": [
       "pandas.core.frame.DataFrame"
      ]
     },
     "execution_count": 16,
     "metadata": {},
     "output_type": "execute_result"
    }
   ],
   "source": [
    "# check data type of multiple columns\n",
    "\n",
    "type(df[[\"food\",\"class\"]])"
   ]
  },
  {
   "cell_type": "markdown",
   "metadata": {},
   "source": [
    "One dimension of pandas is a series while two dimensions are a df"
   ]
  },
  {
   "cell_type": "code",
   "execution_count": 17,
   "metadata": {},
   "outputs": [
    {
     "data": {
      "text/plain": [
       "food     gardenia\n",
       "class      floral\n",
       "Name: 22, dtype: object"
      ]
     },
     "execution_count": 17,
     "metadata": {},
     "output_type": "execute_result"
    }
   ],
   "source": [
    "# select specific row of df\n",
    "\n",
    "df.iloc[22]"
   ]
  },
  {
   "cell_type": "code",
   "execution_count": 18,
   "metadata": {},
   "outputs": [
    {
     "data": {
      "text/html": [
       "<div>\n",
       "<style scoped>\n",
       "    .dataframe tbody tr th:only-of-type {\n",
       "        vertical-align: middle;\n",
       "    }\n",
       "\n",
       "    .dataframe tbody tr th {\n",
       "        vertical-align: top;\n",
       "    }\n",
       "\n",
       "    .dataframe thead th {\n",
       "        text-align: right;\n",
       "    }\n",
       "</style>\n",
       "<table border=\"1\" class=\"dataframe\">\n",
       "  <thead>\n",
       "    <tr style=\"text-align: right;\">\n",
       "      <th></th>\n",
       "      <th>food</th>\n",
       "      <th>class</th>\n",
       "    </tr>\n",
       "  </thead>\n",
       "  <tbody>\n",
       "    <tr>\n",
       "      <th>0</th>\n",
       "      <td>corn</td>\n",
       "      <td>vegetable</td>\n",
       "    </tr>\n",
       "    <tr>\n",
       "      <th>1</th>\n",
       "      <td>cucumber</td>\n",
       "      <td>vegetable</td>\n",
       "    </tr>\n",
       "    <tr>\n",
       "      <th>2</th>\n",
       "      <td>horseradish</td>\n",
       "      <td>vegetable</td>\n",
       "    </tr>\n",
       "    <tr>\n",
       "      <th>3</th>\n",
       "      <td>vegetable</td>\n",
       "      <td>vegetable</td>\n",
       "    </tr>\n",
       "    <tr>\n",
       "      <th>4</th>\n",
       "      <td>potato</td>\n",
       "      <td>vegetable</td>\n",
       "    </tr>\n",
       "    <tr>\n",
       "      <th>5</th>\n",
       "      <td>tomato</td>\n",
       "      <td>vegetable</td>\n",
       "    </tr>\n",
       "    <tr>\n",
       "      <th>131</th>\n",
       "      <td>cabbage</td>\n",
       "      <td>vegetable</td>\n",
       "    </tr>\n",
       "  </tbody>\n",
       "</table>\n",
       "</div>"
      ],
      "text/plain": [
       "            food      class\n",
       "0           corn  vegetable\n",
       "1       cucumber  vegetable\n",
       "2    horseradish  vegetable\n",
       "3      vegetable  vegetable\n",
       "4         potato  vegetable\n",
       "5         tomato  vegetable\n",
       "131      cabbage  vegetable"
      ]
     },
     "execution_count": 18,
     "metadata": {},
     "output_type": "execute_result"
    }
   ],
   "source": [
    "# return all data where food is vegetable\n",
    "\n",
    "df[df[\"class\"] == \"vegetable\"]"
   ]
  },
  {
   "cell_type": "code",
   "execution_count": 19,
   "metadata": {},
   "outputs": [
    {
     "data": {
      "text/plain": [
       "array([0, 1, 2, 3, 4, 5, 6, 7, 8, 9])"
      ]
     },
     "execution_count": 19,
     "metadata": {},
     "output_type": "execute_result"
    }
   ],
   "source": [
    "import numpy as np\n",
    "A = np.arange(10)\n",
    "A"
   ]
  },
  {
   "cell_type": "code",
   "execution_count": 20,
   "metadata": {},
   "outputs": [
    {
     "data": {
      "text/plain": [
       "array([0, 2, 4, 6, 8])"
      ]
     },
     "execution_count": 20,
     "metadata": {},
     "output_type": "execute_result"
    }
   ],
   "source": [
    "A[A % 2 == 0]"
   ]
  },
  {
   "cell_type": "code",
   "execution_count": 21,
   "metadata": {},
   "outputs": [
    {
     "data": {
      "text/plain": [
       "numpy.ndarray"
      ]
     },
     "execution_count": 21,
     "metadata": {},
     "output_type": "execute_result"
    }
   ],
   "source": [
    "type(A % 2 == 0)"
   ]
  },
  {
   "cell_type": "code",
   "execution_count": 22,
   "metadata": {},
   "outputs": [
    {
     "data": {
      "text/plain": [
       "array([['corn', 'vegetable'],\n",
       "       ['cucumber', 'vegetable'],\n",
       "       ['horseradish', 'vegetable'],\n",
       "       ...,\n",
       "       ['winey', nan],\n",
       "       ['yeasty', nan],\n",
       "       ['ylang', nan]], dtype=object)"
      ]
     },
     "execution_count": 22,
     "metadata": {},
     "output_type": "execute_result"
    }
   ],
   "source": [
    "# convert df to np array \n",
    "\n",
    "df.values"
   ]
  },
  {
   "cell_type": "code",
   "execution_count": 23,
   "metadata": {},
   "outputs": [
    {
     "data": {
      "text/plain": [
       "array([['corn', 'vegetable'],\n",
       "       ['cucumber', 'vegetable'],\n",
       "       ['horseradish', 'vegetable'],\n",
       "       ...,\n",
       "       ['winey', nan],\n",
       "       ['yeasty', nan],\n",
       "       ['ylang', nan]], dtype=object)"
      ]
     },
     "execution_count": 23,
     "metadata": {},
     "output_type": "execute_result"
    }
   ],
   "source": [
    "# to return array of numbers (helpful in ml) --  does not work with our dataset because it has no numbers\n",
    "\n",
    "A = df[[\"food\",\"class\"]].values\n",
    "A"
   ]
  },
  {
   "cell_type": "code",
   "execution_count": 24,
   "metadata": {},
   "outputs": [
    {
     "data": {
      "text/plain": [
       "numpy.ndarray"
      ]
     },
     "execution_count": 24,
     "metadata": {},
     "output_type": "execute_result"
    }
   ],
   "source": [
    "type(A)"
   ]
  },
  {
   "cell_type": "code",
   "execution_count": 25,
   "metadata": {},
   "outputs": [],
   "source": [
    "# create new csv from existing data\n",
    "\n",
    "smalldf = df[[\"food\",\"class\"]]\n",
    "smalldf.to_csv(\"output.csv\")"
   ]
  },
  {
   "cell_type": "code",
   "execution_count": 26,
   "metadata": {},
   "outputs": [
    {
     "name": "stdout",
     "output_type": "stream",
     "text": [
      ",food,class\n",
      "0,corn,vegetable\n",
      "1,cucumber,vegetable\n",
      "2,horseradish,vegetable\n",
      "3,vegetable,vegetable\n",
      "4,potato,vegetable\n",
      "5,tomato,vegetable\n",
      "6,caraway,herbaceous\n",
      "7,clove,herbaceous\n",
      "8,fennel,herbaceous\n"
     ]
    }
   ],
   "source": [
    "!head output.csv"
   ]
  },
  {
   "cell_type": "code",
   "execution_count": 27,
   "metadata": {},
   "outputs": [],
   "source": [
    "# remove useless index on side\n",
    "\n",
    "smalldf.to_csv(\"output.csv\", index=False)"
   ]
  },
  {
   "cell_type": "code",
   "execution_count": 28,
   "metadata": {},
   "outputs": [
    {
     "name": "stdout",
     "output_type": "stream",
     "text": [
      "food,class\n",
      "corn,vegetable\n",
      "cucumber,vegetable\n",
      "horseradish,vegetable\n",
      "vegetable,vegetable\n",
      "potato,vegetable\n",
      "tomato,vegetable\n",
      "caraway,herbaceous\n",
      "clove,herbaceous\n",
      "fennel,herbaceous\n"
     ]
    }
   ],
   "source": [
    "!head output.csv"
   ]
  },
  {
   "cell_type": "markdown",
   "metadata": {},
   "source": [
    "## The apply() Function"
   ]
  },
  {
   "cell_type": "code",
   "execution_count": 29,
   "metadata": {},
   "outputs": [],
   "source": [
    "def date_to_year(row):\n",
    "  return int(row[\"Date_Joined\"].split(\"-\")[0])\n",
    "\n",
    "date = \"2013-02-18\"\n",
    "\n",
    "test_data = [[\"klay\",date],[\"joe\",date],[\"jillian\", date]]"
   ]
  },
  {
   "cell_type": "code",
   "execution_count": 30,
   "metadata": {},
   "outputs": [],
   "source": [
    "df = pd.DataFrame(test_data, columns=[\"Name\", \"Date_Joined\"])"
   ]
  },
  {
   "cell_type": "code",
   "execution_count": 31,
   "metadata": {},
   "outputs": [
    {
     "data": {
      "text/html": [
       "<div>\n",
       "<style scoped>\n",
       "    .dataframe tbody tr th:only-of-type {\n",
       "        vertical-align: middle;\n",
       "    }\n",
       "\n",
       "    .dataframe tbody tr th {\n",
       "        vertical-align: top;\n",
       "    }\n",
       "\n",
       "    .dataframe thead th {\n",
       "        text-align: right;\n",
       "    }\n",
       "</style>\n",
       "<table border=\"1\" class=\"dataframe\">\n",
       "  <thead>\n",
       "    <tr style=\"text-align: right;\">\n",
       "      <th></th>\n",
       "      <th>Name</th>\n",
       "      <th>Date_Joined</th>\n",
       "    </tr>\n",
       "  </thead>\n",
       "  <tbody>\n",
       "    <tr>\n",
       "      <th>0</th>\n",
       "      <td>klay</td>\n",
       "      <td>2013-02-18</td>\n",
       "    </tr>\n",
       "    <tr>\n",
       "      <th>1</th>\n",
       "      <td>joe</td>\n",
       "      <td>2013-02-18</td>\n",
       "    </tr>\n",
       "    <tr>\n",
       "      <th>2</th>\n",
       "      <td>jillian</td>\n",
       "      <td>2013-02-18</td>\n",
       "    </tr>\n",
       "  </tbody>\n",
       "</table>\n",
       "</div>"
      ],
      "text/plain": [
       "      Name Date_Joined\n",
       "0     klay  2013-02-18\n",
       "1      joe  2013-02-18\n",
       "2  jillian  2013-02-18"
      ]
     },
     "execution_count": 31,
     "metadata": {},
     "output_type": "execute_result"
    }
   ],
   "source": [
    "df"
   ]
  },
  {
   "cell_type": "code",
   "execution_count": 32,
   "metadata": {},
   "outputs": [
    {
     "data": {
      "text/plain": [
       "0    2013\n",
       "1    2013\n",
       "2    2013\n",
       "dtype: int64"
      ]
     },
     "execution_count": 32,
     "metadata": {},
     "output_type": "execute_result"
    }
   ],
   "source": [
    "# loop over values in \"Date_Joined\" column and apply \"date_to_year\" function to said values\n",
    "\n",
    "df.apply(date_to_year, axis=1)"
   ]
  },
  {
   "cell_type": "code",
   "execution_count": 33,
   "metadata": {},
   "outputs": [
    {
     "data": {
      "text/html": [
       "<div>\n",
       "<style scoped>\n",
       "    .dataframe tbody tr th:only-of-type {\n",
       "        vertical-align: middle;\n",
       "    }\n",
       "\n",
       "    .dataframe tbody tr th {\n",
       "        vertical-align: top;\n",
       "    }\n",
       "\n",
       "    .dataframe thead th {\n",
       "        text-align: right;\n",
       "    }\n",
       "</style>\n",
       "<table border=\"1\" class=\"dataframe\">\n",
       "  <thead>\n",
       "    <tr style=\"text-align: right;\">\n",
       "      <th></th>\n",
       "      <th>Name</th>\n",
       "      <th>Date_Joined</th>\n",
       "      <th>year</th>\n",
       "    </tr>\n",
       "  </thead>\n",
       "  <tbody>\n",
       "    <tr>\n",
       "      <th>0</th>\n",
       "      <td>klay</td>\n",
       "      <td>2013-02-18</td>\n",
       "      <td>2013</td>\n",
       "    </tr>\n",
       "    <tr>\n",
       "      <th>1</th>\n",
       "      <td>joe</td>\n",
       "      <td>2013-02-18</td>\n",
       "      <td>2013</td>\n",
       "    </tr>\n",
       "    <tr>\n",
       "      <th>2</th>\n",
       "      <td>jillian</td>\n",
       "      <td>2013-02-18</td>\n",
       "      <td>2013</td>\n",
       "    </tr>\n",
       "  </tbody>\n",
       "</table>\n",
       "</div>"
      ],
      "text/plain": [
       "      Name Date_Joined  year\n",
       "0     klay  2013-02-18  2013\n",
       "1      joe  2013-02-18  2013\n",
       "2  jillian  2013-02-18  2013"
      ]
     },
     "execution_count": 33,
     "metadata": {},
     "output_type": "execute_result"
    }
   ],
   "source": [
    "# to create new column with said values\n",
    "\n",
    "df[\"year\"] = df.apply(date_to_year, axis=1)\n",
    "df.head()"
   ]
  },
  {
   "cell_type": "markdown",
   "metadata": {},
   "source": [
    "## Plotting With Pandas"
   ]
  },
  {
   "cell_type": "code",
   "execution_count": 34,
   "metadata": {},
   "outputs": [
    {
     "name": "stderr",
     "output_type": "stream",
     "text": [
      "/Library/Frameworks/Python.framework/Versions/3.9/lib/python3.9/site-packages/IPython/core/interactiveshell.py:3457: DtypeWarning: Columns (5) have mixed types.Specify dtype option on import or set low_memory=False.\n",
      "  exec(code_obj, self.user_global_ns, self.user_ns)\n"
     ]
    }
   ],
   "source": [
    "# read data as pandas dataframe\n",
    "\n",
    "df = pd.read_csv('./data/atlcrime.csv')"
   ]
  },
  {
   "cell_type": "code",
   "execution_count": 35,
   "metadata": {},
   "outputs": [
    {
     "data": {
      "text/html": [
       "<div>\n",
       "<style scoped>\n",
       "    .dataframe tbody tr th:only-of-type {\n",
       "        vertical-align: middle;\n",
       "    }\n",
       "\n",
       "    .dataframe tbody tr th {\n",
       "        vertical-align: top;\n",
       "    }\n",
       "\n",
       "    .dataframe thead th {\n",
       "        text-align: right;\n",
       "    }\n",
       "</style>\n",
       "<table border=\"1\" class=\"dataframe\">\n",
       "  <thead>\n",
       "    <tr style=\"text-align: right;\">\n",
       "      <th></th>\n",
       "      <th>Unnamed: 0</th>\n",
       "      <th>crime</th>\n",
       "      <th>number</th>\n",
       "      <th>date</th>\n",
       "      <th>location</th>\n",
       "      <th>beat</th>\n",
       "      <th>neighborhood</th>\n",
       "      <th>npu</th>\n",
       "      <th>lat</th>\n",
       "      <th>long</th>\n",
       "    </tr>\n",
       "  </thead>\n",
       "  <tbody>\n",
       "    <tr>\n",
       "      <th>0</th>\n",
       "      <td>0</td>\n",
       "      <td>LARCENY-NON VEHICLE</td>\n",
       "      <td>103040029</td>\n",
       "      <td>10/31/2010</td>\n",
       "      <td>610 SPRING ST NW</td>\n",
       "      <td>509</td>\n",
       "      <td>Downtown</td>\n",
       "      <td>M</td>\n",
       "      <td>33.77101</td>\n",
       "      <td>-84.38895</td>\n",
       "    </tr>\n",
       "    <tr>\n",
       "      <th>1</th>\n",
       "      <td>1</td>\n",
       "      <td>AUTO THEFT</td>\n",
       "      <td>103040061</td>\n",
       "      <td>10/31/2010</td>\n",
       "      <td>850 OAK ST SW</td>\n",
       "      <td>401</td>\n",
       "      <td>West End</td>\n",
       "      <td>T</td>\n",
       "      <td>33.74057</td>\n",
       "      <td>-84.41680</td>\n",
       "    </tr>\n",
       "    <tr>\n",
       "      <th>2</th>\n",
       "      <td>2</td>\n",
       "      <td>LARCENY-FROM VEHICLE</td>\n",
       "      <td>103040169</td>\n",
       "      <td>10/31/2010</td>\n",
       "      <td>1344 METROPOLITAN PKWY SW</td>\n",
       "      <td>301</td>\n",
       "      <td>Capitol View Manor</td>\n",
       "      <td>X</td>\n",
       "      <td>33.71803</td>\n",
       "      <td>-84.40774</td>\n",
       "    </tr>\n",
       "    <tr>\n",
       "      <th>3</th>\n",
       "      <td>3</td>\n",
       "      <td>AUTO THEFT</td>\n",
       "      <td>103040174</td>\n",
       "      <td>10/31/2010</td>\n",
       "      <td>1752 PRYOR RD SW</td>\n",
       "      <td>307</td>\n",
       "      <td>Betmar LaVilla</td>\n",
       "      <td>Y</td>\n",
       "      <td>33.70731</td>\n",
       "      <td>-84.39674</td>\n",
       "    </tr>\n",
       "    <tr>\n",
       "      <th>4</th>\n",
       "      <td>4</td>\n",
       "      <td>LARCENY-NON VEHICLE</td>\n",
       "      <td>103040301</td>\n",
       "      <td>10/31/2010</td>\n",
       "      <td>JOHN WESLEY DOBBS AVE NE / CORLEY ST NE</td>\n",
       "      <td>604</td>\n",
       "      <td>Old Fourth Ward</td>\n",
       "      <td>M</td>\n",
       "      <td>33.75947</td>\n",
       "      <td>-84.36626</td>\n",
       "    </tr>\n",
       "  </tbody>\n",
       "</table>\n",
       "</div>"
      ],
      "text/plain": [
       "   Unnamed: 0                 crime     number        date  \\\n",
       "0           0   LARCENY-NON VEHICLE  103040029  10/31/2010   \n",
       "1           1            AUTO THEFT  103040061  10/31/2010   \n",
       "2           2  LARCENY-FROM VEHICLE  103040169  10/31/2010   \n",
       "3           3            AUTO THEFT  103040174  10/31/2010   \n",
       "4           4   LARCENY-NON VEHICLE  103040301  10/31/2010   \n",
       "\n",
       "                                  location beat        neighborhood npu  \\\n",
       "0                         610 SPRING ST NW  509            Downtown   M   \n",
       "1                            850 OAK ST SW  401            West End   T   \n",
       "2                1344 METROPOLITAN PKWY SW  301  Capitol View Manor   X   \n",
       "3                         1752 PRYOR RD SW  307      Betmar LaVilla   Y   \n",
       "4  JOHN WESLEY DOBBS AVE NE / CORLEY ST NE  604     Old Fourth Ward   M   \n",
       "\n",
       "        lat      long  \n",
       "0  33.77101 -84.38895  \n",
       "1  33.74057 -84.41680  \n",
       "2  33.71803 -84.40774  \n",
       "3  33.70731 -84.39674  \n",
       "4  33.75947 -84.36626  "
      ]
     },
     "execution_count": 35,
     "metadata": {},
     "output_type": "execute_result"
    }
   ],
   "source": [
    "# first five rows of dataframe\n",
    "\n",
    "df.head()"
   ]
  },
  {
   "cell_type": "code",
   "execution_count": 36,
   "metadata": {},
   "outputs": [
    {
     "data": {
      "text/plain": [
       "<AxesSubplot:>"
      ]
     },
     "execution_count": 36,
     "metadata": {},
     "output_type": "execute_result"
    },
    {
     "data": {
      "image/png": "[encoded data removed]",
      "text/plain": [
       "<Figure size 432x288 with 1 Axes>"
      ]
     },
     "metadata": {
      "needs_background": "light"
     },
     "output_type": "display_data"
    }
   ],
   "source": [
    "# histogram on crime\n",
    "\n",
    "df[\"crime\"].hist()"
   ]
  },
  {
   "cell_type": "code",
   "execution_count": 37,
   "metadata": {},
   "outputs": [
    {
     "data": {
      "text/plain": [
       "array([[<AxesSubplot:xlabel='Unnamed: 0', ylabel='Unnamed: 0'>,\n",
       "        <AxesSubplot:xlabel='number', ylabel='Unnamed: 0'>,\n",
       "        <AxesSubplot:xlabel='lat', ylabel='Unnamed: 0'>,\n",
       "        <AxesSubplot:xlabel='long', ylabel='Unnamed: 0'>],\n",
       "       [<AxesSubplot:xlabel='Unnamed: 0', ylabel='number'>,\n",
       "        <AxesSubplot:xlabel='number', ylabel='number'>,\n",
       "        <AxesSubplot:xlabel='lat', ylabel='number'>,\n",
       "        <AxesSubplot:xlabel='long', ylabel='number'>],\n",
       "       [<AxesSubplot:xlabel='Unnamed: 0', ylabel='lat'>,\n",
       "        <AxesSubplot:xlabel='number', ylabel='lat'>,\n",
       "        <AxesSubplot:xlabel='lat', ylabel='lat'>,\n",
       "        <AxesSubplot:xlabel='long', ylabel='lat'>],\n",
       "       [<AxesSubplot:xlabel='Unnamed: 0', ylabel='long'>,\n",
       "        <AxesSubplot:xlabel='number', ylabel='long'>,\n",
       "        <AxesSubplot:xlabel='lat', ylabel='long'>,\n",
       "        <AxesSubplot:xlabel='long', ylabel='long'>]], dtype=object)"
      ]
     },
     "execution_count": 37,
     "metadata": {},
     "output_type": "execute_result"
    },
    {
     "data": {
      "image/png": "[encoded data removed]",
      "text/plain": [
       "<Figure size 432x432 with 16 Axes>"
      ]
     },
     "metadata": {
      "needs_background": "light"
     },
     "output_type": "display_data"
    }
   ],
   "source": [
    "# scatter matrix (alpha refers to amount of transparency, figsize refers to width and height of output)\n",
    "\n",
    "from pandas.plotting import scatter_matrix\n",
    "scatter_matrix(df,alpha=.1,figsize=(6,6))"
   ]
  },
  {
   "cell_type": "markdown",
   "metadata": {},
   "source": [
    "## Generate, plot and save the \"Donut Dataset\" with quadratic features\n",
    "1. create df with just (x1,x2,y)\n",
    "2. add x1^2,x2^2, and x1 * x2\n",
    "3. save csv without header row, index row"
   ]
  },
  {
   "cell_type": "code",
   "execution_count": 38,
   "metadata": {},
   "outputs": [],
   "source": [
    "x1s = [np.random.randint(-10,11) for i in range(200)]\n",
    "x2s = [np.random.randint(-10,11) for i in range(200)]\n",
    "ys = [np.random.randint(-10,11) for i in range(200)]"
   ]
  },
  {
   "cell_type": "code",
   "execution_count": 39,
   "metadata": {},
   "outputs": [
    {
     "data": {
      "text/plain": [
       "[[-1, 7, -9],\n",
       " [0, -6, 6],\n",
       " [-7, 4, -3],\n",
       " [-1, 7, -9],\n",
       " [-2, -5, 1],\n",
       " [5, -2, 3],\n",
       " [-6, -8, -2],\n",
       " [7, 6, 7],\n",
       " [-6, -8, -2],\n",
       " [1, -8, -8],\n",
       " [5, -2, 3],\n",
       " [5, -2, 3],\n",
       " [10, -3, 9],\n",
       " [3, -4, -3],\n",
       " [-5, 3, -8],\n",
       " [-10, -5, -8],\n",
       " [-4, 7, 3],\n",
       " [-2, -5, 1],\n",
       " [6, -5, -6],\n",
       " [-7, 4, -3],\n",
       " [-1, 7, -9],\n",
       " [-4, 7, 3],\n",
       " [-9, -2, 2],\n",
       " [2, 6, -2],\n",
       " [2, 6, -2],\n",
       " [-7, 4, -3],\n",
       " [-9, -2, 2],\n",
       " [-1, 7, -9],\n",
       " [-9, -2, 2],\n",
       " [-5, 3, -8],\n",
       " [5, -2, 3],\n",
       " [0, -6, 6],\n",
       " [-2, -5, 1],\n",
       " [-9, -2, 2],\n",
       " [4, -10, -8],\n",
       " [-2, -5, 1],\n",
       " [-9, -2, 2],\n",
       " [-8, 1, -4],\n",
       " [-1, 7, -9],\n",
       " [-4, 7, 3],\n",
       " [9, -10, -1],\n",
       " [10, -3, 9],\n",
       " [-6, -8, -2],\n",
       " [-4, 7, 3],\n",
       " [10, -3, 9],\n",
       " [-5, 3, -8],\n",
       " [5, -2, 3],\n",
       " [3, -4, -3],\n",
       " [-4, 7, 3],\n",
       " [5, -2, 3],\n",
       " [9, -10, -1],\n",
       " [-1, 7, -9],\n",
       " [2, 6, -2],\n",
       " [7, 6, 7],\n",
       " [-3, 9, -10],\n",
       " [5, -2, 3],\n",
       " [6, -5, -6],\n",
       " [-6, -8, -2],\n",
       " [9, -10, -1],\n",
       " [8, 0, -10],\n",
       " [10, -3, 9],\n",
       " [-6, -8, -2],\n",
       " [-9, -2, 2],\n",
       " [-4, 7, 3],\n",
       " [5, -2, 3],\n",
       " [1, -8, -8],\n",
       " [-8, 1, -4],\n",
       " [-1, 7, -9],\n",
       " [0, -6, 6],\n",
       " [2, 6, -2],\n",
       " [-9, -2, 2],\n",
       " [-7, 4, -3],\n",
       " [-9, -2, 2],\n",
       " [2, 6, -2],\n",
       " [9, -10, -1],\n",
       " [10, -3, 9],\n",
       " [0, -6, 6],\n",
       " [0, -6, 6],\n",
       " [-10, -5, -8],\n",
       " [1, -8, -8],\n",
       " [-2, -5, 1],\n",
       " [9, -10, -1],\n",
       " [8, 0, -10],\n",
       " [-1, 7, -9],\n",
       " [6, -5, -6],\n",
       " [3, -4, -3],\n",
       " [-8, 1, -4],\n",
       " [0, -6, 6],\n",
       " [6, -5, -6],\n",
       " [8, 0, -10],\n",
       " [-5, 3, -8],\n",
       " [9, -10, -1],\n",
       " [6, -5, -6],\n",
       " [-8, 1, -4],\n",
       " [4, -10, -8],\n",
       " [-1, 7, -9],\n",
       " [5, -2, 3],\n",
       " [0, -6, 6],\n",
       " [-9, -2, 2],\n",
       " [-5, 3, -8],\n",
       " [-5, 3, -8],\n",
       " [-5, 3, -8],\n",
       " [-6, -8, -2],\n",
       " [-4, 7, 3],\n",
       " [10, -3, 9],\n",
       " [10, -3, 9],\n",
       " [2, 6, -2],\n",
       " [1, -8, -8],\n",
       " [0, -6, 6],\n",
       " [1, -8, -8],\n",
       " [-5, 3, -8],\n",
       " [-1, 7, -9],\n",
       " [-2, -5, 1],\n",
       " [-7, 4, -3],\n",
       " [-3, 9, -10],\n",
       " [8, 0, -10],\n",
       " [9, -10, -1],\n",
       " [6, -5, -6],\n",
       " [-5, 3, -8],\n",
       " [3, -4, -3],\n",
       " [6, -5, -6],\n",
       " [-8, 1, -4],\n",
       " [-7, 4, -3],\n",
       " [10, -3, 9],\n",
       " [5, -2, 3],\n",
       " [-9, -2, 2],\n",
       " [-7, 4, -3],\n",
       " [-4, 7, 3],\n",
       " [7, 6, 7],\n",
       " [-3, 9, -10],\n",
       " [-4, 7, 3],\n",
       " [-7, 4, -3],\n",
       " [-7, 4, -3],\n",
       " [-3, 9, -10],\n",
       " [3, -4, -3],\n",
       " [-6, -8, -2],\n",
       " [8, 0, -10],\n",
       " [5, -2, 3],\n",
       " [-3, 9, -10],\n",
       " [-3, 9, -10],\n",
       " [3, -4, -3],\n",
       " [-2, -5, 1],\n",
       " [-3, 9, -10],\n",
       " [-10, -5, -8],\n",
       " [1, -8, -8],\n",
       " [3, -4, -3],\n",
       " [-7, 4, -3],\n",
       " [-4, 7, 3],\n",
       " [5, -2, 3],\n",
       " [6, -5, -6],\n",
       " [-10, -5, -8],\n",
       " [-10, -5, -8],\n",
       " [10, -3, 9],\n",
       " [-1, 7, -9],\n",
       " [6, -5, -6],\n",
       " [2, 6, -2],\n",
       " [2, 6, -2],\n",
       " [-8, 1, -4],\n",
       " [-4, 7, 3],\n",
       " [-8, 1, -4],\n",
       " [-6, -8, -2],\n",
       " [-3, 9, -10],\n",
       " [7, 6, 7],\n",
       " [-4, 7, 3],\n",
       " [-3, 9, -10],\n",
       " [-6, -8, -2],\n",
       " [6, -5, -6],\n",
       " [-7, 4, -3],\n",
       " [-1, 7, -9],\n",
       " [3, -4, -3],\n",
       " [0, -6, 6],\n",
       " [-2, -5, 1],\n",
       " [10, -3, 9],\n",
       " [-3, 9, -10],\n",
       " [-4, 7, 3],\n",
       " [2, 6, -2],\n",
       " [0, -6, 6],\n",
       " [-4, 7, 3],\n",
       " [-2, -5, 1],\n",
       " [-8, 1, -4],\n",
       " [4, -10, -8],\n",
       " [-2, -5, 1],\n",
       " [-9, -2, 2],\n",
       " [-6, -8, -2],\n",
       " [-10, -5, -8],\n",
       " [3, -4, -3],\n",
       " [2, 6, -2],\n",
       " [-6, -8, -2],\n",
       " [10, -3, 9],\n",
       " [-1, 7, -9],\n",
       " [-8, 1, -4],\n",
       " [8, 0, -10],\n",
       " [-4, 7, 3],\n",
       " [8, 0, -10],\n",
       " [5, -2, 3],\n",
       " [2, 6, -2],\n",
       " [6, -5, -6],\n",
       " [0, -6, 6],\n",
       " [2, 6, -2],\n",
       " [-1, 7, -9]]"
      ]
     },
     "execution_count": 39,
     "metadata": {},
     "output_type": "execute_result"
    }
   ],
   "source": [
    "test_data = []\n",
    "for i in x1s:\n",
    "  index = x1s.index(i)\n",
    "  test_data.append([x1s[index], x2s[index], ys[index]])\n",
    "test_data"
   ]
  },
  {
   "cell_type": "code",
   "execution_count": 40,
   "metadata": {},
   "outputs": [],
   "source": [
    "# create dataframe\n",
    "\n",
    "df = pd.DataFrame(test_data, columns=[\"x1\",\"x2\",\"y\"])"
   ]
  },
  {
   "cell_type": "code",
   "execution_count": 41,
   "metadata": {},
   "outputs": [],
   "source": [
    "def squared(n):\n",
    "  return n*n"
   ]
  },
  {
   "cell_type": "code",
   "execution_count": 42,
   "metadata": {},
   "outputs": [],
   "source": [
    "# add column based on prior information\n",
    "\n",
    "df = df.assign(x1sq=lambda x:x.x1*x.x1)\n",
    "df = df.assign(x2sq=lambda x:x.x2*x.x2)\n"
   ]
  },
  {
   "cell_type": "code",
   "execution_count": 43,
   "metadata": {},
   "outputs": [],
   "source": [
    "df = df.assign(x1x2=lambda x:x.x1*x.x2)"
   ]
  },
  {
   "cell_type": "code",
   "execution_count": 44,
   "metadata": {},
   "outputs": [
    {
     "data": {
      "text/html": [
       "<div>\n",
       "<style scoped>\n",
       "    .dataframe tbody tr th:only-of-type {\n",
       "        vertical-align: middle;\n",
       "    }\n",
       "\n",
       "    .dataframe tbody tr th {\n",
       "        vertical-align: top;\n",
       "    }\n",
       "\n",
       "    .dataframe thead th {\n",
       "        text-align: right;\n",
       "    }\n",
       "</style>\n",
       "<table border=\"1\" class=\"dataframe\">\n",
       "  <thead>\n",
       "    <tr style=\"text-align: right;\">\n",
       "      <th></th>\n",
       "      <th>x1</th>\n",
       "      <th>x2</th>\n",
       "      <th>y</th>\n",
       "      <th>x1sq</th>\n",
       "      <th>x2sq</th>\n",
       "      <th>x1x2</th>\n",
       "    </tr>\n",
       "  </thead>\n",
       "  <tbody>\n",
       "    <tr>\n",
       "      <th>0</th>\n",
       "      <td>-1</td>\n",
       "      <td>7</td>\n",
       "      <td>-9</td>\n",
       "      <td>1</td>\n",
       "      <td>49</td>\n",
       "      <td>-7</td>\n",
       "    </tr>\n",
       "    <tr>\n",
       "      <th>1</th>\n",
       "      <td>0</td>\n",
       "      <td>-6</td>\n",
       "      <td>6</td>\n",
       "      <td>0</td>\n",
       "      <td>36</td>\n",
       "      <td>0</td>\n",
       "    </tr>\n",
       "    <tr>\n",
       "      <th>2</th>\n",
       "      <td>-7</td>\n",
       "      <td>4</td>\n",
       "      <td>-3</td>\n",
       "      <td>49</td>\n",
       "      <td>16</td>\n",
       "      <td>-28</td>\n",
       "    </tr>\n",
       "    <tr>\n",
       "      <th>3</th>\n",
       "      <td>-1</td>\n",
       "      <td>7</td>\n",
       "      <td>-9</td>\n",
       "      <td>1</td>\n",
       "      <td>49</td>\n",
       "      <td>-7</td>\n",
       "    </tr>\n",
       "    <tr>\n",
       "      <th>4</th>\n",
       "      <td>-2</td>\n",
       "      <td>-5</td>\n",
       "      <td>1</td>\n",
       "      <td>4</td>\n",
       "      <td>25</td>\n",
       "      <td>10</td>\n",
       "    </tr>\n",
       "    <tr>\n",
       "      <th>...</th>\n",
       "      <td>...</td>\n",
       "      <td>...</td>\n",
       "      <td>...</td>\n",
       "      <td>...</td>\n",
       "      <td>...</td>\n",
       "      <td>...</td>\n",
       "    </tr>\n",
       "    <tr>\n",
       "      <th>195</th>\n",
       "      <td>2</td>\n",
       "      <td>6</td>\n",
       "      <td>-2</td>\n",
       "      <td>4</td>\n",
       "      <td>36</td>\n",
       "      <td>12</td>\n",
       "    </tr>\n",
       "    <tr>\n",
       "      <th>196</th>\n",
       "      <td>6</td>\n",
       "      <td>-5</td>\n",
       "      <td>-6</td>\n",
       "      <td>36</td>\n",
       "      <td>25</td>\n",
       "      <td>-30</td>\n",
       "    </tr>\n",
       "    <tr>\n",
       "      <th>197</th>\n",
       "      <td>0</td>\n",
       "      <td>-6</td>\n",
       "      <td>6</td>\n",
       "      <td>0</td>\n",
       "      <td>36</td>\n",
       "      <td>0</td>\n",
       "    </tr>\n",
       "    <tr>\n",
       "      <th>198</th>\n",
       "      <td>2</td>\n",
       "      <td>6</td>\n",
       "      <td>-2</td>\n",
       "      <td>4</td>\n",
       "      <td>36</td>\n",
       "      <td>12</td>\n",
       "    </tr>\n",
       "    <tr>\n",
       "      <th>199</th>\n",
       "      <td>-1</td>\n",
       "      <td>7</td>\n",
       "      <td>-9</td>\n",
       "      <td>1</td>\n",
       "      <td>49</td>\n",
       "      <td>-7</td>\n",
       "    </tr>\n",
       "  </tbody>\n",
       "</table>\n",
       "<p>200 rows × 6 columns</p>\n",
       "</div>"
      ],
      "text/plain": [
       "     x1  x2  y  x1sq  x2sq  x1x2\n",
       "0    -1   7 -9     1    49    -7\n",
       "1     0  -6  6     0    36     0\n",
       "2    -7   4 -3    49    16   -28\n",
       "3    -1   7 -9     1    49    -7\n",
       "4    -2  -5  1     4    25    10\n",
       "..   ..  .. ..   ...   ...   ...\n",
       "195   2   6 -2     4    36    12\n",
       "196   6  -5 -6    36    25   -30\n",
       "197   0  -6  6     0    36     0\n",
       "198   2   6 -2     4    36    12\n",
       "199  -1   7 -9     1    49    -7\n",
       "\n",
       "[200 rows x 6 columns]"
      ]
     },
     "execution_count": 44,
     "metadata": {},
     "output_type": "execute_result"
    }
   ],
   "source": [
    "df"
   ]
  },
  {
   "cell_type": "code",
   "execution_count": 46,
   "metadata": {},
   "outputs": [],
   "source": [
    "df.to_csv(\"donut.csv\", header=False, index=None)"
   ]
  }
 ],
 "metadata": {
  "interpreter": {
   "hash": "aee8b7b246df8f9039afb4144a1f6fd8d2ca17a180786b69acc140d282b71a49"
  },
  "kernelspec": {
   "display_name": "Python 3.9.7 64-bit",
   "language": "python",
   "name": "python3"
  },
  "language_info": {
   "codemirror_mode": {
    "name": "ipython",
    "version": 3
   },
   "file_extension": ".py",
   "mimetype": "text/x-python",
   "name": "python",
   "nbconvert_exporter": "python",
   "pygments_lexer": "ipython3",
   "version": "3.9.7"
  },
  "orig_nbformat": 4
 },
 "nbformat": 4,
 "nbformat_minor": 2
}
